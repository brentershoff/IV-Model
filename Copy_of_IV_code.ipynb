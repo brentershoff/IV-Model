{
  "nbformat": 4,
  "nbformat_minor": 0,
  "metadata": {
    "colab": {
      "name": "Copy of IV code",
      "provenance": [],
      "collapsed_sections": [],
      "authorship_tag": "ABX9TyPmkcIbxZCgCLZJS1LPnj5L",
      "include_colab_link": true
    },
    "kernelspec": {
      "name": "ir",
      "display_name": "R"
    },
    "language_info": {
      "name": "R"
    }
  },
  "cells": [
    {
      "cell_type": "markdown",
      "metadata": {
        "id": "view-in-github",
        "colab_type": "text"
      },
      "source": [
        "<a href=\"https://colab.research.google.com/github/brentershoff/IV-Model/blob/main/Copy_of_IV_code.ipynb\" target=\"_parent\"><img src=\"https://colab.research.google.com/assets/colab-badge.svg\" alt=\"Open In Colab\"/></a>"
      ]
    },
    {
      "cell_type": "code",
      "metadata": {
        "colab": {
          "base_uri": "https://localhost:8080/"
        },
        "id": "ZiBaDYZuiXe4",
        "collapsed": true,
        "outputId": "43063773-597a-4173-a6bf-c77f5d7c0865"
      },
      "source": [
        "#install relevant packages\n",
        "\n",
        "install.packages(\"dplyr\")\n",
        "library(dplyr)\n",
        "library(ggplot2)\n",
        "install.packages(\"ivreg\")\n",
        "library(ivreg)\n",
        "install.packages(\"modelsummary\")\n",
        "library(modelsummary)\n",
        "install.packages(\"tableone\")\n",
        "library(tableone)\n",
        "install.packages(\"kableExtra\")\n",
        "library(kableExtra)\n",
        "install.packages(\"sensemakr\")\n",
        "library(sensemakr)\n",
        "\n",
        "#display\n",
        "\n",
        "options(repr.matrix.max.cols=150, repr.matrix.max.rows=200)\n"
      ],
      "execution_count": null,
      "outputs": [
        {
          "output_type": "stream",
          "name": "stderr",
          "text": [
            "Installing package into ‘/usr/local/lib/R/site-library’\n",
            "(as ‘lib’ is unspecified)\n",
            "\n",
            "\n",
            "Attaching package: ‘dplyr’\n",
            "\n",
            "\n",
            "The following objects are masked from ‘package:stats’:\n",
            "\n",
            "    filter, lag\n",
            "\n",
            "\n",
            "The following objects are masked from ‘package:base’:\n",
            "\n",
            "    intersect, setdiff, setequal, union\n",
            "\n",
            "\n",
            "Installing package into ‘/usr/local/lib/R/site-library’\n",
            "(as ‘lib’ is unspecified)\n",
            "\n",
            "also installing the dependencies ‘matrixStats’, ‘RcppArmadillo’, ‘numDeriv’, ‘SparseM’, ‘MatrixModels’, ‘conquer’, ‘sp’, ‘openxlsx’, ‘minqa’, ‘nloptr’, ‘RcppEigen’, ‘carData’, ‘abind’, ‘pbkrtest’, ‘quantreg’, ‘maptools’, ‘rio’, ‘lme4’, ‘zoo’, ‘car’, ‘Formula’, ‘lmtest’\n",
            "\n",
            "\n",
            "Installing package into ‘/usr/local/lib/R/site-library’\n",
            "(as ‘lib’ is unspecified)\n",
            "\n",
            "also installing the dependencies ‘webshot’, ‘bayestestR’, ‘datawizard’, ‘checkmate’, ‘insight’, ‘kableExtra’, ‘parameters’, ‘performance’, ‘tables’\n",
            "\n",
            "\n",
            "Installing package into ‘/usr/local/lib/R/site-library’\n",
            "(as ‘lib’ is unspecified)\n",
            "\n",
            "also installing the dependencies ‘gtools’, ‘mitools’, ‘proxy’, ‘gdata’, ‘survey’, ‘e1071’, ‘gmodels’, ‘labelled’\n",
            "\n",
            "\n",
            "Installing package into ‘/usr/local/lib/R/site-library’\n",
            "(as ‘lib’ is unspecified)\n",
            "\n",
            "\n",
            "Attaching package: ‘kableExtra’\n",
            "\n",
            "\n",
            "The following object is masked from ‘package:dplyr’:\n",
            "\n",
            "    group_rows\n",
            "\n",
            "\n",
            "Installing package into ‘/usr/local/lib/R/site-library’\n",
            "(as ‘lib’ is unspecified)\n",
            "\n",
            "See details in:\n",
            "\n",
            "Carlos Cinelli and Chad Hazlett (2020). Making Sense of Sensitivity: Extending Omitted Variable Bias. Journal of the Royal Statistical Society, Series B (Statistical Methodology).\n",
            "\n"
          ]
        }
      ]
    },
    {
      "cell_type": "code",
      "metadata": {
        "id": "OoPCF-UIi6Zb"
      },
      "source": [
        "#load original dataset\n",
        "dil=read.csv(\"dilex.csv\")"
      ],
      "execution_count": null,
      "outputs": []
    },
    {
      "cell_type": "code",
      "metadata": {
        "colab": {
          "base_uri": "https://localhost:8080/",
          "height": 148
        },
        "id": "7d6CGd0WjU6k",
        "outputId": "9bc27fc6-6cb5-4964-863a-1e0f6f458e87"
      },
      "source": [
        "#inspect how much data is missing in the original dataset\n",
        "dil%>%\n",
        "summarise_all(funs(sum(is.na(.))))"
      ],
      "execution_count": null,
      "outputs": [
        {
          "output_type": "display_data",
          "data": {
            "text/plain": [
              "  DAY_SINCE_INTERVENTION CASE_SRV_NAME ASA_SCORE ASA_EMERGENT WEIGHT_KG\n",
              "1 0                      0             140       0            45       \n",
              "  IDEAL_BODY_WEIGHT_KG BMI ANES_TYPE_HANDOFF DURATION AGE SEX FENTANYL_MG\n",
              "1 874                  163 0                 0        104 0   4136       \n",
              "  MORPHINE_MG HYDROMORPHONE_MG KETAMINE_GTT PONV_PPX_COUNT PONV_TX_COUNT\n",
              "1 19156       0                0            459            0            \n",
              "  FIRST_PAIN_SCORE LAST_PAIN_SCORE EQUIV_MSO4_IV_DOSE_60 EQUIV_MSO4_IV_DOSE_120\n",
              "1 839              839             8476                  13491                 \n",
              "  UCLA_LOC_GROUP HOURS_TO_REINTUBATION FLOOR_2_ICU_YN\n",
              "1 0              19141                 0             \n",
              "  POSTOP_MSO4_EQUIV_IV_TOTAL POSTOP_MSO4_EQUIV_PO_TOTAL POSTOP_OPIOIDS_PCA\n",
              "1 5790                       4298                       0                 \n",
              "  POSTOP_OPIOIDS_GTT MAX_PAIN_SCORE_DAY1 MAX_PAIN_SCORE_DAY2\n",
              "1 0                  476                 4578               \n",
              "  MAX_PAIN_SCORE_DAY3 MIN_PAIN_SCORE_DAY1 MIN_PAIN_SCORE_DAY2\n",
              "1 9448                476                 4578               \n",
              "  MIN_PAIN_SCORE_DAY3 AVG_PAIN_SCORE_DAY1 AVG_PAIN_SCORE_DAY2\n",
              "1 9448                476                 4578               \n",
              "  AVG_PAIN_SCORE_DAY3 MEDIAN_PAIN_SCORE_DAY1 MEDIAN_PAIN_SCORE_DAY2\n",
              "1 9448                476                    4578                  \n",
              "  MEDIAN_PAIN_SCORE_DAY3 MSO4_EQUIV_DOSE_IV_DAY1 MSO4_EQUIV_DOSE_IV_DAY2\n",
              "1 9448                   1529                    13669                  \n",
              "  MSO4_EQUIV_DOSE_IV_DAY3 MSO4_EQUIV_DOSE_PO_DAY1 MSO4_EQUIV_DOSE_PO_DAY2\n",
              "1 16375                   11282                   10076                  \n",
              "  MSO4_EQUIV_DOSE_PO_DAY3 COUNT_PAIN_SCORE_MILD_DAY1 COUNT_PAIN_SCORE_MILD_DAY2\n",
              "1 12711                   208                        4364                      \n",
              "  COUNT_PAIN_SCORE_MILD_DAY3 COUNT_PAIN_SCORE_MODERATE_DAY1\n",
              "1 9283                       208                           \n",
              "  COUNT_PAIN_SCORE_MODERATE_DAY2 COUNT_PAIN_SCORE_MODERATE_DAY3\n",
              "1 4364                           9283                          \n",
              "  COUNT_PAIN_SCORE_DAY1 COUNT_PAIN_SCORE_DAY2 COUNT_PAIN_SCORE_DAY3\n",
              "1 208                   4364                  9283                 \n",
              "  COUNT_PAIN_SCORE_GTE7_DAY1 COUNT_PAIN_SCORE_GTE7_DAY2\n",
              "1 208                        4364                      \n",
              "  COUNT_PAIN_SCORE_GTE7_DAY3 CAM_ICU_7A_7P_DAY1 CAM_ICU_7A_7P_DAY2\n",
              "1 9283                       0                  0                 \n",
              "  CAM_ICU_7A_7P_DAY3 CAM_ICU_7P_7A_DAY1 CAM_ICU_7P_7A_DAY2 CAM_ICU_7P_7A_DAY3\n",
              "1 0                  0                  0                  0                 \n",
              "  PCA_YN_DAY1 PCA_YN_DAY2 PCA_YN_DAY3 PCEA_YN_DAY1 PCEA_YN_DAY2 PCEA_YN_DAY3\n",
              "1 208         4364        9283        208          4364         9283        \n",
              "  TX_OPIOIDS_DAY1 TX_OPIOIDS_DAY2 TX_OPIOIDS_DAY3 TX_NSAIDS_DAY1 TX_NSAIDS_DAY2\n",
              "1 208             4364            9283            208            4364          \n",
              "  TX_NSAIDS_DAY3 TX_SSRI_SNRI_DAY1 TX_SSRI_SNRI_DAY2 TX_SSRI_SNRI_DAY3\n",
              "1 9283           208               4364              9283             \n",
              "  TX_MS_AGENTS_DAY1 TX_MS_AGENTS_DAY2 TX_MS_AGENTS_DAY3 TX_TRICYCLICS_DAY1\n",
              "1 208               4364              9283              208               \n",
              "  TX_TRICYCLICS_DAY2 TX_TRICYCLICS_DAY3 TX_NA_CHANNEL_BLK_DAY1\n",
              "1 4364               9283               208                   \n",
              "  TX_NA_CHANNEL_BLK_DAY2 TX_NA_CHANNEL_BLK_DAY3 TX_MUSC_RELAXANTS_DAY1\n",
              "1 4364                   9283                   208                   \n",
              "  TX_MUSC_RELAXANTS_DAY2 TX_MUSC_RELAXANTS_DAY3 TX_TYLENOL_DAY1 TX_TYLENOL_DAY2\n",
              "1 4364                   9283                   208             4364           \n",
              "  TX_TYLENOL_DAY3 LOS_DAYS LOS_HOURS PRE_ADMSN_PAIN_MGMT_YN ICU_HOURS\n",
              "1 9283            2        2         2                      2        \n",
              "  ICU_CALENDAR_DAYS FIRST_PAIN_SCORE.1 LAST_PAIN_SCORE.1 INPT_DEATH_YN\n",
              "1 2                 14                 14                2            \n",
              "  DISPOSITION DAYS_TO_NEXT_ADMSN DAYS_TO_NEXT_ER_VISIT PONV_FEMALE_YN\n",
              "1 0           8952               13812                 0             \n",
              "  PONV_NON_SMOKER_YN PONV_HX_PONV_YN PONV_HR_SURGERY_YN PONV_HR_PATIENT_YN\n",
              "1 0                  0               0                  0                 \n",
              "  ANES_PLAN_GENERAL_YN\n",
              "1 0                   "
            ],
            "text/latex": "A data.frame: 1 × 111\n\\begin{tabular}{lllllllllllllllllllllllllllllllllllllllllllllllllllllllllllllllllllllllllllllllllllllllllllllllllllllllllllllll}\n DAY\\_SINCE\\_INTERVENTION & CASE\\_SRV\\_NAME & ASA\\_SCORE & ASA\\_EMERGENT & WEIGHT\\_KG & IDEAL\\_BODY\\_WEIGHT\\_KG & BMI & ANES\\_TYPE\\_HANDOFF & DURATION & AGE & SEX & FENTANYL\\_MG & MORPHINE\\_MG & HYDROMORPHONE\\_MG & KETAMINE\\_GTT & PONV\\_PPX\\_COUNT & PONV\\_TX\\_COUNT & FIRST\\_PAIN\\_SCORE & LAST\\_PAIN\\_SCORE & EQUIV\\_MSO4\\_IV\\_DOSE\\_60 & EQUIV\\_MSO4\\_IV\\_DOSE\\_120 & UCLA\\_LOC\\_GROUP & HOURS\\_TO\\_REINTUBATION & FLOOR\\_2\\_ICU\\_YN & POSTOP\\_MSO4\\_EQUIV\\_IV\\_TOTAL & POSTOP\\_MSO4\\_EQUIV\\_PO\\_TOTAL & POSTOP\\_OPIOIDS\\_PCA & POSTOP\\_OPIOIDS\\_GTT & MAX\\_PAIN\\_SCORE\\_DAY1 & MAX\\_PAIN\\_SCORE\\_DAY2 & MAX\\_PAIN\\_SCORE\\_DAY3 & MIN\\_PAIN\\_SCORE\\_DAY1 & MIN\\_PAIN\\_SCORE\\_DAY2 & MIN\\_PAIN\\_SCORE\\_DAY3 & AVG\\_PAIN\\_SCORE\\_DAY1 & AVG\\_PAIN\\_SCORE\\_DAY2 & AVG\\_PAIN\\_SCORE\\_DAY3 & MEDIAN\\_PAIN\\_SCORE\\_DAY1 & MEDIAN\\_PAIN\\_SCORE\\_DAY2 & MEDIAN\\_PAIN\\_SCORE\\_DAY3 & MSO4\\_EQUIV\\_DOSE\\_IV\\_DAY1 & MSO4\\_EQUIV\\_DOSE\\_IV\\_DAY2 & MSO4\\_EQUIV\\_DOSE\\_IV\\_DAY3 & MSO4\\_EQUIV\\_DOSE\\_PO\\_DAY1 & MSO4\\_EQUIV\\_DOSE\\_PO\\_DAY2 & MSO4\\_EQUIV\\_DOSE\\_PO\\_DAY3 & COUNT\\_PAIN\\_SCORE\\_MILD\\_DAY1 & COUNT\\_PAIN\\_SCORE\\_MILD\\_DAY2 & COUNT\\_PAIN\\_SCORE\\_MILD\\_DAY3 & COUNT\\_PAIN\\_SCORE\\_MODERATE\\_DAY1 & COUNT\\_PAIN\\_SCORE\\_MODERATE\\_DAY2 & COUNT\\_PAIN\\_SCORE\\_MODERATE\\_DAY3 & COUNT\\_PAIN\\_SCORE\\_DAY1 & COUNT\\_PAIN\\_SCORE\\_DAY2 & COUNT\\_PAIN\\_SCORE\\_DAY3 & COUNT\\_PAIN\\_SCORE\\_GTE7\\_DAY1 & COUNT\\_PAIN\\_SCORE\\_GTE7\\_DAY2 & COUNT\\_PAIN\\_SCORE\\_GTE7\\_DAY3 & CAM\\_ICU\\_7A\\_7P\\_DAY1 & CAM\\_ICU\\_7A\\_7P\\_DAY2 & CAM\\_ICU\\_7A\\_7P\\_DAY3 & CAM\\_ICU\\_7P\\_7A\\_DAY1 & CAM\\_ICU\\_7P\\_7A\\_DAY2 & CAM\\_ICU\\_7P\\_7A\\_DAY3 & PCA\\_YN\\_DAY1 & PCA\\_YN\\_DAY2 & PCA\\_YN\\_DAY3 & PCEA\\_YN\\_DAY1 & PCEA\\_YN\\_DAY2 & PCEA\\_YN\\_DAY3 & TX\\_OPIOIDS\\_DAY1 & TX\\_OPIOIDS\\_DAY2 & TX\\_OPIOIDS\\_DAY3 & TX\\_NSAIDS\\_DAY1 & TX\\_NSAIDS\\_DAY2 & TX\\_NSAIDS\\_DAY3 & TX\\_SSRI\\_SNRI\\_DAY1 & TX\\_SSRI\\_SNRI\\_DAY2 & TX\\_SSRI\\_SNRI\\_DAY3 & TX\\_MS\\_AGENTS\\_DAY1 & TX\\_MS\\_AGENTS\\_DAY2 & TX\\_MS\\_AGENTS\\_DAY3 & TX\\_TRICYCLICS\\_DAY1 & TX\\_TRICYCLICS\\_DAY2 & TX\\_TRICYCLICS\\_DAY3 & TX\\_NA\\_CHANNEL\\_BLK\\_DAY1 & TX\\_NA\\_CHANNEL\\_BLK\\_DAY2 & TX\\_NA\\_CHANNEL\\_BLK\\_DAY3 & TX\\_MUSC\\_RELAXANTS\\_DAY1 & TX\\_MUSC\\_RELAXANTS\\_DAY2 & TX\\_MUSC\\_RELAXANTS\\_DAY3 & TX\\_TYLENOL\\_DAY1 & TX\\_TYLENOL\\_DAY2 & TX\\_TYLENOL\\_DAY3 & LOS\\_DAYS & LOS\\_HOURS & PRE\\_ADMSN\\_PAIN\\_MGMT\\_YN & ICU\\_HOURS & ICU\\_CALENDAR\\_DAYS & FIRST\\_PAIN\\_SCORE.1 & LAST\\_PAIN\\_SCORE.1 & INPT\\_DEATH\\_YN & DISPOSITION & DAYS\\_TO\\_NEXT\\_ADMSN & DAYS\\_TO\\_NEXT\\_ER\\_VISIT & PONV\\_FEMALE\\_YN & PONV\\_NON\\_SMOKER\\_YN & PONV\\_HX\\_PONV\\_YN & PONV\\_HR\\_SURGERY\\_YN & PONV\\_HR\\_PATIENT\\_YN & ANES\\_PLAN\\_GENERAL\\_YN\\\\\n <int> & <int> & <int> & <int> & <int> & <int> & <int> & <int> & <int> & <int> & <int> & <int> & <int> & <int> & <int> & <int> & <int> & <int> & <int> & <int> & <int> & <int> & <int> & <int> & <int> & <int> & <int> & <int> & <int> & <int> & <int> & <int> & <int> & <int> & <int> & <int> & <int> & <int> & <int> & <int> & <int> & <int> & <int> & <int> & <int> & <int> & <int> & <int> & <int> & <int> & <int> & <int> & <int> & <int> & <int> & <int> & <int> & <int> & <int> & <int> & <int> & <int> & <int> & <int> & <int> & <int> & <int> & <int> & <int> & <int> & <int> & <int> & <int> & <int> & <int> & <int> & <int> & <int> & <int> & <int> & <int> & <int> & <int> & <int> & <int> & <int> & <int> & <int> & <int> & <int> & <int> & <int> & <int> & <int> & <int> & <int> & <int> & <int> & <int> & <int> & <int> & <int> & <int> & <int> & <int> & <int> & <int> & <int> & <int> & <int> & <int>\\\\\n\\hline\n\t 0 & 0 & 140 & 0 & 45 & 874 & 163 & 0 & 0 & 104 & 0 & 4136 & 19156 & 0 & 0 & 459 & 0 & 839 & 839 & 8476 & 13491 & 0 & 19141 & 0 & 5790 & 4298 & 0 & 0 & 476 & 4578 & 9448 & 476 & 4578 & 9448 & 476 & 4578 & 9448 & 476 & 4578 & 9448 & 1529 & 13669 & 16375 & 11282 & 10076 & 12711 & 208 & 4364 & 9283 & 208 & 4364 & 9283 & 208 & 4364 & 9283 & 208 & 4364 & 9283 & 0 & 0 & 0 & 0 & 0 & 0 & 208 & 4364 & 9283 & 208 & 4364 & 9283 & 208 & 4364 & 9283 & 208 & 4364 & 9283 & 208 & 4364 & 9283 & 208 & 4364 & 9283 & 208 & 4364 & 9283 & 208 & 4364 & 9283 & 208 & 4364 & 9283 & 208 & 4364 & 9283 & 2 & 2 & 2 & 2 & 2 & 14 & 14 & 2 & 0 & 8952 & 13812 & 0 & 0 & 0 & 0 & 0 & 0\\\\\n\\end{tabular}\n",
            "text/markdown": "\nA data.frame: 1 × 111\n\n| DAY_SINCE_INTERVENTION &lt;int&gt; | CASE_SRV_NAME &lt;int&gt; | ASA_SCORE &lt;int&gt; | ASA_EMERGENT &lt;int&gt; | WEIGHT_KG &lt;int&gt; | IDEAL_BODY_WEIGHT_KG &lt;int&gt; | BMI &lt;int&gt; | ANES_TYPE_HANDOFF &lt;int&gt; | DURATION &lt;int&gt; | AGE &lt;int&gt; | SEX &lt;int&gt; | FENTANYL_MG &lt;int&gt; | MORPHINE_MG &lt;int&gt; | HYDROMORPHONE_MG &lt;int&gt; | KETAMINE_GTT &lt;int&gt; | PONV_PPX_COUNT &lt;int&gt; | PONV_TX_COUNT &lt;int&gt; | FIRST_PAIN_SCORE &lt;int&gt; | LAST_PAIN_SCORE &lt;int&gt; | EQUIV_MSO4_IV_DOSE_60 &lt;int&gt; | EQUIV_MSO4_IV_DOSE_120 &lt;int&gt; | UCLA_LOC_GROUP &lt;int&gt; | HOURS_TO_REINTUBATION &lt;int&gt; | FLOOR_2_ICU_YN &lt;int&gt; | POSTOP_MSO4_EQUIV_IV_TOTAL &lt;int&gt; | POSTOP_MSO4_EQUIV_PO_TOTAL &lt;int&gt; | POSTOP_OPIOIDS_PCA &lt;int&gt; | POSTOP_OPIOIDS_GTT &lt;int&gt; | MAX_PAIN_SCORE_DAY1 &lt;int&gt; | MAX_PAIN_SCORE_DAY2 &lt;int&gt; | MAX_PAIN_SCORE_DAY3 &lt;int&gt; | MIN_PAIN_SCORE_DAY1 &lt;int&gt; | MIN_PAIN_SCORE_DAY2 &lt;int&gt; | MIN_PAIN_SCORE_DAY3 &lt;int&gt; | AVG_PAIN_SCORE_DAY1 &lt;int&gt; | AVG_PAIN_SCORE_DAY2 &lt;int&gt; | AVG_PAIN_SCORE_DAY3 &lt;int&gt; | MEDIAN_PAIN_SCORE_DAY1 &lt;int&gt; | MEDIAN_PAIN_SCORE_DAY2 &lt;int&gt; | MEDIAN_PAIN_SCORE_DAY3 &lt;int&gt; | MSO4_EQUIV_DOSE_IV_DAY1 &lt;int&gt; | MSO4_EQUIV_DOSE_IV_DAY2 &lt;int&gt; | MSO4_EQUIV_DOSE_IV_DAY3 &lt;int&gt; | MSO4_EQUIV_DOSE_PO_DAY1 &lt;int&gt; | MSO4_EQUIV_DOSE_PO_DAY2 &lt;int&gt; | MSO4_EQUIV_DOSE_PO_DAY3 &lt;int&gt; | COUNT_PAIN_SCORE_MILD_DAY1 &lt;int&gt; | COUNT_PAIN_SCORE_MILD_DAY2 &lt;int&gt; | COUNT_PAIN_SCORE_MILD_DAY3 &lt;int&gt; | COUNT_PAIN_SCORE_MODERATE_DAY1 &lt;int&gt; | COUNT_PAIN_SCORE_MODERATE_DAY2 &lt;int&gt; | COUNT_PAIN_SCORE_MODERATE_DAY3 &lt;int&gt; | COUNT_PAIN_SCORE_DAY1 &lt;int&gt; | COUNT_PAIN_SCORE_DAY2 &lt;int&gt; | COUNT_PAIN_SCORE_DAY3 &lt;int&gt; | COUNT_PAIN_SCORE_GTE7_DAY1 &lt;int&gt; | COUNT_PAIN_SCORE_GTE7_DAY2 &lt;int&gt; | COUNT_PAIN_SCORE_GTE7_DAY3 &lt;int&gt; | CAM_ICU_7A_7P_DAY1 &lt;int&gt; | CAM_ICU_7A_7P_DAY2 &lt;int&gt; | CAM_ICU_7A_7P_DAY3 &lt;int&gt; | CAM_ICU_7P_7A_DAY1 &lt;int&gt; | CAM_ICU_7P_7A_DAY2 &lt;int&gt; | CAM_ICU_7P_7A_DAY3 &lt;int&gt; | PCA_YN_DAY1 &lt;int&gt; | PCA_YN_DAY2 &lt;int&gt; | PCA_YN_DAY3 &lt;int&gt; | PCEA_YN_DAY1 &lt;int&gt; | PCEA_YN_DAY2 &lt;int&gt; | PCEA_YN_DAY3 &lt;int&gt; | TX_OPIOIDS_DAY1 &lt;int&gt; | TX_OPIOIDS_DAY2 &lt;int&gt; | TX_OPIOIDS_DAY3 &lt;int&gt; | TX_NSAIDS_DAY1 &lt;int&gt; | TX_NSAIDS_DAY2 &lt;int&gt; | TX_NSAIDS_DAY3 &lt;int&gt; | TX_SSRI_SNRI_DAY1 &lt;int&gt; | TX_SSRI_SNRI_DAY2 &lt;int&gt; | TX_SSRI_SNRI_DAY3 &lt;int&gt; | TX_MS_AGENTS_DAY1 &lt;int&gt; | TX_MS_AGENTS_DAY2 &lt;int&gt; | TX_MS_AGENTS_DAY3 &lt;int&gt; | TX_TRICYCLICS_DAY1 &lt;int&gt; | TX_TRICYCLICS_DAY2 &lt;int&gt; | TX_TRICYCLICS_DAY3 &lt;int&gt; | TX_NA_CHANNEL_BLK_DAY1 &lt;int&gt; | TX_NA_CHANNEL_BLK_DAY2 &lt;int&gt; | TX_NA_CHANNEL_BLK_DAY3 &lt;int&gt; | TX_MUSC_RELAXANTS_DAY1 &lt;int&gt; | TX_MUSC_RELAXANTS_DAY2 &lt;int&gt; | TX_MUSC_RELAXANTS_DAY3 &lt;int&gt; | TX_TYLENOL_DAY1 &lt;int&gt; | TX_TYLENOL_DAY2 &lt;int&gt; | TX_TYLENOL_DAY3 &lt;int&gt; | LOS_DAYS &lt;int&gt; | LOS_HOURS &lt;int&gt; | PRE_ADMSN_PAIN_MGMT_YN &lt;int&gt; | ICU_HOURS &lt;int&gt; | ICU_CALENDAR_DAYS &lt;int&gt; | FIRST_PAIN_SCORE.1 &lt;int&gt; | LAST_PAIN_SCORE.1 &lt;int&gt; | INPT_DEATH_YN &lt;int&gt; | DISPOSITION &lt;int&gt; | DAYS_TO_NEXT_ADMSN &lt;int&gt; | DAYS_TO_NEXT_ER_VISIT &lt;int&gt; | PONV_FEMALE_YN &lt;int&gt; | PONV_NON_SMOKER_YN &lt;int&gt; | PONV_HX_PONV_YN &lt;int&gt; | PONV_HR_SURGERY_YN &lt;int&gt; | PONV_HR_PATIENT_YN &lt;int&gt; | ANES_PLAN_GENERAL_YN &lt;int&gt; |\n|---|---|---|---|---|---|---|---|---|---|---|---|---|---|---|---|---|---|---|---|---|---|---|---|---|---|---|---|---|---|---|---|---|---|---|---|---|---|---|---|---|---|---|---|---|---|---|---|---|---|---|---|---|---|---|---|---|---|---|---|---|---|---|---|---|---|---|---|---|---|---|---|---|---|---|---|---|---|---|---|---|---|---|---|---|---|---|---|---|---|---|---|---|---|---|---|---|---|---|---|---|---|---|---|---|---|---|---|---|---|---|\n| 0 | 0 | 140 | 0 | 45 | 874 | 163 | 0 | 0 | 104 | 0 | 4136 | 19156 | 0 | 0 | 459 | 0 | 839 | 839 | 8476 | 13491 | 0 | 19141 | 0 | 5790 | 4298 | 0 | 0 | 476 | 4578 | 9448 | 476 | 4578 | 9448 | 476 | 4578 | 9448 | 476 | 4578 | 9448 | 1529 | 13669 | 16375 | 11282 | 10076 | 12711 | 208 | 4364 | 9283 | 208 | 4364 | 9283 | 208 | 4364 | 9283 | 208 | 4364 | 9283 | 0 | 0 | 0 | 0 | 0 | 0 | 208 | 4364 | 9283 | 208 | 4364 | 9283 | 208 | 4364 | 9283 | 208 | 4364 | 9283 | 208 | 4364 | 9283 | 208 | 4364 | 9283 | 208 | 4364 | 9283 | 208 | 4364 | 9283 | 208 | 4364 | 9283 | 208 | 4364 | 9283 | 2 | 2 | 2 | 2 | 2 | 14 | 14 | 2 | 0 | 8952 | 13812 | 0 | 0 | 0 | 0 | 0 | 0 |\n\n",
            "text/html": [
              "<table class=\"dataframe\">\n",
              "<caption>A data.frame: 1 × 111</caption>\n",
              "<thead>\n",
              "\t<tr><th scope=col>DAY_SINCE_INTERVENTION</th><th scope=col>CASE_SRV_NAME</th><th scope=col>ASA_SCORE</th><th scope=col>ASA_EMERGENT</th><th scope=col>WEIGHT_KG</th><th scope=col>IDEAL_BODY_WEIGHT_KG</th><th scope=col>BMI</th><th scope=col>ANES_TYPE_HANDOFF</th><th scope=col>DURATION</th><th scope=col>AGE</th><th scope=col>SEX</th><th scope=col>FENTANYL_MG</th><th scope=col>MORPHINE_MG</th><th scope=col>HYDROMORPHONE_MG</th><th scope=col>KETAMINE_GTT</th><th scope=col>PONV_PPX_COUNT</th><th scope=col>PONV_TX_COUNT</th><th scope=col>FIRST_PAIN_SCORE</th><th scope=col>LAST_PAIN_SCORE</th><th scope=col>EQUIV_MSO4_IV_DOSE_60</th><th scope=col>EQUIV_MSO4_IV_DOSE_120</th><th scope=col>UCLA_LOC_GROUP</th><th scope=col>HOURS_TO_REINTUBATION</th><th scope=col>FLOOR_2_ICU_YN</th><th scope=col>POSTOP_MSO4_EQUIV_IV_TOTAL</th><th scope=col>POSTOP_MSO4_EQUIV_PO_TOTAL</th><th scope=col>POSTOP_OPIOIDS_PCA</th><th scope=col>POSTOP_OPIOIDS_GTT</th><th scope=col>MAX_PAIN_SCORE_DAY1</th><th scope=col>MAX_PAIN_SCORE_DAY2</th><th scope=col>MAX_PAIN_SCORE_DAY3</th><th scope=col>MIN_PAIN_SCORE_DAY1</th><th scope=col>MIN_PAIN_SCORE_DAY2</th><th scope=col>MIN_PAIN_SCORE_DAY3</th><th scope=col>AVG_PAIN_SCORE_DAY1</th><th scope=col>AVG_PAIN_SCORE_DAY2</th><th scope=col>AVG_PAIN_SCORE_DAY3</th><th scope=col>MEDIAN_PAIN_SCORE_DAY1</th><th scope=col>MEDIAN_PAIN_SCORE_DAY2</th><th scope=col>MEDIAN_PAIN_SCORE_DAY3</th><th scope=col>MSO4_EQUIV_DOSE_IV_DAY1</th><th scope=col>MSO4_EQUIV_DOSE_IV_DAY2</th><th scope=col>MSO4_EQUIV_DOSE_IV_DAY3</th><th scope=col>MSO4_EQUIV_DOSE_PO_DAY1</th><th scope=col>MSO4_EQUIV_DOSE_PO_DAY2</th><th scope=col>MSO4_EQUIV_DOSE_PO_DAY3</th><th scope=col>COUNT_PAIN_SCORE_MILD_DAY1</th><th scope=col>COUNT_PAIN_SCORE_MILD_DAY2</th><th scope=col>COUNT_PAIN_SCORE_MILD_DAY3</th><th scope=col>COUNT_PAIN_SCORE_MODERATE_DAY1</th><th scope=col>COUNT_PAIN_SCORE_MODERATE_DAY2</th><th scope=col>COUNT_PAIN_SCORE_MODERATE_DAY3</th><th scope=col>COUNT_PAIN_SCORE_DAY1</th><th scope=col>COUNT_PAIN_SCORE_DAY2</th><th scope=col>COUNT_PAIN_SCORE_DAY3</th><th scope=col>COUNT_PAIN_SCORE_GTE7_DAY1</th><th scope=col>COUNT_PAIN_SCORE_GTE7_DAY2</th><th scope=col>COUNT_PAIN_SCORE_GTE7_DAY3</th><th scope=col>CAM_ICU_7A_7P_DAY1</th><th scope=col>CAM_ICU_7A_7P_DAY2</th><th scope=col>CAM_ICU_7A_7P_DAY3</th><th scope=col>CAM_ICU_7P_7A_DAY1</th><th scope=col>CAM_ICU_7P_7A_DAY2</th><th scope=col>CAM_ICU_7P_7A_DAY3</th><th scope=col>PCA_YN_DAY1</th><th scope=col>PCA_YN_DAY2</th><th scope=col>PCA_YN_DAY3</th><th scope=col>PCEA_YN_DAY1</th><th scope=col>PCEA_YN_DAY2</th><th scope=col>PCEA_YN_DAY3</th><th scope=col>TX_OPIOIDS_DAY1</th><th scope=col>TX_OPIOIDS_DAY2</th><th scope=col>TX_OPIOIDS_DAY3</th><th scope=col>TX_NSAIDS_DAY1</th><th scope=col>TX_NSAIDS_DAY2</th><th scope=col>TX_NSAIDS_DAY3</th><th scope=col>TX_SSRI_SNRI_DAY1</th><th scope=col>TX_SSRI_SNRI_DAY2</th><th scope=col>TX_SSRI_SNRI_DAY3</th><th scope=col>TX_MS_AGENTS_DAY1</th><th scope=col>TX_MS_AGENTS_DAY2</th><th scope=col>TX_MS_AGENTS_DAY3</th><th scope=col>TX_TRICYCLICS_DAY1</th><th scope=col>TX_TRICYCLICS_DAY2</th><th scope=col>TX_TRICYCLICS_DAY3</th><th scope=col>TX_NA_CHANNEL_BLK_DAY1</th><th scope=col>TX_NA_CHANNEL_BLK_DAY2</th><th scope=col>TX_NA_CHANNEL_BLK_DAY3</th><th scope=col>TX_MUSC_RELAXANTS_DAY1</th><th scope=col>TX_MUSC_RELAXANTS_DAY2</th><th scope=col>TX_MUSC_RELAXANTS_DAY3</th><th scope=col>TX_TYLENOL_DAY1</th><th scope=col>TX_TYLENOL_DAY2</th><th scope=col>TX_TYLENOL_DAY3</th><th scope=col>LOS_DAYS</th><th scope=col>LOS_HOURS</th><th scope=col>PRE_ADMSN_PAIN_MGMT_YN</th><th scope=col>ICU_HOURS</th><th scope=col>ICU_CALENDAR_DAYS</th><th scope=col>FIRST_PAIN_SCORE.1</th><th scope=col>LAST_PAIN_SCORE.1</th><th scope=col>INPT_DEATH_YN</th><th scope=col>DISPOSITION</th><th scope=col>DAYS_TO_NEXT_ADMSN</th><th scope=col>DAYS_TO_NEXT_ER_VISIT</th><th scope=col>PONV_FEMALE_YN</th><th scope=col>PONV_NON_SMOKER_YN</th><th scope=col>PONV_HX_PONV_YN</th><th scope=col>PONV_HR_SURGERY_YN</th><th scope=col>PONV_HR_PATIENT_YN</th><th scope=col>ANES_PLAN_GENERAL_YN</th></tr>\n",
              "\t<tr><th scope=col>&lt;int&gt;</th><th scope=col>&lt;int&gt;</th><th scope=col>&lt;int&gt;</th><th scope=col>&lt;int&gt;</th><th scope=col>&lt;int&gt;</th><th scope=col>&lt;int&gt;</th><th scope=col>&lt;int&gt;</th><th scope=col>&lt;int&gt;</th><th scope=col>&lt;int&gt;</th><th scope=col>&lt;int&gt;</th><th scope=col>&lt;int&gt;</th><th scope=col>&lt;int&gt;</th><th scope=col>&lt;int&gt;</th><th scope=col>&lt;int&gt;</th><th scope=col>&lt;int&gt;</th><th scope=col>&lt;int&gt;</th><th scope=col>&lt;int&gt;</th><th scope=col>&lt;int&gt;</th><th scope=col>&lt;int&gt;</th><th scope=col>&lt;int&gt;</th><th scope=col>&lt;int&gt;</th><th scope=col>&lt;int&gt;</th><th scope=col>&lt;int&gt;</th><th scope=col>&lt;int&gt;</th><th scope=col>&lt;int&gt;</th><th scope=col>&lt;int&gt;</th><th scope=col>&lt;int&gt;</th><th scope=col>&lt;int&gt;</th><th scope=col>&lt;int&gt;</th><th scope=col>&lt;int&gt;</th><th scope=col>&lt;int&gt;</th><th scope=col>&lt;int&gt;</th><th scope=col>&lt;int&gt;</th><th scope=col>&lt;int&gt;</th><th scope=col>&lt;int&gt;</th><th scope=col>&lt;int&gt;</th><th scope=col>&lt;int&gt;</th><th scope=col>&lt;int&gt;</th><th scope=col>&lt;int&gt;</th><th scope=col>&lt;int&gt;</th><th scope=col>&lt;int&gt;</th><th scope=col>&lt;int&gt;</th><th scope=col>&lt;int&gt;</th><th scope=col>&lt;int&gt;</th><th scope=col>&lt;int&gt;</th><th scope=col>&lt;int&gt;</th><th scope=col>&lt;int&gt;</th><th scope=col>&lt;int&gt;</th><th scope=col>&lt;int&gt;</th><th scope=col>&lt;int&gt;</th><th scope=col>&lt;int&gt;</th><th scope=col>&lt;int&gt;</th><th scope=col>&lt;int&gt;</th><th scope=col>&lt;int&gt;</th><th scope=col>&lt;int&gt;</th><th scope=col>&lt;int&gt;</th><th scope=col>&lt;int&gt;</th><th scope=col>&lt;int&gt;</th><th scope=col>&lt;int&gt;</th><th scope=col>&lt;int&gt;</th><th scope=col>&lt;int&gt;</th><th scope=col>&lt;int&gt;</th><th scope=col>&lt;int&gt;</th><th scope=col>&lt;int&gt;</th><th scope=col>&lt;int&gt;</th><th scope=col>&lt;int&gt;</th><th scope=col>&lt;int&gt;</th><th scope=col>&lt;int&gt;</th><th scope=col>&lt;int&gt;</th><th scope=col>&lt;int&gt;</th><th scope=col>&lt;int&gt;</th><th scope=col>&lt;int&gt;</th><th scope=col>&lt;int&gt;</th><th scope=col>&lt;int&gt;</th><th scope=col>&lt;int&gt;</th><th scope=col>&lt;int&gt;</th><th scope=col>&lt;int&gt;</th><th scope=col>&lt;int&gt;</th><th scope=col>&lt;int&gt;</th><th scope=col>&lt;int&gt;</th><th scope=col>&lt;int&gt;</th><th scope=col>&lt;int&gt;</th><th scope=col>&lt;int&gt;</th><th scope=col>&lt;int&gt;</th><th scope=col>&lt;int&gt;</th><th scope=col>&lt;int&gt;</th><th scope=col>&lt;int&gt;</th><th scope=col>&lt;int&gt;</th><th scope=col>&lt;int&gt;</th><th scope=col>&lt;int&gt;</th><th scope=col>&lt;int&gt;</th><th scope=col>&lt;int&gt;</th><th scope=col>&lt;int&gt;</th><th scope=col>&lt;int&gt;</th><th scope=col>&lt;int&gt;</th><th scope=col>&lt;int&gt;</th><th scope=col>&lt;int&gt;</th><th scope=col>&lt;int&gt;</th><th scope=col>&lt;int&gt;</th><th scope=col>&lt;int&gt;</th><th scope=col>&lt;int&gt;</th><th scope=col>&lt;int&gt;</th><th scope=col>&lt;int&gt;</th><th scope=col>&lt;int&gt;</th><th scope=col>&lt;int&gt;</th><th scope=col>&lt;int&gt;</th><th scope=col>&lt;int&gt;</th><th scope=col>&lt;int&gt;</th><th scope=col>&lt;int&gt;</th><th scope=col>&lt;int&gt;</th><th scope=col>&lt;int&gt;</th></tr>\n",
              "</thead>\n",
              "<tbody>\n",
              "\t<tr><td>0</td><td>0</td><td>140</td><td>0</td><td>45</td><td>874</td><td>163</td><td>0</td><td>0</td><td>104</td><td>0</td><td>4136</td><td>19156</td><td>0</td><td>0</td><td>459</td><td>0</td><td>839</td><td>839</td><td>8476</td><td>13491</td><td>0</td><td>19141</td><td>0</td><td>5790</td><td>4298</td><td>0</td><td>0</td><td>476</td><td>4578</td><td>9448</td><td>476</td><td>4578</td><td>9448</td><td>476</td><td>4578</td><td>9448</td><td>476</td><td>4578</td><td>9448</td><td>1529</td><td>13669</td><td>16375</td><td>11282</td><td>10076</td><td>12711</td><td>208</td><td>4364</td><td>9283</td><td>208</td><td>4364</td><td>9283</td><td>208</td><td>4364</td><td>9283</td><td>208</td><td>4364</td><td>9283</td><td>0</td><td>0</td><td>0</td><td>0</td><td>0</td><td>0</td><td>208</td><td>4364</td><td>9283</td><td>208</td><td>4364</td><td>9283</td><td>208</td><td>4364</td><td>9283</td><td>208</td><td>4364</td><td>9283</td><td>208</td><td>4364</td><td>9283</td><td>208</td><td>4364</td><td>9283</td><td>208</td><td>4364</td><td>9283</td><td>208</td><td>4364</td><td>9283</td><td>208</td><td>4364</td><td>9283</td><td>208</td><td>4364</td><td>9283</td><td>2</td><td>2</td><td>2</td><td>2</td><td>2</td><td>14</td><td>14</td><td>2</td><td>0</td><td>8952</td><td>13812</td><td>0</td><td>0</td><td>0</td><td>0</td><td>0</td><td>0</td></tr>\n",
              "</tbody>\n",
              "</table>\n"
            ]
          },
          "metadata": {}
        }
      ]
    },
    {
      "cell_type": "code",
      "metadata": {
        "id": "RgML35-XjD-u"
      },
      "source": [
        "#filter, remove outliers, and recode some variables\n",
        "\n",
        "dil=dil%>%\n",
        "filter(AGE>=18)%>% #only include patients >=18 years of age\n",
        "#I will assume that if value for post-op opioids is missing, then if a pain score is present for that time, then the missing value indicates that \n",
        "#zero opioids were given.\n",
        "mutate(MSO4_EQUIV_DOSE_IV_DAY1=ifelse(is.na(MSO4_EQUIV_DOSE_IV_DAY1)&!is.na(MAX_PAIN_SCORE_DAY1),0,MSO4_EQUIV_DOSE_IV_DAY1))%>% \n",
        "mutate(MSO4_EQUIV_DOSE_IV_DAY2=ifelse(is.na(MSO4_EQUIV_DOSE_IV_DAY2)&!is.na(MAX_PAIN_SCORE_DAY2),0,MSO4_EQUIV_DOSE_IV_DAY2))%>%\n",
        "mutate(MSO4_EQUIV_DOSE_PO_DAY1=ifelse(is.na(MSO4_EQUIV_DOSE_PO_DAY1)&!is.na(MAX_PAIN_SCORE_DAY1),0,MSO4_EQUIV_DOSE_PO_DAY1))%>%\n",
        "mutate(MSO4_EQUIV_DOSE_PO_DAY2=ifelse(is.na(MSO4_EQUIV_DOSE_PO_DAY2)&!is.na(MAX_PAIN_SCORE_DAY2),0,MSO4_EQUIV_DOSE_PO_DAY2))%>%\n",
        "mutate(EQUIV_MSO4_IV_DOSE_60=ifelse(is.na(EQUIV_MSO4_IV_DOSE_60)&!is.na(FIRST_PAIN_SCORE),0,EQUIV_MSO4_IV_DOSE_60))%>%\n",
        "mutate(EQUIV_MSO4_IV_DOSE_120=ifelse(is.na(EQUIV_MSO4_IV_DOSE_120)&!is.na(FIRST_PAIN_SCORE),0,EQUIV_MSO4_IV_DOSE_120))%>%\n",
        "mutate(POSTOP_MSO4_EQUIV_IV_TOTAL=ifelse(is.na(POSTOP_MSO4_EQUIV_IV_TOTAL)&!is.na(FIRST_PAIN_SCORE),0,POSTOP_MSO4_EQUIV_IV_TOTAL))%>%\n",
        "mutate(POSTOP_MSO4_EQUIV_PO_TOTAL=ifelse(is.na(POSTOP_MSO4_EQUIV_PO_TOTAL)&!is.na(FIRST_PAIN_SCORE),0,POSTOP_MSO4_EQUIV_PO_TOTAL))%>%\n",
        "mutate(FENTANYL_MG=ifelse(is.na(FENTANYL_MG),0,FENTANYL_MG))%>%\n",
        "#when fentanyl is missing, it means that 0 fentanyl was given intraoperatively\n",
        "mutate(ANES_TYPE_HANDOFF=ifelse(ANES_TYPE_HANDOFF==\"GENERAL\",1,0))%>%\n",
        "#I create a variable \"general\" which is 1 if the patient had only general, and 0 otherwise\n",
        "filter(HYDROMORPHONE_MG<40)%>%\n",
        "#There were a few errors in diaudid doses, I removed values where dilaudid was >40 and value where it was exactly 11.2 \n",
        "filter(HYDROMORPHONE_MG!=11.2)%>%\n",
        "filter(BMI<120)%>% #120 #as these are likely errors where weight went into the BMI field\n",
        "filter(UCLA_LOC_GROUP==\"RR OR\"|UCLA_LOC_GROUP==\"SM OR\")%>%\n",
        "filter(DURATION<1500)%>%\n",
        "\n",
        "\n",
        "mutate(case=1)%>%\n",
        "mutate(case=ifelse(CASE_SRV_NAME==\"Dentistry-Hospital\"|CASE_SRV_NAME==\"Pediatrics, Hematology and Oncology\"|\n",
        "                   CASE_SRV_NAME==\"Medicine, Hematology and Oncology\"|CASE_SRV_NAME==\"Ophthalmology\"|\n",
        "                   CASE_SRV_NAME==\"Podiatry\"|CASE_SRV_NAME==\"Radiology\"|CASE_SRV_NAME==\"Medicine, Gastroenterology\"\n",
        "                   |CASE_SRV_NAME==\"Medicine, Pulmonary Disease\",2,case))%>%\n",
        "mutate(case=ifelse(CASE_SRV_NAME==\"Surgery, Cardiac\",0,case))"
      ],
      "execution_count": null,
      "outputs": []
    },
    {
      "cell_type": "code",
      "metadata": {
        "colab": {
          "base_uri": "https://localhost:8080/",
          "height": 148
        },
        "id": "5D92IUY9kAav",
        "outputId": "b8d5067f-f379-459e-e065-aab4c74749c2"
      },
      "source": [
        "#how much missing data in the new dataset\n",
        "dil%>%\n",
        "summarise_all(funs(sum(is.na(.))))"
      ],
      "execution_count": null,
      "outputs": [
        {
          "output_type": "display_data",
          "data": {
            "text/plain": [
              "  DAY_SINCE_INTERVENTION CASE_SRV_NAME ASA_SCORE ASA_EMERGENT WEIGHT_KG\n",
              "1 0                      0             39        0            0        \n",
              "  IDEAL_BODY_WEIGHT_KG BMI ANES_TYPE_HANDOFF DURATION AGE SEX FENTANYL_MG\n",
              "1 172                  0   0                 0        0   0   0          \n",
              "  MORPHINE_MG HYDROMORPHONE_MG KETAMINE_GTT PONV_PPX_COUNT PONV_TX_COUNT\n",
              "1 6735        0                0            103            0            \n",
              "  FIRST_PAIN_SCORE LAST_PAIN_SCORE EQUIV_MSO4_IV_DOSE_60 EQUIV_MSO4_IV_DOSE_120\n",
              "1 246              246             156                   199                   \n",
              "  UCLA_LOC_GROUP HOURS_TO_REINTUBATION FLOOR_2_ICU_YN\n",
              "1 0              6717                  0             \n",
              "  POSTOP_MSO4_EQUIV_IV_TOTAL POSTOP_MSO4_EQUIV_PO_TOTAL POSTOP_OPIOIDS_PCA\n",
              "1 82                         38                         0                 \n",
              "  POSTOP_OPIOIDS_GTT MAX_PAIN_SCORE_DAY1 MAX_PAIN_SCORE_DAY2\n",
              "1 0                  89                  868                \n",
              "  MAX_PAIN_SCORE_DAY3 MIN_PAIN_SCORE_DAY1 MIN_PAIN_SCORE_DAY2\n",
              "1 2619                89                  868                \n",
              "  MIN_PAIN_SCORE_DAY3 AVG_PAIN_SCORE_DAY1 AVG_PAIN_SCORE_DAY2\n",
              "1 2619                89                  868                \n",
              "  AVG_PAIN_SCORE_DAY3 MEDIAN_PAIN_SCORE_DAY1 MEDIAN_PAIN_SCORE_DAY2\n",
              "1 2619                89                     868                   \n",
              "  MEDIAN_PAIN_SCORE_DAY3 MSO4_EQUIV_DOSE_IV_DAY1 MSO4_EQUIV_DOSE_IV_DAY2\n",
              "1 2619                   50                      841                    \n",
              "  MSO4_EQUIV_DOSE_IV_DAY3 MSO4_EQUIV_DOSE_PO_DAY1 MSO4_EQUIV_DOSE_PO_DAY2\n",
              "1 5502                    86                      861                    \n",
              "  MSO4_EQUIV_DOSE_PO_DAY3 COUNT_PAIN_SCORE_MILD_DAY1 COUNT_PAIN_SCORE_MILD_DAY2\n",
              "1 3947                    0                          795                       \n",
              "  COUNT_PAIN_SCORE_MILD_DAY3 COUNT_PAIN_SCORE_MODERATE_DAY1\n",
              "1 2563                       0                             \n",
              "  COUNT_PAIN_SCORE_MODERATE_DAY2 COUNT_PAIN_SCORE_MODERATE_DAY3\n",
              "1 795                            2563                          \n",
              "  COUNT_PAIN_SCORE_DAY1 COUNT_PAIN_SCORE_DAY2 COUNT_PAIN_SCORE_DAY3\n",
              "1 0                     795                   2563                 \n",
              "  COUNT_PAIN_SCORE_GTE7_DAY1 COUNT_PAIN_SCORE_GTE7_DAY2\n",
              "1 0                          795                       \n",
              "  COUNT_PAIN_SCORE_GTE7_DAY3 CAM_ICU_7A_7P_DAY1 CAM_ICU_7A_7P_DAY2\n",
              "1 2563                       0                  0                 \n",
              "  CAM_ICU_7A_7P_DAY3 CAM_ICU_7P_7A_DAY1 CAM_ICU_7P_7A_DAY2 CAM_ICU_7P_7A_DAY3\n",
              "1 0                  0                  0                  0                 \n",
              "  PCA_YN_DAY1 PCA_YN_DAY2 PCA_YN_DAY3 PCEA_YN_DAY1 PCEA_YN_DAY2 PCEA_YN_DAY3\n",
              "1 0           795         2563        0            795          2563        \n",
              "  TX_OPIOIDS_DAY1 TX_OPIOIDS_DAY2 TX_OPIOIDS_DAY3 TX_NSAIDS_DAY1 TX_NSAIDS_DAY2\n",
              "1 0               795             2563            0              795           \n",
              "  TX_NSAIDS_DAY3 TX_SSRI_SNRI_DAY1 TX_SSRI_SNRI_DAY2 TX_SSRI_SNRI_DAY3\n",
              "1 2563           0                 795               2563             \n",
              "  TX_MS_AGENTS_DAY1 TX_MS_AGENTS_DAY2 TX_MS_AGENTS_DAY3 TX_TRICYCLICS_DAY1\n",
              "1 0                 795               2563              0                 \n",
              "  TX_TRICYCLICS_DAY2 TX_TRICYCLICS_DAY3 TX_NA_CHANNEL_BLK_DAY1\n",
              "1 795                2563               0                     \n",
              "  TX_NA_CHANNEL_BLK_DAY2 TX_NA_CHANNEL_BLK_DAY3 TX_MUSC_RELAXANTS_DAY1\n",
              "1 795                    2563                   0                     \n",
              "  TX_MUSC_RELAXANTS_DAY2 TX_MUSC_RELAXANTS_DAY3 TX_TYLENOL_DAY1 TX_TYLENOL_DAY2\n",
              "1 795                    2563                   0               795            \n",
              "  TX_TYLENOL_DAY3 LOS_DAYS LOS_HOURS PRE_ADMSN_PAIN_MGMT_YN ICU_HOURS\n",
              "1 2563            0        0         0                      0        \n",
              "  ICU_CALENDAR_DAYS FIRST_PAIN_SCORE.1 LAST_PAIN_SCORE.1 INPT_DEATH_YN\n",
              "1 0                 0                  0                 0            \n",
              "  DISPOSITION DAYS_TO_NEXT_ADMSN DAYS_TO_NEXT_ER_VISIT PONV_FEMALE_YN\n",
              "1 0           3047               4731                  0             \n",
              "  PONV_NON_SMOKER_YN PONV_HX_PONV_YN PONV_HR_SURGERY_YN PONV_HR_PATIENT_YN\n",
              "1 0                  0               0                  0                 \n",
              "  ANES_PLAN_GENERAL_YN case cat\n",
              "1 0                    0    0  "
            ],
            "text/latex": "A data.frame: 1 × 113\n\\begin{tabular}{lllllllllllllllllllllllllllllllllllllllllllllllllllllllllllllllllllllllllllllllllllllllllllllllllllllllllllllllll}\n DAY\\_SINCE\\_INTERVENTION & CASE\\_SRV\\_NAME & ASA\\_SCORE & ASA\\_EMERGENT & WEIGHT\\_KG & IDEAL\\_BODY\\_WEIGHT\\_KG & BMI & ANES\\_TYPE\\_HANDOFF & DURATION & AGE & SEX & FENTANYL\\_MG & MORPHINE\\_MG & HYDROMORPHONE\\_MG & KETAMINE\\_GTT & PONV\\_PPX\\_COUNT & PONV\\_TX\\_COUNT & FIRST\\_PAIN\\_SCORE & LAST\\_PAIN\\_SCORE & EQUIV\\_MSO4\\_IV\\_DOSE\\_60 & EQUIV\\_MSO4\\_IV\\_DOSE\\_120 & UCLA\\_LOC\\_GROUP & HOURS\\_TO\\_REINTUBATION & FLOOR\\_2\\_ICU\\_YN & POSTOP\\_MSO4\\_EQUIV\\_IV\\_TOTAL & POSTOP\\_MSO4\\_EQUIV\\_PO\\_TOTAL & POSTOP\\_OPIOIDS\\_PCA & POSTOP\\_OPIOIDS\\_GTT & MAX\\_PAIN\\_SCORE\\_DAY1 & MAX\\_PAIN\\_SCORE\\_DAY2 & MAX\\_PAIN\\_SCORE\\_DAY3 & MIN\\_PAIN\\_SCORE\\_DAY1 & MIN\\_PAIN\\_SCORE\\_DAY2 & MIN\\_PAIN\\_SCORE\\_DAY3 & AVG\\_PAIN\\_SCORE\\_DAY1 & AVG\\_PAIN\\_SCORE\\_DAY2 & AVG\\_PAIN\\_SCORE\\_DAY3 & MEDIAN\\_PAIN\\_SCORE\\_DAY1 & MEDIAN\\_PAIN\\_SCORE\\_DAY2 & MEDIAN\\_PAIN\\_SCORE\\_DAY3 & MSO4\\_EQUIV\\_DOSE\\_IV\\_DAY1 & MSO4\\_EQUIV\\_DOSE\\_IV\\_DAY2 & MSO4\\_EQUIV\\_DOSE\\_IV\\_DAY3 & MSO4\\_EQUIV\\_DOSE\\_PO\\_DAY1 & MSO4\\_EQUIV\\_DOSE\\_PO\\_DAY2 & MSO4\\_EQUIV\\_DOSE\\_PO\\_DAY3 & COUNT\\_PAIN\\_SCORE\\_MILD\\_DAY1 & COUNT\\_PAIN\\_SCORE\\_MILD\\_DAY2 & COUNT\\_PAIN\\_SCORE\\_MILD\\_DAY3 & COUNT\\_PAIN\\_SCORE\\_MODERATE\\_DAY1 & COUNT\\_PAIN\\_SCORE\\_MODERATE\\_DAY2 & COUNT\\_PAIN\\_SCORE\\_MODERATE\\_DAY3 & COUNT\\_PAIN\\_SCORE\\_DAY1 & COUNT\\_PAIN\\_SCORE\\_DAY2 & COUNT\\_PAIN\\_SCORE\\_DAY3 & COUNT\\_PAIN\\_SCORE\\_GTE7\\_DAY1 & COUNT\\_PAIN\\_SCORE\\_GTE7\\_DAY2 & COUNT\\_PAIN\\_SCORE\\_GTE7\\_DAY3 & CAM\\_ICU\\_7A\\_7P\\_DAY1 & CAM\\_ICU\\_7A\\_7P\\_DAY2 & CAM\\_ICU\\_7A\\_7P\\_DAY3 & CAM\\_ICU\\_7P\\_7A\\_DAY1 & CAM\\_ICU\\_7P\\_7A\\_DAY2 & CAM\\_ICU\\_7P\\_7A\\_DAY3 & PCA\\_YN\\_DAY1 & PCA\\_YN\\_DAY2 & PCA\\_YN\\_DAY3 & PCEA\\_YN\\_DAY1 & PCEA\\_YN\\_DAY2 & PCEA\\_YN\\_DAY3 & TX\\_OPIOIDS\\_DAY1 & TX\\_OPIOIDS\\_DAY2 & TX\\_OPIOIDS\\_DAY3 & TX\\_NSAIDS\\_DAY1 & TX\\_NSAIDS\\_DAY2 & TX\\_NSAIDS\\_DAY3 & TX\\_SSRI\\_SNRI\\_DAY1 & TX\\_SSRI\\_SNRI\\_DAY2 & TX\\_SSRI\\_SNRI\\_DAY3 & TX\\_MS\\_AGENTS\\_DAY1 & TX\\_MS\\_AGENTS\\_DAY2 & TX\\_MS\\_AGENTS\\_DAY3 & TX\\_TRICYCLICS\\_DAY1 & TX\\_TRICYCLICS\\_DAY2 & TX\\_TRICYCLICS\\_DAY3 & TX\\_NA\\_CHANNEL\\_BLK\\_DAY1 & TX\\_NA\\_CHANNEL\\_BLK\\_DAY2 & TX\\_NA\\_CHANNEL\\_BLK\\_DAY3 & TX\\_MUSC\\_RELAXANTS\\_DAY1 & TX\\_MUSC\\_RELAXANTS\\_DAY2 & TX\\_MUSC\\_RELAXANTS\\_DAY3 & TX\\_TYLENOL\\_DAY1 & TX\\_TYLENOL\\_DAY2 & TX\\_TYLENOL\\_DAY3 & LOS\\_DAYS & LOS\\_HOURS & PRE\\_ADMSN\\_PAIN\\_MGMT\\_YN & ICU\\_HOURS & ICU\\_CALENDAR\\_DAYS & FIRST\\_PAIN\\_SCORE.1 & LAST\\_PAIN\\_SCORE.1 & INPT\\_DEATH\\_YN & DISPOSITION & DAYS\\_TO\\_NEXT\\_ADMSN & DAYS\\_TO\\_NEXT\\_ER\\_VISIT & PONV\\_FEMALE\\_YN & PONV\\_NON\\_SMOKER\\_YN & PONV\\_HX\\_PONV\\_YN & PONV\\_HR\\_SURGERY\\_YN & PONV\\_HR\\_PATIENT\\_YN & ANES\\_PLAN\\_GENERAL\\_YN & case & cat\\\\\n <int> & <int> & <int> & <int> & <int> & <int> & <int> & <int> & <int> & <int> & <int> & <int> & <int> & <int> & <int> & <int> & <int> & <int> & <int> & <int> & <int> & <int> & <int> & <int> & <int> & <int> & <int> & <int> & <int> & <int> & <int> & <int> & <int> & <int> & <int> & <int> & <int> & <int> & <int> & <int> & <int> & <int> & <int> & <int> & <int> & <int> & <int> & <int> & <int> & <int> & <int> & <int> & <int> & <int> & <int> & <int> & <int> & <int> & <int> & <int> & <int> & <int> & <int> & <int> & <int> & <int> & <int> & <int> & <int> & <int> & <int> & <int> & <int> & <int> & <int> & <int> & <int> & <int> & <int> & <int> & <int> & <int> & <int> & <int> & <int> & <int> & <int> & <int> & <int> & <int> & <int> & <int> & <int> & <int> & <int> & <int> & <int> & <int> & <int> & <int> & <int> & <int> & <int> & <int> & <int> & <int> & <int> & <int> & <int> & <int> & <int> & <int> & <int>\\\\\n\\hline\n\t 0 & 0 & 39 & 0 & 0 & 172 & 0 & 0 & 0 & 0 & 0 & 0 & 6735 & 0 & 0 & 103 & 0 & 246 & 246 & 156 & 199 & 0 & 6717 & 0 & 82 & 38 & 0 & 0 & 89 & 868 & 2619 & 89 & 868 & 2619 & 89 & 868 & 2619 & 89 & 868 & 2619 & 50 & 841 & 5502 & 86 & 861 & 3947 & 0 & 795 & 2563 & 0 & 795 & 2563 & 0 & 795 & 2563 & 0 & 795 & 2563 & 0 & 0 & 0 & 0 & 0 & 0 & 0 & 795 & 2563 & 0 & 795 & 2563 & 0 & 795 & 2563 & 0 & 795 & 2563 & 0 & 795 & 2563 & 0 & 795 & 2563 & 0 & 795 & 2563 & 0 & 795 & 2563 & 0 & 795 & 2563 & 0 & 795 & 2563 & 0 & 0 & 0 & 0 & 0 & 0 & 0 & 0 & 0 & 3047 & 4731 & 0 & 0 & 0 & 0 & 0 & 0 & 0 & 0\\\\\n\\end{tabular}\n",
            "text/markdown": "\nA data.frame: 1 × 113\n\n| DAY_SINCE_INTERVENTION &lt;int&gt; | CASE_SRV_NAME &lt;int&gt; | ASA_SCORE &lt;int&gt; | ASA_EMERGENT &lt;int&gt; | WEIGHT_KG &lt;int&gt; | IDEAL_BODY_WEIGHT_KG &lt;int&gt; | BMI &lt;int&gt; | ANES_TYPE_HANDOFF &lt;int&gt; | DURATION &lt;int&gt; | AGE &lt;int&gt; | SEX &lt;int&gt; | FENTANYL_MG &lt;int&gt; | MORPHINE_MG &lt;int&gt; | HYDROMORPHONE_MG &lt;int&gt; | KETAMINE_GTT &lt;int&gt; | PONV_PPX_COUNT &lt;int&gt; | PONV_TX_COUNT &lt;int&gt; | FIRST_PAIN_SCORE &lt;int&gt; | LAST_PAIN_SCORE &lt;int&gt; | EQUIV_MSO4_IV_DOSE_60 &lt;int&gt; | EQUIV_MSO4_IV_DOSE_120 &lt;int&gt; | UCLA_LOC_GROUP &lt;int&gt; | HOURS_TO_REINTUBATION &lt;int&gt; | FLOOR_2_ICU_YN &lt;int&gt; | POSTOP_MSO4_EQUIV_IV_TOTAL &lt;int&gt; | POSTOP_MSO4_EQUIV_PO_TOTAL &lt;int&gt; | POSTOP_OPIOIDS_PCA &lt;int&gt; | POSTOP_OPIOIDS_GTT &lt;int&gt; | MAX_PAIN_SCORE_DAY1 &lt;int&gt; | MAX_PAIN_SCORE_DAY2 &lt;int&gt; | MAX_PAIN_SCORE_DAY3 &lt;int&gt; | MIN_PAIN_SCORE_DAY1 &lt;int&gt; | MIN_PAIN_SCORE_DAY2 &lt;int&gt; | MIN_PAIN_SCORE_DAY3 &lt;int&gt; | AVG_PAIN_SCORE_DAY1 &lt;int&gt; | AVG_PAIN_SCORE_DAY2 &lt;int&gt; | AVG_PAIN_SCORE_DAY3 &lt;int&gt; | MEDIAN_PAIN_SCORE_DAY1 &lt;int&gt; | MEDIAN_PAIN_SCORE_DAY2 &lt;int&gt; | MEDIAN_PAIN_SCORE_DAY3 &lt;int&gt; | MSO4_EQUIV_DOSE_IV_DAY1 &lt;int&gt; | MSO4_EQUIV_DOSE_IV_DAY2 &lt;int&gt; | MSO4_EQUIV_DOSE_IV_DAY3 &lt;int&gt; | MSO4_EQUIV_DOSE_PO_DAY1 &lt;int&gt; | MSO4_EQUIV_DOSE_PO_DAY2 &lt;int&gt; | MSO4_EQUIV_DOSE_PO_DAY3 &lt;int&gt; | COUNT_PAIN_SCORE_MILD_DAY1 &lt;int&gt; | COUNT_PAIN_SCORE_MILD_DAY2 &lt;int&gt; | COUNT_PAIN_SCORE_MILD_DAY3 &lt;int&gt; | COUNT_PAIN_SCORE_MODERATE_DAY1 &lt;int&gt; | COUNT_PAIN_SCORE_MODERATE_DAY2 &lt;int&gt; | COUNT_PAIN_SCORE_MODERATE_DAY3 &lt;int&gt; | COUNT_PAIN_SCORE_DAY1 &lt;int&gt; | COUNT_PAIN_SCORE_DAY2 &lt;int&gt; | COUNT_PAIN_SCORE_DAY3 &lt;int&gt; | COUNT_PAIN_SCORE_GTE7_DAY1 &lt;int&gt; | COUNT_PAIN_SCORE_GTE7_DAY2 &lt;int&gt; | COUNT_PAIN_SCORE_GTE7_DAY3 &lt;int&gt; | CAM_ICU_7A_7P_DAY1 &lt;int&gt; | CAM_ICU_7A_7P_DAY2 &lt;int&gt; | CAM_ICU_7A_7P_DAY3 &lt;int&gt; | CAM_ICU_7P_7A_DAY1 &lt;int&gt; | CAM_ICU_7P_7A_DAY2 &lt;int&gt; | CAM_ICU_7P_7A_DAY3 &lt;int&gt; | PCA_YN_DAY1 &lt;int&gt; | PCA_YN_DAY2 &lt;int&gt; | PCA_YN_DAY3 &lt;int&gt; | PCEA_YN_DAY1 &lt;int&gt; | PCEA_YN_DAY2 &lt;int&gt; | PCEA_YN_DAY3 &lt;int&gt; | TX_OPIOIDS_DAY1 &lt;int&gt; | TX_OPIOIDS_DAY2 &lt;int&gt; | TX_OPIOIDS_DAY3 &lt;int&gt; | TX_NSAIDS_DAY1 &lt;int&gt; | TX_NSAIDS_DAY2 &lt;int&gt; | TX_NSAIDS_DAY3 &lt;int&gt; | TX_SSRI_SNRI_DAY1 &lt;int&gt; | TX_SSRI_SNRI_DAY2 &lt;int&gt; | TX_SSRI_SNRI_DAY3 &lt;int&gt; | TX_MS_AGENTS_DAY1 &lt;int&gt; | TX_MS_AGENTS_DAY2 &lt;int&gt; | TX_MS_AGENTS_DAY3 &lt;int&gt; | TX_TRICYCLICS_DAY1 &lt;int&gt; | TX_TRICYCLICS_DAY2 &lt;int&gt; | TX_TRICYCLICS_DAY3 &lt;int&gt; | TX_NA_CHANNEL_BLK_DAY1 &lt;int&gt; | TX_NA_CHANNEL_BLK_DAY2 &lt;int&gt; | TX_NA_CHANNEL_BLK_DAY3 &lt;int&gt; | TX_MUSC_RELAXANTS_DAY1 &lt;int&gt; | TX_MUSC_RELAXANTS_DAY2 &lt;int&gt; | TX_MUSC_RELAXANTS_DAY3 &lt;int&gt; | TX_TYLENOL_DAY1 &lt;int&gt; | TX_TYLENOL_DAY2 &lt;int&gt; | TX_TYLENOL_DAY3 &lt;int&gt; | LOS_DAYS &lt;int&gt; | LOS_HOURS &lt;int&gt; | PRE_ADMSN_PAIN_MGMT_YN &lt;int&gt; | ICU_HOURS &lt;int&gt; | ICU_CALENDAR_DAYS &lt;int&gt; | FIRST_PAIN_SCORE.1 &lt;int&gt; | LAST_PAIN_SCORE.1 &lt;int&gt; | INPT_DEATH_YN &lt;int&gt; | DISPOSITION &lt;int&gt; | DAYS_TO_NEXT_ADMSN &lt;int&gt; | DAYS_TO_NEXT_ER_VISIT &lt;int&gt; | PONV_FEMALE_YN &lt;int&gt; | PONV_NON_SMOKER_YN &lt;int&gt; | PONV_HX_PONV_YN &lt;int&gt; | PONV_HR_SURGERY_YN &lt;int&gt; | PONV_HR_PATIENT_YN &lt;int&gt; | ANES_PLAN_GENERAL_YN &lt;int&gt; | case &lt;int&gt; | cat &lt;int&gt; |\n|---|---|---|---|---|---|---|---|---|---|---|---|---|---|---|---|---|---|---|---|---|---|---|---|---|---|---|---|---|---|---|---|---|---|---|---|---|---|---|---|---|---|---|---|---|---|---|---|---|---|---|---|---|---|---|---|---|---|---|---|---|---|---|---|---|---|---|---|---|---|---|---|---|---|---|---|---|---|---|---|---|---|---|---|---|---|---|---|---|---|---|---|---|---|---|---|---|---|---|---|---|---|---|---|---|---|---|---|---|---|---|---|---|\n| 0 | 0 | 39 | 0 | 0 | 172 | 0 | 0 | 0 | 0 | 0 | 0 | 6735 | 0 | 0 | 103 | 0 | 246 | 246 | 156 | 199 | 0 | 6717 | 0 | 82 | 38 | 0 | 0 | 89 | 868 | 2619 | 89 | 868 | 2619 | 89 | 868 | 2619 | 89 | 868 | 2619 | 50 | 841 | 5502 | 86 | 861 | 3947 | 0 | 795 | 2563 | 0 | 795 | 2563 | 0 | 795 | 2563 | 0 | 795 | 2563 | 0 | 0 | 0 | 0 | 0 | 0 | 0 | 795 | 2563 | 0 | 795 | 2563 | 0 | 795 | 2563 | 0 | 795 | 2563 | 0 | 795 | 2563 | 0 | 795 | 2563 | 0 | 795 | 2563 | 0 | 795 | 2563 | 0 | 795 | 2563 | 0 | 795 | 2563 | 0 | 0 | 0 | 0 | 0 | 0 | 0 | 0 | 0 | 3047 | 4731 | 0 | 0 | 0 | 0 | 0 | 0 | 0 | 0 |\n\n",
            "text/html": [
              "<table class=\"dataframe\">\n",
              "<caption>A data.frame: 1 × 113</caption>\n",
              "<thead>\n",
              "\t<tr><th scope=col>DAY_SINCE_INTERVENTION</th><th scope=col>CASE_SRV_NAME</th><th scope=col>ASA_SCORE</th><th scope=col>ASA_EMERGENT</th><th scope=col>WEIGHT_KG</th><th scope=col>IDEAL_BODY_WEIGHT_KG</th><th scope=col>BMI</th><th scope=col>ANES_TYPE_HANDOFF</th><th scope=col>DURATION</th><th scope=col>AGE</th><th scope=col>SEX</th><th scope=col>FENTANYL_MG</th><th scope=col>MORPHINE_MG</th><th scope=col>HYDROMORPHONE_MG</th><th scope=col>KETAMINE_GTT</th><th scope=col>PONV_PPX_COUNT</th><th scope=col>PONV_TX_COUNT</th><th scope=col>FIRST_PAIN_SCORE</th><th scope=col>LAST_PAIN_SCORE</th><th scope=col>EQUIV_MSO4_IV_DOSE_60</th><th scope=col>EQUIV_MSO4_IV_DOSE_120</th><th scope=col>UCLA_LOC_GROUP</th><th scope=col>HOURS_TO_REINTUBATION</th><th scope=col>FLOOR_2_ICU_YN</th><th scope=col>POSTOP_MSO4_EQUIV_IV_TOTAL</th><th scope=col>POSTOP_MSO4_EQUIV_PO_TOTAL</th><th scope=col>POSTOP_OPIOIDS_PCA</th><th scope=col>POSTOP_OPIOIDS_GTT</th><th scope=col>MAX_PAIN_SCORE_DAY1</th><th scope=col>MAX_PAIN_SCORE_DAY2</th><th scope=col>MAX_PAIN_SCORE_DAY3</th><th scope=col>MIN_PAIN_SCORE_DAY1</th><th scope=col>MIN_PAIN_SCORE_DAY2</th><th scope=col>MIN_PAIN_SCORE_DAY3</th><th scope=col>AVG_PAIN_SCORE_DAY1</th><th scope=col>AVG_PAIN_SCORE_DAY2</th><th scope=col>AVG_PAIN_SCORE_DAY3</th><th scope=col>MEDIAN_PAIN_SCORE_DAY1</th><th scope=col>MEDIAN_PAIN_SCORE_DAY2</th><th scope=col>MEDIAN_PAIN_SCORE_DAY3</th><th scope=col>MSO4_EQUIV_DOSE_IV_DAY1</th><th scope=col>MSO4_EQUIV_DOSE_IV_DAY2</th><th scope=col>MSO4_EQUIV_DOSE_IV_DAY3</th><th scope=col>MSO4_EQUIV_DOSE_PO_DAY1</th><th scope=col>MSO4_EQUIV_DOSE_PO_DAY2</th><th scope=col>MSO4_EQUIV_DOSE_PO_DAY3</th><th scope=col>COUNT_PAIN_SCORE_MILD_DAY1</th><th scope=col>COUNT_PAIN_SCORE_MILD_DAY2</th><th scope=col>COUNT_PAIN_SCORE_MILD_DAY3</th><th scope=col>COUNT_PAIN_SCORE_MODERATE_DAY1</th><th scope=col>COUNT_PAIN_SCORE_MODERATE_DAY2</th><th scope=col>COUNT_PAIN_SCORE_MODERATE_DAY3</th><th scope=col>COUNT_PAIN_SCORE_DAY1</th><th scope=col>COUNT_PAIN_SCORE_DAY2</th><th scope=col>COUNT_PAIN_SCORE_DAY3</th><th scope=col>COUNT_PAIN_SCORE_GTE7_DAY1</th><th scope=col>COUNT_PAIN_SCORE_GTE7_DAY2</th><th scope=col>COUNT_PAIN_SCORE_GTE7_DAY3</th><th scope=col>CAM_ICU_7A_7P_DAY1</th><th scope=col>CAM_ICU_7A_7P_DAY2</th><th scope=col>CAM_ICU_7A_7P_DAY3</th><th scope=col>CAM_ICU_7P_7A_DAY1</th><th scope=col>CAM_ICU_7P_7A_DAY2</th><th scope=col>CAM_ICU_7P_7A_DAY3</th><th scope=col>PCA_YN_DAY1</th><th scope=col>PCA_YN_DAY2</th><th scope=col>PCA_YN_DAY3</th><th scope=col>PCEA_YN_DAY1</th><th scope=col>PCEA_YN_DAY2</th><th scope=col>PCEA_YN_DAY3</th><th scope=col>TX_OPIOIDS_DAY1</th><th scope=col>TX_OPIOIDS_DAY2</th><th scope=col>TX_OPIOIDS_DAY3</th><th scope=col>TX_NSAIDS_DAY1</th><th scope=col>TX_NSAIDS_DAY2</th><th scope=col>TX_NSAIDS_DAY3</th><th scope=col>TX_SSRI_SNRI_DAY1</th><th scope=col>TX_SSRI_SNRI_DAY2</th><th scope=col>TX_SSRI_SNRI_DAY3</th><th scope=col>TX_MS_AGENTS_DAY1</th><th scope=col>TX_MS_AGENTS_DAY2</th><th scope=col>TX_MS_AGENTS_DAY3</th><th scope=col>TX_TRICYCLICS_DAY1</th><th scope=col>TX_TRICYCLICS_DAY2</th><th scope=col>TX_TRICYCLICS_DAY3</th><th scope=col>TX_NA_CHANNEL_BLK_DAY1</th><th scope=col>TX_NA_CHANNEL_BLK_DAY2</th><th scope=col>TX_NA_CHANNEL_BLK_DAY3</th><th scope=col>TX_MUSC_RELAXANTS_DAY1</th><th scope=col>TX_MUSC_RELAXANTS_DAY2</th><th scope=col>TX_MUSC_RELAXANTS_DAY3</th><th scope=col>TX_TYLENOL_DAY1</th><th scope=col>TX_TYLENOL_DAY2</th><th scope=col>TX_TYLENOL_DAY3</th><th scope=col>LOS_DAYS</th><th scope=col>LOS_HOURS</th><th scope=col>PRE_ADMSN_PAIN_MGMT_YN</th><th scope=col>ICU_HOURS</th><th scope=col>ICU_CALENDAR_DAYS</th><th scope=col>FIRST_PAIN_SCORE.1</th><th scope=col>LAST_PAIN_SCORE.1</th><th scope=col>INPT_DEATH_YN</th><th scope=col>DISPOSITION</th><th scope=col>DAYS_TO_NEXT_ADMSN</th><th scope=col>DAYS_TO_NEXT_ER_VISIT</th><th scope=col>PONV_FEMALE_YN</th><th scope=col>PONV_NON_SMOKER_YN</th><th scope=col>PONV_HX_PONV_YN</th><th scope=col>PONV_HR_SURGERY_YN</th><th scope=col>PONV_HR_PATIENT_YN</th><th scope=col>ANES_PLAN_GENERAL_YN</th><th scope=col>case</th><th scope=col>cat</th></tr>\n",
              "\t<tr><th scope=col>&lt;int&gt;</th><th scope=col>&lt;int&gt;</th><th scope=col>&lt;int&gt;</th><th scope=col>&lt;int&gt;</th><th scope=col>&lt;int&gt;</th><th scope=col>&lt;int&gt;</th><th scope=col>&lt;int&gt;</th><th scope=col>&lt;int&gt;</th><th scope=col>&lt;int&gt;</th><th scope=col>&lt;int&gt;</th><th scope=col>&lt;int&gt;</th><th scope=col>&lt;int&gt;</th><th scope=col>&lt;int&gt;</th><th scope=col>&lt;int&gt;</th><th scope=col>&lt;int&gt;</th><th scope=col>&lt;int&gt;</th><th scope=col>&lt;int&gt;</th><th scope=col>&lt;int&gt;</th><th scope=col>&lt;int&gt;</th><th scope=col>&lt;int&gt;</th><th scope=col>&lt;int&gt;</th><th scope=col>&lt;int&gt;</th><th scope=col>&lt;int&gt;</th><th scope=col>&lt;int&gt;</th><th scope=col>&lt;int&gt;</th><th scope=col>&lt;int&gt;</th><th scope=col>&lt;int&gt;</th><th scope=col>&lt;int&gt;</th><th scope=col>&lt;int&gt;</th><th scope=col>&lt;int&gt;</th><th scope=col>&lt;int&gt;</th><th scope=col>&lt;int&gt;</th><th scope=col>&lt;int&gt;</th><th scope=col>&lt;int&gt;</th><th scope=col>&lt;int&gt;</th><th scope=col>&lt;int&gt;</th><th scope=col>&lt;int&gt;</th><th scope=col>&lt;int&gt;</th><th scope=col>&lt;int&gt;</th><th scope=col>&lt;int&gt;</th><th scope=col>&lt;int&gt;</th><th scope=col>&lt;int&gt;</th><th scope=col>&lt;int&gt;</th><th scope=col>&lt;int&gt;</th><th scope=col>&lt;int&gt;</th><th scope=col>&lt;int&gt;</th><th scope=col>&lt;int&gt;</th><th scope=col>&lt;int&gt;</th><th scope=col>&lt;int&gt;</th><th scope=col>&lt;int&gt;</th><th scope=col>&lt;int&gt;</th><th scope=col>&lt;int&gt;</th><th scope=col>&lt;int&gt;</th><th scope=col>&lt;int&gt;</th><th scope=col>&lt;int&gt;</th><th scope=col>&lt;int&gt;</th><th scope=col>&lt;int&gt;</th><th scope=col>&lt;int&gt;</th><th scope=col>&lt;int&gt;</th><th scope=col>&lt;int&gt;</th><th scope=col>&lt;int&gt;</th><th scope=col>&lt;int&gt;</th><th scope=col>&lt;int&gt;</th><th scope=col>&lt;int&gt;</th><th scope=col>&lt;int&gt;</th><th scope=col>&lt;int&gt;</th><th scope=col>&lt;int&gt;</th><th scope=col>&lt;int&gt;</th><th scope=col>&lt;int&gt;</th><th scope=col>&lt;int&gt;</th><th scope=col>&lt;int&gt;</th><th scope=col>&lt;int&gt;</th><th scope=col>&lt;int&gt;</th><th scope=col>&lt;int&gt;</th><th scope=col>&lt;int&gt;</th><th scope=col>&lt;int&gt;</th><th scope=col>&lt;int&gt;</th><th scope=col>&lt;int&gt;</th><th scope=col>&lt;int&gt;</th><th scope=col>&lt;int&gt;</th><th scope=col>&lt;int&gt;</th><th scope=col>&lt;int&gt;</th><th scope=col>&lt;int&gt;</th><th scope=col>&lt;int&gt;</th><th scope=col>&lt;int&gt;</th><th scope=col>&lt;int&gt;</th><th scope=col>&lt;int&gt;</th><th scope=col>&lt;int&gt;</th><th scope=col>&lt;int&gt;</th><th scope=col>&lt;int&gt;</th><th scope=col>&lt;int&gt;</th><th scope=col>&lt;int&gt;</th><th scope=col>&lt;int&gt;</th><th scope=col>&lt;int&gt;</th><th scope=col>&lt;int&gt;</th><th scope=col>&lt;int&gt;</th><th scope=col>&lt;int&gt;</th><th scope=col>&lt;int&gt;</th><th scope=col>&lt;int&gt;</th><th scope=col>&lt;int&gt;</th><th scope=col>&lt;int&gt;</th><th scope=col>&lt;int&gt;</th><th scope=col>&lt;int&gt;</th><th scope=col>&lt;int&gt;</th><th scope=col>&lt;int&gt;</th><th scope=col>&lt;int&gt;</th><th scope=col>&lt;int&gt;</th><th scope=col>&lt;int&gt;</th><th scope=col>&lt;int&gt;</th><th scope=col>&lt;int&gt;</th><th scope=col>&lt;int&gt;</th><th scope=col>&lt;int&gt;</th><th scope=col>&lt;int&gt;</th></tr>\n",
              "</thead>\n",
              "<tbody>\n",
              "\t<tr><td>0</td><td>0</td><td>39</td><td>0</td><td>0</td><td>172</td><td>0</td><td>0</td><td>0</td><td>0</td><td>0</td><td>0</td><td>6735</td><td>0</td><td>0</td><td>103</td><td>0</td><td>246</td><td>246</td><td>156</td><td>199</td><td>0</td><td>6717</td><td>0</td><td>82</td><td>38</td><td>0</td><td>0</td><td>89</td><td>868</td><td>2619</td><td>89</td><td>868</td><td>2619</td><td>89</td><td>868</td><td>2619</td><td>89</td><td>868</td><td>2619</td><td>50</td><td>841</td><td>5502</td><td>86</td><td>861</td><td>3947</td><td>0</td><td>795</td><td>2563</td><td>0</td><td>795</td><td>2563</td><td>0</td><td>795</td><td>2563</td><td>0</td><td>795</td><td>2563</td><td>0</td><td>0</td><td>0</td><td>0</td><td>0</td><td>0</td><td>0</td><td>795</td><td>2563</td><td>0</td><td>795</td><td>2563</td><td>0</td><td>795</td><td>2563</td><td>0</td><td>795</td><td>2563</td><td>0</td><td>795</td><td>2563</td><td>0</td><td>795</td><td>2563</td><td>0</td><td>795</td><td>2563</td><td>0</td><td>795</td><td>2563</td><td>0</td><td>795</td><td>2563</td><td>0</td><td>795</td><td>2563</td><td>0</td><td>0</td><td>0</td><td>0</td><td>0</td><td>0</td><td>0</td><td>0</td><td>0</td><td>3047</td><td>4731</td><td>0</td><td>0</td><td>0</td><td>0</td><td>0</td><td>0</td><td>0</td><td>0</td></tr>\n",
              "</tbody>\n",
              "</table>\n"
            ]
          },
          "metadata": {}
        }
      ]
    },
    {
      "cell_type": "code",
      "metadata": {
        "id": "A6vqx02HkEE1"
      },
      "source": [
        "dil0=dil\n",
        "#create saved version of dataset before removing dates\n",
        "\n",
        "#the primary dataset will use these days, for sensitivity analysis will redo with the dil0 dataset\n",
        "dil=dil%>%\n",
        "filter(DAY_SINCE_INTERVENTION<142)%>%\n",
        "#filter(DAY_SINCE_INTERVENTION>-142)%>%\n",
        "filter(DAY_SINCE_INTERVENTION>-250)%>%\n",
        "mutate(cat=0)%>%\n",
        "mutate(cat=ifelse(DAY_SINCE_INTERVENTION>=0 &DAY_SINCE_INTERVENTION<=142,1,cat))\n",
        "#remove 3 days around the change point\n",
        "#filter(DAY_SINCE_INTERVENTION <(-3) |DAY_SINCE_INTERVENTION >3)\n",
        "\n"
      ],
      "execution_count": null,
      "outputs": []
    },
    {
      "cell_type": "code",
      "metadata": {
        "colab": {
          "base_uri": "https://localhost:8080/",
          "height": 1000
        },
        "id": "vj6E94n0k_mj",
        "outputId": "65b927c6-34a7-42c7-9c23-ebb70542f3ce"
      },
      "source": [
        "#save temp before create table 1\n",
        "dilt=dil\n",
        "\n",
        "#This cell will create a table 1\n",
        "\n",
        "\n",
        "## Make categorical variables factors\n",
        "varsToFactor <- c(\"case\",\"SEX\",\"ASA_SCORE\",\"ASA_EMERGENT\",\"ANES_TYPE_HANDOFF\",\"UCLA_LOC_GROUP\",\n",
        "                  \"KETAMINE_GTT\",\"INPT_DEATH_YN\",\"PRE_ADMSN_PAIN_MGMT_YN\",\"PCEA_YN_DAY1\",\"PCEA_YN_DAY2\",'TX_OPIOIDS_DAY1',\n",
        "                  'TX_OPIOIDS_DAY2','TX_NSAIDS_DAY1','TX_NSAIDS_DAY2','TX_SSRI_SNRI_DAY1','TX_SSRI_SNRI_DAY2','TX_MS_AGENTS_DAY1','TX_MS_AGENTS_DAY2',\n",
        "                  'TX_TRICYCLICS_DAY1','TX_TRICYCLICS_DAY2','TX_NA_CHANNEL_BLK_DAY1','TX_NA_CHANNEL_BLK_DAY2','TX_MUSC_RELAXANTS_DAY1','TX_MUSC_RELAXANTS_DAY2',\n",
        "                  'TX_TYLENOL_DAY1','TX_TYLENOL_DAY2')\n",
        "dil[varsToFactor] <- lapply(dil[varsToFactor], factor)\n",
        "\n",
        "dil=dil%>%\n",
        "rename(\"Weight(kg)\" = WEIGHT_KG, \"Duration(min)\"=DURATION, \"ASA Score\"=ASA_SCORE, \"ASA(E)\"=ASA_EMERGENT, Ketamine=KETAMINE_GTT, \"Fentanyl(mg)\"=\n",
        "FENTANYL_MG, \"Morphine(mg)\"=MORPHINE_MG, \"Anesthesia type\"=ANES_TYPE_HANDOFF, \"Sex(female)\"=SEX, \"Surgery Type\"=case)\n",
        "\n",
        "## Create a variable list\n",
        "dput(names(dil))\n",
        "vars <- c(\"Weight(kg)\",\"BMI\", \"Duration(min)\", \"AGE\", \"Fentanyl(mg)\",\"Morphine(mg)\",\n",
        "         \"Anesthesia type\",\"Sex(female)\", \"ASA Score\", \"ASA(E)\",\n",
        "                  \"Ketamine\", \"Surgery Type\")\n",
        "\n",
        "\n",
        "\n",
        "## Create Table 1 stratified by trt\n",
        "tableOne <- CreateTableOne(vars = vars, strata = c(\"cat\"), data = dil)\n",
        "p <- print(tableOne,  printToggle = FALSE, noSpaces = TRUE)\n",
        "#p <- print(tableOne, nonnormal = c('BMI', 'Fentanyl(mg)','Morphine(mg)', 'Duration(min)'), printToggle = FALSE, noSpaces = TRUE)\n",
        "kable(p, format = \"latex\", booktabs=TRUE)\n",
        "\n",
        "#turn back to dil\n",
        "dil=dilt\n",
        "\n",
        "\n"
      ],
      "execution_count": null,
      "outputs": [
        {
          "output_type": "stream",
          "name": "stdout",
          "text": [
            "c(\"DAY_SINCE_INTERVENTION\", \"CASE_SRV_NAME\", \"ASA Score\", \"ASA(E)\", \n",
            "\"Weight(kg)\", \"IDEAL_BODY_WEIGHT_KG\", \"BMI\", \"Anesthesia type\", \n",
            "\"Duration(min)\", \"AGE\", \"Sex(female)\", \"Fentanyl(mg)\", \"Morphine(mg)\", \n",
            "\"HYDROMORPHONE_MG\", \"Ketamine\", \"PONV_PPX_COUNT\", \"PONV_TX_COUNT\", \n",
            "\"FIRST_PAIN_SCORE\", \"LAST_PAIN_SCORE\", \"EQUIV_MSO4_IV_DOSE_60\", \n",
            "\"EQUIV_MSO4_IV_DOSE_120\", \"UCLA_LOC_GROUP\", \"HOURS_TO_REINTUBATION\", \n",
            "\"FLOOR_2_ICU_YN\", \"POSTOP_MSO4_EQUIV_IV_TOTAL\", \"POSTOP_MSO4_EQUIV_PO_TOTAL\", \n",
            "\"POSTOP_OPIOIDS_PCA\", \"POSTOP_OPIOIDS_GTT\", \"MAX_PAIN_SCORE_DAY1\", \n",
            "\"MAX_PAIN_SCORE_DAY2\", \"MAX_PAIN_SCORE_DAY3\", \"MIN_PAIN_SCORE_DAY1\", \n",
            "\"MIN_PAIN_SCORE_DAY2\", \"MIN_PAIN_SCORE_DAY3\", \"AVG_PAIN_SCORE_DAY1\", \n",
            "\"AVG_PAIN_SCORE_DAY2\", \"AVG_PAIN_SCORE_DAY3\", \"MEDIAN_PAIN_SCORE_DAY1\", \n",
            "\"MEDIAN_PAIN_SCORE_DAY2\", \"MEDIAN_PAIN_SCORE_DAY3\", \"MSO4_EQUIV_DOSE_IV_DAY1\", \n",
            "\"MSO4_EQUIV_DOSE_IV_DAY2\", \"MSO4_EQUIV_DOSE_IV_DAY3\", \"MSO4_EQUIV_DOSE_PO_DAY1\", \n",
            "\"MSO4_EQUIV_DOSE_PO_DAY2\", \"MSO4_EQUIV_DOSE_PO_DAY3\", \"COUNT_PAIN_SCORE_MILD_DAY1\", \n",
            "\"COUNT_PAIN_SCORE_MILD_DAY2\", \"COUNT_PAIN_SCORE_MILD_DAY3\", \"COUNT_PAIN_SCORE_MODERATE_DAY1\", \n",
            "\"COUNT_PAIN_SCORE_MODERATE_DAY2\", \"COUNT_PAIN_SCORE_MODERATE_DAY3\", \n",
            "\"COUNT_PAIN_SCORE_DAY1\", \"COUNT_PAIN_SCORE_DAY2\", \"COUNT_PAIN_SCORE_DAY3\", \n",
            "\"COUNT_PAIN_SCORE_GTE7_DAY1\", \"COUNT_PAIN_SCORE_GTE7_DAY2\", \"COUNT_PAIN_SCORE_GTE7_DAY3\", \n",
            "\"CAM_ICU_7A_7P_DAY1\", \"CAM_ICU_7A_7P_DAY2\", \"CAM_ICU_7A_7P_DAY3\", \n",
            "\"CAM_ICU_7P_7A_DAY1\", \"CAM_ICU_7P_7A_DAY2\", \"CAM_ICU_7P_7A_DAY3\", \n",
            "\"PCA_YN_DAY1\", \"PCA_YN_DAY2\", \"PCA_YN_DAY3\", \"PCEA_YN_DAY1\", \n",
            "\"PCEA_YN_DAY2\", \"PCEA_YN_DAY3\", \"TX_OPIOIDS_DAY1\", \"TX_OPIOIDS_DAY2\", \n",
            "\"TX_OPIOIDS_DAY3\", \"TX_NSAIDS_DAY1\", \"TX_NSAIDS_DAY2\", \"TX_NSAIDS_DAY3\", \n",
            "\"TX_SSRI_SNRI_DAY1\", \"TX_SSRI_SNRI_DAY2\", \"TX_SSRI_SNRI_DAY3\", \n",
            "\"TX_MS_AGENTS_DAY1\", \"TX_MS_AGENTS_DAY2\", \"TX_MS_AGENTS_DAY3\", \n",
            "\"TX_TRICYCLICS_DAY1\", \"TX_TRICYCLICS_DAY2\", \"TX_TRICYCLICS_DAY3\", \n",
            "\"TX_NA_CHANNEL_BLK_DAY1\", \"TX_NA_CHANNEL_BLK_DAY2\", \"TX_NA_CHANNEL_BLK_DAY3\", \n",
            "\"TX_MUSC_RELAXANTS_DAY1\", \"TX_MUSC_RELAXANTS_DAY2\", \"TX_MUSC_RELAXANTS_DAY3\", \n",
            "\"TX_TYLENOL_DAY1\", \"TX_TYLENOL_DAY2\", \"TX_TYLENOL_DAY3\", \"LOS_DAYS\", \n",
            "\"LOS_HOURS\", \"PRE_ADMSN_PAIN_MGMT_YN\", \"ICU_HOURS\", \"ICU_CALENDAR_DAYS\", \n",
            "\"FIRST_PAIN_SCORE.1\", \"LAST_PAIN_SCORE.1\", \"INPT_DEATH_YN\", \"DISPOSITION\", \n",
            "\"DAYS_TO_NEXT_ADMSN\", \"DAYS_TO_NEXT_ER_VISIT\", \"PONV_FEMALE_YN\", \n",
            "\"PONV_NON_SMOKER_YN\", \"PONV_HX_PONV_YN\", \"PONV_HR_SURGERY_YN\", \n",
            "\"PONV_HR_PATIENT_YN\", \"ANES_PLAN_GENERAL_YN\", \"Surgery Type\", \n",
            "\"cat\")\n"
          ]
        },
        {
          "output_type": "display_data",
          "data": {
            "text/plain": [
              "\n",
              "\\begin{tabular}{lllll}\n",
              "\\toprule\n",
              "  & 0 & 1 & p & test\\\\\n",
              "\\midrule\n",
              "n & 4186 & 2565 &  & \\\\\n",
              "Weight(kg) (mean (SD)) & 79.10 (20.26) & 79.94 (20.61) & 0.102 & \\\\\n",
              "BMI (mean (SD)) & 27.43 (6.47) & 27.70 (6.53) & 0.100 & \\\\\n",
              "Duration(min) (mean (SD)) & 246.71 (126.30) & 249.69 (135.51) & 0.359 & \\\\\n",
              "AGE (mean (SD)) & 53.10 (16.78) & 53.28 (16.60) & 0.666 & \\\\\n",
              "\\addlinespace\n",
              "Fentanyl(mg) (mean (SD)) & 0.14 (0.11) & 0.14 (0.12) & 0.397 & \\\\\n",
              "Morphine(mg) (mean (SD)) & 6.17 (3.64) & 6.75 (5.12) & 0.804 & \\\\\n",
              "Anesthesia type = 1 (\\%) & 4105 (98.1) & 2503 (97.6) & 0.212 & \\\\\n",
              "Sex(female) = M (\\%) & 1943 (46.4) & 1234 (48.1) & 0.184 & \\\\\n",
              "ASA Score (\\%) &  &  & 0.525 & \\\\\n",
              "\\addlinespace\n",
              "1 & 331 (7.9) & 182 (7.2) &  & \\\\\n",
              "2 & 1850 (44.4) & 1123 (44.2) &  & \\\\\n",
              "3 & 1900 (45.6) & 1177 (46.3) &  & \\\\\n",
              "4 & 90 (2.2) & 58 (2.3) &  & \\\\\n",
              "5 & 0 (0.0) & 1 (0.0) &  & \\\\\n",
              "\\addlinespace\n",
              "ASA(E) = 1 (\\%) & 197 (4.7) & 120 (4.7) & 1.000 & \\\\\n",
              "Ketamine = 1 (\\%) & 277 (6.6) & 148 (5.8) & 0.180 & \\\\\n",
              "Surgery Type (\\%) &  &  & 0.416 & \\\\\n",
              "0 & 16 (0.4) & 11 (0.4) &  & \\\\\n",
              "1 & 4148 (99.1) & 2534 (98.8) &  & \\\\\n",
              "\\addlinespace\n",
              "2 & 22 (0.5) & 20 (0.8) &  & \\\\\n",
              "\\bottomrule\n",
              "\\end{tabular}"
            ]
          },
          "metadata": {}
        }
      ]
    },
    {
      "cell_type": "code",
      "metadata": {
        "id": "DAjjznBely06"
      },
      "source": [
        "#transformation so that effect is for 0.2mg \n",
        "dil=dil%>%\n",
        "mutate(HYDROMORPHONE_MG=HYDROMORPHONE_MG*5)"
      ],
      "execution_count": null,
      "outputs": []
    },
    {
      "cell_type": "code",
      "metadata": {
        "id": "sHe7y5oNoXjm"
      },
      "source": [
        "#create variable daytot1 and daytot2 to be combined IV and PO opioids \n",
        "dil=dil%>%\n",
        "mutate(daytot1=MSO4_EQUIV_DOSE_IV_DAY1+MSO4_EQUIV_DOSE_PO_DAY1)%>%\n",
        "mutate(daytot2=MSO4_EQUIV_DOSE_IV_DAY2+MSO4_EQUIV_DOSE_PO_DAY2)"
      ],
      "execution_count": null,
      "outputs": []
    },
    {
      "cell_type": "code",
      "metadata": {
        "colab": {
          "base_uri": "https://localhost:8080/",
          "height": 493
        },
        "id": "scRgStNxt0Dd",
        "outputId": "9d271c20-7dd7-4cc5-8c2c-4a4483f53cbc"
      },
      "source": [
        "#simple regressions\n",
        "\n",
        "firstpain=lm(FIRST_PAIN_SCORE~HYDROMORPHONE_MG, data=dil)\n",
        "\n",
        "\n",
        "lastpain=lm(LAST_PAIN_SCORE~HYDROMORPHONE_MG, data=dil)\n",
        "\n",
        "\n",
        "morp60=lm(EQUIV_MSO4_IV_DOSE_60~HYDROMORPHONE_MG, data=dil)\n",
        "\n",
        "\n",
        "morp120=lm(EQUIV_MSO4_IV_DOSE_120~HYDROMORPHONE_MG, data=dil)\n",
        "\n",
        "\n",
        "\n",
        "\n",
        "maxpain1=lm(MAX_PAIN_SCORE_DAY1~HYDROMORPHONE_MG, data=dil)\n",
        "\n",
        "maxpain2=lm(MAX_PAIN_SCORE_DAY2~HYDROMORPHONE_MG, data=dil)\n",
        "\n",
        "avepain1=lm(AVG_PAIN_SCORE_DAY1~HYDROMORPHONE_MG, data=dil)\n",
        "\n",
        "avpain2=lm(AVG_PAIN_SCORE_DAY2~HYDROMORPHONE_MG, data=dil)\n",
        "\n",
        "mortot1=lm(daytot1~HYDROMORPHONE_MG, data=dil)\n",
        "\n",
        "mortot2=lm(daytot2~HYDROMORPHONE_MG, data=dil)\n",
        "\n",
        "models <- list(\n",
        "  \"1st PACU Pain\"     = firstpain,\n",
        "  \"Last PACU Pain\" = lastpain,    \n",
        "    \"Ave Pain (day 1)\"=avepain1,\n",
        "   \"Ave Pain (day 2)\"=avpain2,\n",
        "     \"Max Pain (day 1)\"=maxpain1,\n",
        "    \"Max Pain (day 2)\"=maxpain2\n",
        "    \n",
        "\n",
        ")\n",
        "models1<- list(\n",
        "\n",
        "\"MME PACU 60min\" =morp60,\n",
        "    \"MME PACU 120min\"=morp120,\n",
        "    \n",
        "\n",
        "     'MME day1'=mortot1,\n",
        "     'MME day2'=mortot2\n",
        "   \n",
        ")\n",
        "\n",
        "coef_rename=c(\"HYDROMORPHONE_MG\"=\"\")\n",
        "modelsummary(models,estimate  =   \"Estimate= {estimate}\",\n",
        "  statistic = c(\"CI={conf.low}, {conf.high}\",\"p = {p.value}\"),\n",
        "\n",
        "coef_omit = \"Intercept\",gof_omit = 'R2|R2 Adj|F|AIC|BIC|Log.Lik', fmt=2, coef_rename=coef_rename, output = \"latex\")\n",
        "\n",
        "\n",
        "modelsummary(models1,estimate   =   \"Estimate= {estimate}\",\n",
        "  statistic = c(\"CI={conf.low}, {conf.high}\",\"p = {p.value}\"),\n",
        "\n",
        "  coef_omit = \"Intercept\",gof_omit = 'R2|R2 Adj|F|AIC|BIC|Log.Lik', fmt=2, coef_rename=coef_rename, output = \"latex\")\n"
      ],
      "execution_count": null,
      "outputs": [
        {
          "output_type": "display_data",
          "data": {
            "text/plain": [
              "\\begin{table}\n",
              "\\centering\n",
              "\\begin{tabular}[t]{lcccccc}\n",
              "\\toprule\n",
              "  & 1st PACU Pain & Last PACU Pain & Ave Pain (day 1) & Ave Pain (day 2) & Max Pain (day 1) & Max Pain (day 2)\\\\\n",
              "\\midrule\n",
              " & Estimate= \\num{0.25} & Estimate= \\num{0.15} & Estimate= \\num{0.14} & Estimate= \\num{0.15} & Estimate= \\num{0.15} & Estimate= \\num{0.17}\\\\\n",
              " & CI=\\num{0.22}, \\num{0.28} & CI=\\num{0.12}, \\num{0.17} & CI=\\num{0.12}, \\num{0.16} & CI=\\num{0.13}, \\num{0.17} & CI=\\num{0.13}, \\num{0.18} & CI=\\num{0.14}, \\num{0.19}\\\\\n",
              " & p = \\num{0.00} & p = \\num{0.00} & p = \\num{0.00} & p = \\num{0.00} & p = \\num{0.00} & p = \\num{0.00}\\\\\n",
              "\\midrule\n",
              "Num.Obs. & \\num{6505} & \\num{6505} & \\num{6662} & \\num{5883} & \\num{6662} & \\num{5883}\\\\\n",
              "\\bottomrule\n",
              "\\end{tabular}\n",
              "\\end{table}"
            ]
          },
          "metadata": {}
        },
        {
          "output_type": "display_data",
          "data": {
            "text/plain": [
              "\\begin{table}\n",
              "\\centering\n",
              "\\begin{tabular}[t]{lcccc}\n",
              "\\toprule\n",
              "  & MME PACU 60min & MME PACU 120min & MME day1 & MME day2\\\\\n",
              "\\midrule\n",
              " & Estimate= \\num{1.47} & Estimate= \\num{0.49} & Estimate= \\num{5.14} & Estimate= \\num{3.66}\\\\\n",
              " & CI=\\num{0.83}, \\num{2.10} & CI=\\num{0.42}, \\num{0.55} & CI=\\num{4.77}, \\num{5.51} & CI=\\num{2.81}, \\num{4.51}\\\\\n",
              " & p = \\num{0.00} & p = \\num{0.00} & p = \\num{0.00} & p = \\num{0.00}\\\\\n",
              "\\midrule\n",
              "Num.Obs. & \\num{6595} & \\num{6552} & \\num{6663} & \\num{5885}\\\\\n",
              "\\bottomrule\n",
              "\\end{tabular}\n",
              "\\end{table}"
            ]
          },
          "metadata": {}
        }
      ]
    },
    {
      "cell_type": "code",
      "metadata": {
        "colab": {
          "base_uri": "https://localhost:8080/",
          "height": 1000
        },
        "id": "4aRTze5yu-TF",
        "outputId": "25b50f0f-7d57-4026-f846-b9e4d1f0a16d"
      },
      "source": [
        "#multivariable regression\n",
        "firstpain=lm(FIRST_PAIN_SCORE~HYDROMORPHONE_MG+(ASA_SCORE)+ASA_EMERGENT+WEIGHT_KG+BMI+as.factor(ANES_TYPE_HANDOFF)+DURATION+AGE+as.factor(SEX)+\n",
        "FENTANYL_MG+case, data=dil)\n",
        "\n",
        "\n",
        "lastpain=lm(LAST_PAIN_SCORE~HYDROMORPHONE_MG+(ASA_SCORE)+ASA_EMERGENT+WEIGHT_KG+BMI+as.factor(ANES_TYPE_HANDOFF)+DURATION+AGE+as.factor(SEX)+\n",
        "FENTANYL_MG+case, data=dil)\n",
        "\n",
        "\n",
        "morp60=lm(EQUIV_MSO4_IV_DOSE_60~HYDROMORPHONE_MG+(ASA_SCORE)+ASA_EMERGENT+WEIGHT_KG+BMI+as.factor(ANES_TYPE_HANDOFF)+DURATION+AGE+as.factor(SEX)+\n",
        "FENTANYL_MG+case, data=dil)\n",
        "\n",
        "\n",
        "morp120=lm(EQUIV_MSO4_IV_DOSE_120~HYDROMORPHONE_MG+(ASA_SCORE)+ASA_EMERGENT+WEIGHT_KG+BMI+as.factor(ANES_TYPE_HANDOFF)+DURATION+AGE+as.factor(SEX)+\n",
        "FENTANYL_MG+case, data=dil)\n",
        "\n",
        "\n",
        "morptot=lm(POSTOP_MSO4_EQUIV_IV_TOTAL~HYDROMORPHONE_MG+(ASA_SCORE)+ASA_EMERGENT+WEIGHT_KG+BMI+as.factor(ANES_TYPE_HANDOFF)+DURATION+AGE+as.factor(SEX)+\n",
        "FENTANYL_MG+case, data=dil)\n",
        "\n",
        "maxpain1=lm(MAX_PAIN_SCORE_DAY1~HYDROMORPHONE_MG+(ASA_SCORE)+ASA_EMERGENT+WEIGHT_KG+BMI+as.factor(ANES_TYPE_HANDOFF)+DURATION+AGE+as.factor(SEX)+\n",
        "FENTANYL_MG+case, data=dil)\n",
        "\n",
        "maxpain2=lm(MAX_PAIN_SCORE_DAY2~HYDROMORPHONE_MG+(ASA_SCORE)+ASA_EMERGENT+WEIGHT_KG+BMI+as.factor(ANES_TYPE_HANDOFF)+DURATION+AGE+as.factor(SEX)+\n",
        "FENTANYL_MG+case, data=dil)\n",
        "\n",
        "avepain1=lm(AVG_PAIN_SCORE_DAY1~HYDROMORPHONE_MG+(ASA_SCORE)+ASA_EMERGENT+WEIGHT_KG+BMI+as.factor(ANES_TYPE_HANDOFF)+DURATION+AGE+as.factor(SEX)+\n",
        "FENTANYL_MG+case, data=dil)\n",
        "\n",
        "avpain2=lm(AVG_PAIN_SCORE_DAY2~HYDROMORPHONE_MG+(ASA_SCORE)+ASA_EMERGENT+WEIGHT_KG+BMI+as.factor(ANES_TYPE_HANDOFF)+DURATION+AGE+as.factor(SEX)+\n",
        "FENTANYL_MG+case, data=dil)\n",
        "\n",
        "mortot1=lm(daytot1~HYDROMORPHONE_MG+(ASA_SCORE)+ASA_EMERGENT+WEIGHT_KG+BMI+as.factor(ANES_TYPE_HANDOFF)+DURATION+AGE+as.factor(SEX)+\n",
        "FENTANYL_MG+case, data=dil)\n",
        "\n",
        "mortot2=lm(daytot2~HYDROMORPHONE_MG+(ASA_SCORE)+ASA_EMERGENT+WEIGHT_KG+BMI+as.factor(ANES_TYPE_HANDOFF)+DURATION+AGE+as.factor(SEX)+\n",
        "FENTANYL_MG+case, data=dil)\n",
        "\n",
        "\n",
        "\n",
        "\n",
        "models <- list(\n",
        "  \"1st PACU Pain\"     = firstpain,\n",
        "  \"Last PACU Pain\" = lastpain,    \n",
        "    \"Ave Pain (day 1)\"=avepain1,\n",
        "   \"Ave Pain (day 2)\"=avpain2,\n",
        "     \"Max Pain (day 1)\"=maxpain1,\n",
        "    \"Max Pain (day 2)\"=maxpain2\n",
        "    \n",
        "\n",
        ")\n",
        "models1<- list(\n",
        "\n",
        "\"MME PACU 60min\" =morp60,\n",
        "    \"MME PACU 120min\"=morp120,\n",
        "    \n",
        "\n",
        "     'MME day1'=mortot1,\n",
        "     'MME day2'=mortot2\n",
        "   \n",
        ")\n",
        "\n",
        "coef_rename=c(\"case\"=\"Surgery Type\", \"HYDROMORPHONE_MG\"=\"Hydromorphone (mg)\", \"ASA_SCORE\"=\"ASA Score\", \"ASA_EMERGENT\"= \"ASA(E)\",\n",
        "\"AGE\"=\"Age\", \"FENTANYL_MG\"=\"Fentanyl (mg)\", \"DURATION\"=\"Duration\", \"WEIGHT_KG\"= \"Weight_kg\")\n",
        "modelsummary(models,estimate  =   \"Estimate= {estimate}\",\n",
        "  statistic = c(\"CI={conf.low}, {conf.high}\",\"p = {p.value}\"),\n",
        "\n",
        "coef_omit = \"Intercept\",gof_omit = 'R2|R2 Adj|F|AIC|BIC|Log.Lik', fmt=2, coef_rename=coef_rename, output = \"latex\")\n",
        "\n",
        "\n",
        "modelsummary(models1,estimate   =   \"Estimate= {estimate}\",\n",
        "  statistic = c(\"CI={conf.low}, {conf.high}\",\"p = {p.value}\"),\n",
        "\n",
        "  coef_omit = \"Intercept\",gof_omit = 'R2|R2 Adj|F|AIC|BIC|Log.Lik', fmt=2, coef_rename=coef_rename, output = \"latex\")"
      ],
      "execution_count": null,
      "outputs": [
        {
          "output_type": "display_data",
          "data": {
            "text/plain": [
              "\\begin{table}\n",
              "\\centering\n",
              "\\begin{tabular}[t]{lcccccc}\n",
              "\\toprule\n",
              "  & 1st PACU Pain & Last PACU Pain & Ave Pain (day 1) & Ave Pain (day 2) & Max Pain (day 1) & Max Pain (day 2)\\\\\n",
              "\\midrule\n",
              "Hydromorphone (mg) & Estimate= \\num{0.23} & Estimate= \\num{0.13} & Estimate= \\num{0.14} & Estimate= \\num{0.14} & Estimate= \\num{0.16} & Estimate= \\num{0.15}\\\\\n",
              " & CI=\\num{0.20}, \\num{0.27} & CI=\\num{0.11}, \\num{0.15} & CI=\\num{0.12}, \\num{0.16} & CI=\\num{0.12}, \\num{0.16} & CI=\\num{0.14}, \\num{0.19} & CI=\\num{0.12}, \\num{0.17}\\\\\n",
              " & p = \\num{0.00} & p = \\num{0.00} & p = \\num{0.00} & p = \\num{0.00} & p = \\num{0.00} & p = \\vphantom{2} \\num{0.00}\\\\\n",
              "ASA Score & Estimate= \\num{0.39} & Estimate= \\num{0.29} & Estimate= \\num{0.19} & Estimate= \\num{0.07} & Estimate= \\num{-0.08} & Estimate= \\num{0.30}\\\\\n",
              " & CI=\\num{0.25}, \\num{0.54} & CI=\\num{0.19}, \\num{0.40} & CI=\\num{0.10}, \\num{0.28} & CI=\\num{-0.02}, \\num{0.16} & CI=\\num{-0.20}, \\num{0.05} & CI=\\num{0.18}, \\num{0.42}\\\\\n",
              " & p = \\num{0.00} & p = \\num{0.00} & p = \\num{0.00} & p = \\num{0.11} & p = \\num{0.22} & p = \\num{0.00}\\\\\n",
              "ASA(E) & Estimate= \\num{-0.22} & Estimate= \\num{-0.22} & Estimate= \\num{1.32} & Estimate= \\num{0.28} & Estimate= \\num{1.23} & Estimate= \\num{0.98}\\\\\n",
              " & CI=\\num{-0.66}, \\num{0.21} & CI=\\num{-0.53}, \\num{0.08} & CI=\\num{1.05}, \\num{1.58} & CI=\\num{0.05}, \\num{0.52} & CI=\\num{0.87}, \\num{1.59} & CI=\\num{0.65}, \\num{1.31}\\\\\n",
              " & p = \\num{0.31} & p = \\num{0.15} & p = \\num{0.00} & p = \\num{0.02} & p = \\num{0.00} & p = \\num{0.00}\\\\\n",
              "Weight\\_kg & Estimate= \\num{0.00} & Estimate= \\num{0.00} & Estimate= \\num{0.00} & Estimate= \\num{0.01} & Estimate= \\num{0.00} & Estimate= \\num{0.00}\\\\\n",
              " & CI=\\num{-0.01}, \\num{0.01} & CI=\\num{-0.01}, \\num{0.01} & CI=\\num{0.00}, \\num{0.01} & CI=\\num{0.00}, \\num{0.02} & CI=\\num{-0.01}, \\num{0.01} & CI=\\num{-0.01}, \\num{0.01}\\\\\n",
              " & p = \\num{0.84} & p = \\num{0.77} & p = \\num{0.50} & p = \\num{0.00} & p = \\num{0.81} & p = \\num{0.42}\\\\\n",
              "BMI & Estimate= \\num{0.00} & Estimate= \\num{0.00} & Estimate= \\num{-0.01} & Estimate= \\num{-0.02} & Estimate= \\num{0.01} & Estimate= \\num{-0.01}\\\\\n",
              " & CI=\\num{-0.03}, \\num{0.04} & CI=\\num{-0.02}, \\num{0.02} & CI=\\num{-0.03}, \\num{0.01} & CI=\\num{-0.04}, \\num{0.00} & CI=\\num{-0.01}, \\num{0.04} & CI=\\num{-0.03}, \\num{0.02}\\\\\n",
              " & p = \\num{0.88} & p = \\num{0.93} & p = \\num{0.59} & p = \\num{0.02} & p = \\num{0.32} & p = \\num{0.56}\\\\\n",
              "as.factor(ANES\\_TYPE\\_HANDOFF)1 & Estimate= \\num{-0.52} & Estimate= \\num{0.07} & Estimate= \\num{0.12} & Estimate= \\num{-0.01} & Estimate= \\num{-0.08} & Estimate= \\num{-0.20}\\\\\n",
              " & CI=\\num{-1.15}, \\num{0.10} & CI=\\num{-0.38}, \\num{0.51} & CI=\\num{-0.26}, \\num{0.50} & CI=\\num{-0.39}, \\num{0.36} & CI=\\num{-0.59}, \\num{0.43} & CI=\\num{-0.72}, \\num{0.33}\\\\\n",
              " & p = \\num{0.10} & p = \\num{0.77} & p = \\num{0.54} & p = \\num{0.95} & p = \\num{0.75} & p = \\num{0.46}\\\\\n",
              "Duration & Estimate= \\num{0.00} & Estimate= \\num{0.00} & Estimate= \\num{0.00} & Estimate= \\num{0.00} & Estimate= \\num{0.00} & Estimate= \\num{0.00}\\\\\n",
              " & CI=\\num{0.00}, \\num{0.00} & CI=\\num{0.00}, \\num{0.00} & CI=\\num{0.00}, \\num{0.00} & CI=\\num{0.00}, \\num{0.00} & CI=\\num{0.00}, \\num{0.00} & CI=\\num{0.00}, \\num{0.00}\\\\\n",
              " & p = \\num{0.00} & p = \\num{0.01} & p = \\num{0.00} & p = \\num{0.00} & p = \\num{0.00} & p = \\num{0.25}\\\\\n",
              "Age & Estimate= \\num{-0.04} & Estimate= \\num{-0.03} & Estimate= \\num{-0.02} & Estimate= \\num{-0.02} & Estimate= \\num{-0.02} & Estimate= \\num{-0.03}\\\\\n",
              " & CI=\\num{-0.04}, \\num{-0.03} & CI=\\num{-0.03}, \\num{-0.02} & CI=\\num{-0.03}, \\num{-0.02} & CI=\\num{-0.03}, \\num{-0.02} & CI=\\num{-0.02}, \\num{-0.01} & CI=\\num{-0.03}, \\num{-0.02}\\\\\n",
              " & p = \\num{0.00} & p = \\num{0.00} & p = \\num{0.00} & p = \\num{0.00} & p = \\num{0.00} & p = \\vphantom{1} \\num{0.00}\\\\\n",
              "as.factor(SEX)M & Estimate= \\num{-0.63} & Estimate= \\num{-0.29} & Estimate= \\num{-0.39} & Estimate= \\num{-0.53} & Estimate= \\num{-0.62} & Estimate= \\num{-0.58}\\\\\n",
              " & CI=\\num{-0.86}, \\num{-0.40} & CI=\\num{-0.45}, \\num{-0.12} & CI=\\num{-0.54}, \\num{-0.25} & CI=\\num{-0.66}, \\num{-0.39} & CI=\\num{-0.81}, \\num{-0.43} & CI=\\num{-0.77}, \\num{-0.39}\\\\\n",
              " & p = \\num{0.00} & p = \\num{0.00} & p = \\num{0.00} & p = \\num{0.00} & p = \\num{0.00} & p = \\num{0.00}\\\\\n",
              "Fentanyl (mg) & Estimate= \\num{1.28} & Estimate= \\num{0.64} & Estimate= \\num{1.18} & Estimate= \\num{1.33} & Estimate= \\num{1.02} & Estimate= \\num{1.26}\\\\\n",
              " & CI=\\num{0.45}, \\num{2.12} & CI=\\num{0.05}, \\num{1.23} & CI=\\num{0.67}, \\num{1.69} & CI=\\num{0.86}, \\num{1.80} & CI=\\num{0.33}, \\num{1.71} & CI=\\num{0.60}, \\num{1.92}\\\\\n",
              " & p = \\num{0.00} & p = \\num{0.03} & p = \\num{0.00} & p = \\num{0.00} & p = \\num{0.00} & p = \\num{0.00}\\\\\n",
              "Surgery Type & Estimate= \\num{-0.47} & Estimate= \\num{-0.58} & Estimate= \\num{0.15} & Estimate= \\num{0.28} & Estimate= \\num{0.25} & Estimate= \\num{0.23}\\\\\n",
              " & CI=\\num{-1.36}, \\num{0.42} & CI=\\num{-1.21}, \\num{0.05} & CI=\\num{-0.39}, \\num{0.69} & CI=\\num{-0.33}, \\num{0.89} & CI=\\num{-0.48}, \\num{0.98} & CI=\\num{-0.63}, \\num{1.08}\\\\\n",
              " & p = \\num{0.30} & p = \\num{0.07} & p = \\num{0.58} & p = \\num{0.37} & p = \\num{0.50} & p = \\num{0.60}\\\\\n",
              "\\midrule\n",
              "Num.Obs. & \\num{6470} & \\num{6470} & \\num{6623} & \\num{5844} & \\num{6623} & \\num{5844}\\\\\n",
              "\\bottomrule\n",
              "\\end{tabular}\n",
              "\\end{table}"
            ]
          },
          "metadata": {}
        },
        {
          "output_type": "display_data",
          "data": {
            "text/plain": [
              "\\begin{table}\n",
              "\\centering\n",
              "\\begin{tabular}[t]{lcccc}\n",
              "\\toprule\n",
              "  & MME PACU 60min & MME PACU 120min & MME day1 & MME day2\\\\\n",
              "\\midrule\n",
              "Hydromorphone (mg) & Estimate= \\num{1.42} & Estimate= \\num{0.46} & Estimate= \\num{4.08} & Estimate= \\num{3.55}\\\\\n",
              " & CI=\\num{0.75}, \\num{2.09} & CI=\\num{0.39}, \\num{0.53} & CI=\\num{3.74}, \\num{4.42} & CI=\\num{2.67}, \\num{4.43}\\\\\n",
              " & p = \\num{0.00} & p = \\num{0.00} & p = \\num{0.00} & p = \\num{0.00}\\\\\n",
              "ASA Score & Estimate= \\num{-1.89} & Estimate= \\num{0.31} & Estimate= \\num{-4.61} & Estimate= \\num{0.54}\\\\\n",
              " & CI=\\num{-4.91}, \\num{1.14} & CI=\\num{0.01}, \\num{0.61} & CI=\\num{-6.17}, \\num{-3.06} & CI=\\num{-3.56}, \\num{4.64}\\\\\n",
              " & p = \\num{0.22} & p = \\num{0.05} & p = \\num{0.00} & p = \\num{0.80}\\\\\n",
              "ASA(E) & Estimate= \\num{-1.54} & Estimate= \\num{-0.52} & Estimate= \\num{4.30} & Estimate= \\num{11.63}\\\\\n",
              " & CI=\\num{-10.39}, \\num{7.31} & CI=\\num{-1.40}, \\num{0.35} & CI=\\num{-0.27}, \\num{8.86} & CI=\\num{0.29}, \\num{22.97}\\\\\n",
              " & p = \\num{0.73} & p = \\num{0.24} & p = \\num{0.07} & p = \\num{0.04}\\\\\n",
              "Weight\\_kg & Estimate= \\num{-0.11} & Estimate= \\num{0.02} & Estimate= \\num{0.18} & Estimate= \\num{0.19}\\\\\n",
              " & CI=\\num{-0.33}, \\num{0.12} & CI=\\num{0.00}, \\num{0.04} & CI=\\num{0.07}, \\num{0.30} & CI=\\num{-0.11}, \\num{0.50}\\\\\n",
              " & p = \\num{0.35} & p = \\num{0.12} & p = \\num{0.00} & p = \\num{0.21}\\\\\n",
              "BMI & Estimate= \\num{0.14} & Estimate= \\num{-0.06} & Estimate= \\num{-0.24} & Estimate= \\num{-0.75}\\\\\n",
              " & CI=\\num{-0.54}, \\num{0.82} & CI=\\num{-0.12}, \\num{0.01} & CI=\\num{-0.59}, \\num{0.11} & CI=\\num{-1.66}, \\num{0.16}\\\\\n",
              " & p = \\num{0.68} & p = \\num{0.10} & p = \\num{0.18} & p = \\num{0.10}\\\\\n",
              "as.factor(ANES\\_TYPE\\_HANDOFF)1 & Estimate= \\num{-0.66} & Estimate= \\num{0.32} & Estimate= \\num{3.78} & Estimate= \\num{2.44}\\\\\n",
              " & CI=\\num{-13.30}, \\num{11.99} & CI=\\num{-0.94}, \\num{1.58} & CI=\\num{-2.69}, \\num{10.26} & CI=\\num{-15.38}, \\num{20.26}\\\\\n",
              " & p = \\num{0.92} & p = \\num{0.62} & p = \\num{0.25} & p = \\num{0.79}\\\\\n",
              "Duration & Estimate= \\num{-0.02} & Estimate= \\num{0.00} & Estimate= \\num{-0.02} & Estimate= \\num{-0.05}\\\\\n",
              " & CI=\\num{-0.03}, \\num{0.00} & CI=\\num{0.00}, \\num{0.00} & CI=\\num{-0.03}, \\num{-0.01} & CI=\\num{-0.07}, \\num{-0.03}\\\\\n",
              " & p = \\num{0.02} & p = \\num{0.05} & p = \\num{0.00} & p = \\num{0.00}\\\\\n",
              "Age & Estimate= \\num{-0.15} & Estimate= \\num{-0.02} & Estimate= \\num{-0.11} & Estimate= \\num{-0.44}\\\\\n",
              " & CI=\\num{-0.27}, \\num{-0.03} & CI=\\num{-0.03}, \\num{-0.01} & CI=\\num{-0.17}, \\num{-0.05} & CI=\\num{-0.60}, \\num{-0.28}\\\\\n",
              " & p = \\num{0.01} & p = \\num{0.00} & p = \\num{0.00} & p = \\vphantom{1} \\num{0.00}\\\\\n",
              "as.factor(SEX)M & Estimate= \\num{3.17} & Estimate= \\num{-0.09} & Estimate= \\num{-2.35} & Estimate= \\num{2.17}\\\\\n",
              " & CI=\\num{-1.56}, \\num{7.91} & CI=\\num{-0.56}, \\num{0.38} & CI=\\num{-4.77}, \\num{0.06} & CI=\\num{-4.24}, \\num{8.59}\\\\\n",
              " & p = \\num{0.19} & p = \\num{0.70} & p = \\num{0.06} & p = \\num{0.51}\\\\\n",
              "Fentanyl (mg) & Estimate= \\num{21.80} & Estimate= \\num{3.53} & Estimate= \\num{175.34} & Estimate= \\num{42.43}\\\\\n",
              " & CI=\\num{4.75}, \\num{38.85} & CI=\\num{1.83}, \\num{5.23} & CI=\\num{166.63}, \\num{184.06} & CI=\\num{19.99}, \\num{64.86}\\\\\n",
              " & p = \\num{0.01} & p = \\num{0.00} & p = \\num{0.00} & p = \\num{0.00}\\\\\n",
              "Surgery Type & Estimate= \\num{-3.23} & Estimate= \\num{-1.08} & Estimate= \\num{-1.18} & Estimate= \\num{-6.63}\\\\\n",
              " & CI=\\num{-21.50}, \\num{15.04} & CI=\\num{-2.89}, \\num{0.72} & CI=\\num{-10.43}, \\num{8.08} & CI=\\num{-35.70}, \\num{22.44}\\\\\n",
              " & p = \\num{0.73} & p = \\num{0.24} & p = \\num{0.80} & p = \\num{0.65}\\\\\n",
              "\\midrule\n",
              "Num.Obs. & \\num{6557} & \\num{6516} & \\num{6624} & \\num{5846}\\\\\n",
              "\\bottomrule\n",
              "\\end{tabular}\n",
              "\\end{table}"
            ]
          },
          "metadata": {}
        }
      ]
    },
    {
      "cell_type": "code",
      "metadata": {
        "colab": {
          "base_uri": "https://localhost:8080/",
          "height": 513
        },
        "id": "7NQUxrnfoczn",
        "outputId": "fcc00e37-9ab8-486b-c9d2-60400365250d"
      },
      "source": [
        "#TSLS analysis without covariates\n",
        "\n",
        "firstpain=ivreg(FIRST_PAIN_SCORE~HYDROMORPHONE_MG |cat, data=dil)\n",
        "\n",
        "lastpain=ivreg(LAST_PAIN_SCORE~HYDROMORPHONE_MG |cat, data=dil)\n",
        "\n",
        "morp60=ivreg(EQUIV_MSO4_IV_DOSE_60~HYDROMORPHONE_MG |cat, data=dil)\n",
        "\n",
        "morp120=ivreg(EQUIV_MSO4_IV_DOSE_120~HYDROMORPHONE_MG |cat, data=dil)\n",
        "\n",
        "morptot=ivreg(POSTOP_MSO4_EQUIV_IV_TOTAL~HYDROMORPHONE_MG |cat, data=dil)\n",
        "\n",
        "maxpain1=ivreg(MAX_PAIN_SCORE_DAY1~HYDROMORPHONE_MG |cat, data=dil)\n",
        "\n",
        "maxpain2=ivreg(MAX_PAIN_SCORE_DAY2~HYDROMORPHONE_MG |cat, data=dil)\n",
        "\n",
        "avepain1=ivreg(AVG_PAIN_SCORE_DAY1~HYDROMORPHONE_MG |cat, data=dil)\n",
        "\n",
        "avpain2=ivreg(AVG_PAIN_SCORE_DAY2~HYDROMORPHONE_MG |cat, data=dil)\n",
        "\n",
        "morp1=ivreg(MSO4_EQUIV_DOSE_IV_DAY1~HYDROMORPHONE_MG |cat, data=dil)\n",
        "\n",
        "morp2=ivreg(MSO4_EQUIV_DOSE_IV_DAY2~HYDROMORPHONE_MG |cat, data=dil)\n",
        "\n",
        "\n",
        "\n",
        "\n",
        "mortot1=ivreg(daytot1~HYDROMORPHONE_MG |cat, data=dil)\n",
        "mortot2=ivreg(daytot2~HYDROMORPHONE_MG |cat, data=dil)\n",
        "\n",
        "\n",
        "models <- list(\n",
        "  \"1st PACU Pain\"     = firstpain,\n",
        "  \"Last PACU Pain\" = lastpain,    \n",
        "    \"Ave Pain (day 1)\"=avepain1,\n",
        "   \"Ave Pain (day 2)\"=avpain2,\n",
        "     \"Max Pain (day 1)\"=maxpain1,\n",
        "    \"Max Pain (day 2)\"=maxpain2\n",
        "    \n",
        "\n",
        ")\n",
        "models1<- list(\n",
        "\n",
        "\"MME PACU 60min\" =morp60,\n",
        "    \"MME PACU 120min\"=morp120,\n",
        "    \n",
        "\n",
        "     'MME day1'=mortot1,\n",
        "     'MME day2'=mortot2\n",
        "   \n",
        ")\n",
        "\n",
        "coef_rename=c(\"HYDROMORPHONE_MG\"=\"\")\n",
        "modelsummary(models,estimate  =   \"Estimate= {estimate}\",\n",
        "  statistic = c(\"CI={conf.low}, {conf.high}\",\"p = {p.value}\"),\n",
        "\n",
        "coef_omit = \"Intercept\",gof_omit = 'R2|R2 Adj|F|AIC|BIC|Log.Lik', fmt=2, coef_rename=coef_rename, output = \"latex\")\n",
        "\n",
        "\n",
        "modelsummary(models1,estimate   =   \"Estimate= {estimate}\",\n",
        "  statistic = c(\"CI={conf.low}, {conf.high}\",\"p = {p.value}\"),\n",
        "\n",
        "  coef_omit = \"Intercept\",gof_omit = 'R2|R2 Adj|F|AIC|BIC|Log.Lik', fmt=2, coef_rename=coef_rename, output = \"latex\")\n",
        "\n"
      ],
      "execution_count": null,
      "outputs": [
        {
          "output_type": "display_data",
          "data": {
            "text/plain": [
              "\\begin{table}\n",
              "\\centering\n",
              "\\begin{tabular}[t]{lcccccc}\n",
              "\\toprule\n",
              "  & 1st PACU Pain & Last PACU Pain & Ave Pain (day 1) & Ave Pain (day 2) & Max Pain (day 1) & Max Pain (day 2)\\\\\n",
              "\\midrule\n",
              " & Estimate= \\num{-0.82} & Estimate= \\num{-0.24} & Estimate= \\num{-0.28} & Estimate= \\num{-0.30} & Estimate= \\num{-0.37} & Estimate= \\num{-0.31}\\\\\n",
              " & CI=\\num{-1.21}, \\num{-0.43} & CI=\\num{-0.47}, \\num{-0.01} & CI=\\num{-0.50}, \\num{-0.06} & CI=\\num{-0.51}, \\num{-0.08} & CI=\\num{-0.66}, \\num{-0.09} & CI=\\num{-0.59}, \\num{-0.03}\\\\\n",
              " & p = \\num{0.00} & p = \\num{0.04} & p = \\num{0.01} & p = \\num{0.01} & p = \\num{0.01} & p = \\num{0.03}\\\\\n",
              "\\midrule\n",
              "Num.Obs. & \\num{6505} & \\num{6505} & \\num{6662} & \\num{5883} & \\num{6662} & \\num{5883}\\\\\n",
              "\\bottomrule\n",
              "\\end{tabular}\n",
              "\\end{table}"
            ]
          },
          "metadata": {}
        },
        {
          "output_type": "display_data",
          "data": {
            "text/plain": [
              "\\begin{table}\n",
              "\\centering\n",
              "\\begin{tabular}[t]{lcccc}\n",
              "\\toprule\n",
              "  & MME PACU 60min & MME PACU 120min & MME day1 & MME day2\\\\\n",
              "\\midrule\n",
              " & Estimate= \\num{1.18} & Estimate= \\num{-0.27} & Estimate= \\num{2.65} & Estimate= \\num{-0.42}\\\\\n",
              " & CI=\\num{-4.85}, \\num{7.20} & CI=\\num{-0.90}, \\num{0.36} & CI=\\num{-0.96}, \\num{6.26} & CI=\\num{-8.85}, \\num{8.01}\\\\\n",
              " & p = \\num{0.70} & p = \\num{0.40} & p = \\num{0.15} & p = \\num{0.92}\\\\\n",
              "\\midrule\n",
              "Num.Obs. & \\num{6595} & \\num{6552} & \\num{6663} & \\num{5885}\\\\\n",
              "\\bottomrule\n",
              "\\end{tabular}\n",
              "\\end{table}"
            ]
          },
          "metadata": {}
        }
      ]
    },
    {
      "cell_type": "code",
      "metadata": {
        "colab": {
          "base_uri": "https://localhost:8080/",
          "height": 442
        },
        "id": "TodQHy24CTOn",
        "outputId": "0d602978-08f4-4301-970b-3a252e3f2d9e"
      },
      "source": [
        "summary(morp60)"
      ],
      "execution_count": null,
      "outputs": [
        {
          "output_type": "display_data",
          "data": {
            "text/plain": [
              "\n",
              "Call:\n",
              "ivreg(formula = EQUIV_MSO4_IV_DOSE_60 ~ HYDROMORPHONE_MG | cat, \n",
              "    data = dil)\n",
              "\n",
              "Residuals:\n",
              "     Min       1Q   Median       3Q      Max \n",
              "-101.196   -9.533   -5.883    4.292 5991.942 \n",
              "\n",
              "Coefficients:\n",
              "                 Estimate Std. Error t value Pr(>|t|)\n",
              "(Intercept)         7.182     11.705   0.614    0.539\n",
              "HYDROMORPHONE_MG    1.175      3.072   0.382    0.702\n",
              "\n",
              "Diagnostic tests:\n",
              "                  df1  df2 statistic p-value    \n",
              "Weak instruments    1 6593    74.662  <2e-16 ***\n",
              "Wu-Hausman          1 6592     0.009   0.924    \n",
              "Sargan              0   NA        NA      NA    \n",
              "---\n",
              "Signif. codes:  0 ‘***’ 0.001 ‘**’ 0.01 ‘*’ 0.05 ‘.’ 0.1 ‘ ’ 1\n",
              "\n",
              "Residual standard error: 75.37 on 6593 degrees of freedom\n",
              "Multiple R-Squared: 0.002956,\tAdjusted R-squared: 0.002805 \n",
              "Wald test: 0.1463 on 1 and 6593 DF,  p-value: 0.7021 \n"
            ]
          },
          "metadata": {}
        }
      ]
    },
    {
      "cell_type": "code",
      "metadata": {
        "colab": {
          "base_uri": "https://localhost:8080/",
          "height": 1000
        },
        "id": "IdfX8cUho1CD",
        "outputId": "6646da8b-d764-4dbb-804e-873249355cc2"
      },
      "source": [
        "#output for tsls with covariates\n",
        "firstpain=ivreg(FIRST_PAIN_SCORE~HYDROMORPHONE_MG+ASA_SCORE+ASA_EMERGENT+WEIGHT_KG+BMI+as.factor(ANES_TYPE_HANDOFF)+DURATION+AGE+as.factor(SEX)+\n",
        "FENTANYL_MG+case|cat +ASA_SCORE+ASA_EMERGENT+WEIGHT_KG+BMI+as.factor(ANES_TYPE_HANDOFF)+DURATION+AGE+as.factor(SEX)+\n",
        "FENTANYL_MG +case ,data=dil)\n",
        "\n",
        "\n",
        "lastpain=ivreg(LAST_PAIN_SCORE~HYDROMORPHONE_MG+ASA_SCORE+ASA_EMERGENT+WEIGHT_KG+BMI+as.factor(ANES_TYPE_HANDOFF)+DURATION+AGE+as.factor(SEX)+\n",
        "FENTANYL_MG +case|cat+ASA_SCORE+ASA_EMERGENT+WEIGHT_KG+BMI+as.factor(ANES_TYPE_HANDOFF)+DURATION+AGE+as.factor(SEX)+\n",
        "FENTANYL_MG +case, data=dil)\n",
        "\n",
        "\n",
        "morp60=ivreg(EQUIV_MSO4_IV_DOSE_60~HYDROMORPHONE_MG+ASA_SCORE+ASA_EMERGENT+WEIGHT_KG+BMI+as.factor(ANES_TYPE_HANDOFF)+DURATION+AGE+as.factor(SEX)+\n",
        "FENTANYL_MG +case|cat+ASA_SCORE+ASA_EMERGENT+WEIGHT_KG+BMI+as.factor(ANES_TYPE_HANDOFF)+DURATION+AGE+as.factor(SEX)+\n",
        "FENTANYL_MG +case, data=dil)\n",
        "\n",
        "\n",
        "morp120=ivreg(EQUIV_MSO4_IV_DOSE_120~HYDROMORPHONE_MG+ASA_SCORE+ASA_EMERGENT+WEIGHT_KG+BMI+as.factor(ANES_TYPE_HANDOFF)+DURATION+AGE+as.factor(SEX)+\n",
        "FENTANYL_MG +case|cat+ASA_SCORE+ASA_EMERGENT+WEIGHT_KG+BMI+as.factor(ANES_TYPE_HANDOFF)+DURATION+AGE+as.factor(SEX)+\n",
        "FENTANYL_MG +case, data=dil)\n",
        "\n",
        "\n",
        "\n",
        "\n",
        "maxpain1=ivreg(MAX_PAIN_SCORE_DAY1~HYDROMORPHONE_MG+ASA_SCORE+ASA_EMERGENT+WEIGHT_KG+BMI+as.factor(ANES_TYPE_HANDOFF)+DURATION+AGE+as.factor(SEX)+\n",
        "FENTANYL_MG +case|cat+ASA_SCORE+ASA_EMERGENT+WEIGHT_KG+BMI+as.factor(ANES_TYPE_HANDOFF)+DURATION+AGE+as.factor(SEX)+\n",
        "FENTANYL_MG +case, data=dil)\n",
        "\n",
        "maxpain2=ivreg(MAX_PAIN_SCORE_DAY2~HYDROMORPHONE_MG+ASA_SCORE+ASA_EMERGENT+WEIGHT_KG+BMI+as.factor(ANES_TYPE_HANDOFF)+DURATION+AGE+as.factor(SEX)+\n",
        "FENTANYL_MG +case|cat+ASA_SCORE+ASA_EMERGENT+WEIGHT_KG+BMI+as.factor(ANES_TYPE_HANDOFF)+DURATION+AGE+as.factor(SEX)+\n",
        "FENTANYL_MG +case, data=dil)\n",
        "\n",
        "avepain1=ivreg(AVG_PAIN_SCORE_DAY1~HYDROMORPHONE_MG+ASA_SCORE+ASA_EMERGENT+WEIGHT_KG+BMI+as.factor(ANES_TYPE_HANDOFF)+DURATION+AGE+as.factor(SEX)+\n",
        "FENTANYL_MG +case|cat+ASA_SCORE+ASA_EMERGENT+WEIGHT_KG+BMI+as.factor(ANES_TYPE_HANDOFF)+DURATION+AGE+as.factor(SEX)+\n",
        "FENTANYL_MG +case, data=dil)\n",
        "\n",
        "avpain2=ivreg(AVG_PAIN_SCORE_DAY2~HYDROMORPHONE_MG+ASA_SCORE+ASA_EMERGENT+WEIGHT_KG+BMI+as.factor(ANES_TYPE_HANDOFF)+DURATION+AGE+as.factor(SEX)+\n",
        "FENTANYL_MG +case|cat+ASA_SCORE+ASA_EMERGENT+WEIGHT_KG+BMI+as.factor(ANES_TYPE_HANDOFF)+DURATION+AGE+as.factor(SEX)+\n",
        "FENTANYL_MG +case, data=dil)\n",
        "\n",
        "morp1=ivreg(MSO4_EQUIV_DOSE_IV_DAY1~HYDROMORPHONE_MG+ASA_SCORE+ASA_EMERGENT+WEIGHT_KG+BMI+as.factor(ANES_TYPE_HANDOFF)+DURATION+AGE+as.factor(SEX)+\n",
        "FENTANYL_MG +case|cat+ASA_SCORE+ASA_EMERGENT+WEIGHT_KG+BMI+as.factor(ANES_TYPE_HANDOFF)+DURATION+AGE+as.factor(SEX)+\n",
        "FENTANYL_MG +case, data=dil)\n",
        "\n",
        "morp2=ivreg(MSO4_EQUIV_DOSE_IV_DAY2~HYDROMORPHONE_MG+ASA_SCORE+ASA_EMERGENT+WEIGHT_KG+BMI+as.factor(ANES_TYPE_HANDOFF)+DURATION+AGE+as.factor(SEX)+\n",
        "FENTANYL_MG +case|cat+ASA_SCORE+ASA_EMERGENT+WEIGHT_KG+BMI+as.factor(ANES_TYPE_HANDOFF)+DURATION+AGE+as.factor(SEX)+\n",
        "FENTANYL_MG +case, data=dil)\n",
        "\n",
        "mortot1=ivreg(daytot1~HYDROMORPHONE_MG+ASA_SCORE+ASA_EMERGENT+WEIGHT_KG+BMI+as.factor(ANES_TYPE_HANDOFF)+DURATION+AGE+as.factor(SEX)+\n",
        "FENTANYL_MG +case|cat+ASA_SCORE+ASA_EMERGENT+WEIGHT_KG+BMI+as.factor(ANES_TYPE_HANDOFF)+DURATION+AGE+as.factor(SEX)+\n",
        "FENTANYL_MG +case, data=dil)\n",
        "\n",
        "mortot2=ivreg(daytot2~HYDROMORPHONE_MG+ASA_SCORE+ASA_EMERGENT+WEIGHT_KG+BMI+as.factor(ANES_TYPE_HANDOFF)+DURATION+AGE+as.factor(SEX)+\n",
        "FENTANYL_MG +case|cat+ASA_SCORE+ASA_EMERGENT+WEIGHT_KG+BMI+as.factor(ANES_TYPE_HANDOFF)+DURATION+AGE+as.factor(SEX)+\n",
        "FENTANYL_MG +case, data=dil)\n",
        "\n",
        "\n",
        "models <- list(\n",
        "  \"1st PACU Pain\"     = firstpain,\n",
        "  \"Last PACU Pain\" = lastpain,    \n",
        "    \"Ave Pain (day 1)\"=avepain1,\n",
        "   \"Ave Pain (day 2)\"=avpain2,\n",
        "     \"Max Pain (day 1)\"=maxpain1,\n",
        "    \"Max Pain (day 2)\"=maxpain2\n",
        "    \n",
        "\n",
        ")\n",
        "models1<- list(\n",
        "\n",
        "\"MME PACU 60min\" =morp60,\n",
        "    \"MME PACU 120min\"=morp120,\n",
        "    #\"MME PACU total\"=morptot,\n",
        "\n",
        "     'MME day1'=mortot1,\n",
        "     'MME day2'=mortot2\n",
        "   \n",
        ")\n",
        "\n",
        "\n",
        "\n",
        "coef_rename=c(\"case\"=\"Surgery Type\", \"HYDROMORPHONE_MG\"=\"Hydromorphone (mg)\", \"ASA_SCORE\"=\"ASA Score\", \"ASA_EMERGENT\"= \"ASA(E)\",\n",
        "\"AGE\"=\"Age\", \"FENTANYL_MG\"=\"Fentanyl (mg)\", \"DURATION\"=\"Duration\", \"WEIGHT_KG\"= \"Weight_kg\")\n",
        "modelsummary(models,estimate  =   \"Estimate= {estimate}\",\n",
        "  statistic = c(\"CI={conf.low}, {conf.high}\",\"p = {p.value}\"),\n",
        "\n",
        "coef_omit = \"Intercept\",gof_omit = 'R2|R2 Adj|F|AIC|BIC|Log.Lik', fmt=2, coef_rename=coef_rename, output = \"latex\")\n",
        "\n",
        "\n",
        "modelsummary(models1,estimate   =   \"Estimate= {estimate}\",\n",
        "  statistic = c(\"CI={conf.low}, {conf.high}\",\"p = {p.value}\"),\n",
        "\n",
        "  coef_omit = \"Intercept\",gof_omit = 'R2|R2 Adj|F|AIC|BIC|Log.Lik', fmt=2, coef_rename=coef_rename, output = \"latex\")\n",
        "\n",
        "\n"
      ],
      "execution_count": null,
      "outputs": [
        {
          "output_type": "display_data",
          "data": {
            "text/plain": [
              "\\begin{table}\n",
              "\\centering\n",
              "\\begin{tabular}[t]{lcccccc}\n",
              "\\toprule\n",
              "  & 1st PACU Pain & Last PACU Pain & Ave Pain (day 1) & Ave Pain (day 2) & Max Pain (day 1) & Max Pain (day 2)\\\\\n",
              "\\midrule\n",
              "Hydromorphone (mg) & Estimate= \\num{-0.81} & Estimate= \\num{-0.23} & Estimate= \\num{-0.29} & Estimate= \\num{-0.28} & Estimate= \\num{-0.38} & Estimate= \\num{-0.27}\\\\\n",
              " & CI=\\num{-1.18}, \\num{-0.44} & CI=\\num{-0.46}, \\num{-0.01} & CI=\\num{-0.49}, \\num{-0.08} & CI=\\num{-0.48}, \\num{-0.09} & CI=\\num{-0.65}, \\num{-0.10} & CI=\\num{-0.53}, \\num{-0.02}\\\\\n",
              " & p = \\num{0.00} & p = \\num{0.04} & p = \\num{0.01} & p = \\num{0.00} & p = \\num{0.01} & p = \\num{0.04}\\\\\n",
              "ASA Score & Estimate= \\num{0.55} & Estimate= \\num{0.35} & Estimate= \\num{0.27} & Estimate= \\num{0.13} & Estimate= \\num{0.02} & Estimate= \\num{0.36}\\\\\n",
              " & CI=\\num{0.36}, \\num{0.75} & CI=\\num{0.23}, \\num{0.47} & CI=\\num{0.16}, \\num{0.37} & CI=\\num{0.02}, \\num{0.23} & CI=\\num{-0.13}, \\num{0.16} & CI=\\num{0.22}, \\num{0.49}\\\\\n",
              " & p = \\num{0.00} & p = \\num{0.00} & p = \\num{0.00} & p = \\num{0.02} & p = \\num{0.83} & p = \\num{0.00}\\\\\n",
              "ASA(E) & Estimate= \\num{-0.35} & Estimate= \\num{-0.27} & Estimate= \\num{1.25} & Estimate= \\num{0.21} & Estimate= \\num{1.15} & Estimate= \\num{0.91}\\\\\n",
              " & CI=\\num{-0.90}, \\num{0.19} & CI=\\num{-0.60}, \\num{0.06} & CI=\\num{0.95}, \\num{1.55} & CI=\\num{-0.07}, \\num{0.49} & CI=\\num{0.74}, \\num{1.55} & CI=\\num{0.54}, \\num{1.27}\\\\\n",
              " & p = \\num{0.21} & p = \\num{0.11} & p = \\num{0.00} & p = \\num{0.14} & p = \\num{0.00} & p = \\num{0.00}\\\\\n",
              "Weight\\_kg & Estimate= \\num{0.01} & Estimate= \\num{0.00} & Estimate= \\num{0.01} & Estimate= \\num{0.01} & Estimate= \\num{0.01} & Estimate= \\num{0.01}\\\\\n",
              " & CI=\\num{0.00}, \\num{0.02} & CI=\\num{0.00}, \\num{0.01} & CI=\\num{0.00}, \\num{0.01} & CI=\\num{0.01}, \\num{0.02} & CI=\\num{0.00}, \\num{0.02} & CI=\\num{0.00}, \\num{0.02}\\\\\n",
              " & p = \\num{0.17} & p = \\num{0.34} & p = \\num{0.12} & p = \\num{0.00} & p = \\num{0.25} & p = \\num{0.18}\\\\\n",
              "BMI & Estimate= \\num{0.00} & Estimate= \\num{0.00} & Estimate= \\num{-0.01} & Estimate= \\num{-0.02} & Estimate= \\num{0.01} & Estimate= \\num{-0.01}\\\\\n",
              " & CI=\\num{-0.04}, \\num{0.04} & CI=\\num{-0.02}, \\num{0.03} & CI=\\num{-0.03}, \\num{0.02} & CI=\\num{-0.04}, \\num{0.00} & CI=\\num{-0.02}, \\num{0.04} & CI=\\num{-0.04}, \\num{0.02}\\\\\n",
              " & p = \\num{0.95} & p = \\num{0.95} & p = \\num{0.54} & p = \\num{0.04} & p = \\num{0.44} & p = \\num{0.63}\\\\\n",
              "as.factor(ANES\\_TYPE\\_HANDOFF)1 & Estimate= \\num{-0.39} & Estimate= \\num{0.11} & Estimate= \\num{0.17} & Estimate= \\num{0.14} & Estimate= \\num{-0.01} & Estimate= \\num{-0.04}\\\\\n",
              " & CI=\\num{-1.18}, \\num{0.40} & CI=\\num{-0.36}, \\num{0.58} & CI=\\num{-0.25}, \\num{0.60} & CI=\\num{-0.30}, \\num{0.58} & CI=\\num{-0.58}, \\num{0.55} & CI=\\num{-0.62}, \\num{0.53}\\\\\n",
              " & p = \\num{0.33} & p = \\num{0.64} & p = \\num{0.43} & p = \\num{0.53} & p = \\num{0.96} & p = \\num{0.89}\\\\\n",
              "Duration & Estimate= \\num{0.00} & Estimate= \\num{0.00} & Estimate= \\num{0.00} & Estimate= \\num{0.00} & Estimate= \\num{0.00} & Estimate= \\num{0.00}\\\\\n",
              " & CI=\\num{0.00}, \\num{0.01} & CI=\\num{0.00}, \\num{0.00} & CI=\\num{0.00}, \\num{0.00} & CI=\\num{0.00}, \\num{0.00} & CI=\\num{0.00}, \\num{0.00} & CI=\\num{0.00}, \\num{0.00}\\\\\n",
              " & p = \\num{0.00} & p = \\num{0.11} & p = \\num{0.87} & p = \\num{0.15} & p = \\num{0.89} & p = \\num{0.02}\\\\\n",
              "Age & Estimate= \\num{-0.06} & Estimate= \\num{-0.04} & Estimate= \\num{-0.03} & Estimate= \\num{-0.03} & Estimate= \\num{-0.03} & Estimate= \\num{-0.04}\\\\\n",
              " & CI=\\num{-0.07}, \\num{-0.05} & CI=\\num{-0.04}, \\num{-0.03} & CI=\\num{-0.04}, \\num{-0.03} & CI=\\num{-0.04}, \\num{-0.03} & CI=\\num{-0.04}, \\num{-0.02} & CI=\\num{-0.05}, \\num{-0.03}\\\\\n",
              " & p = \\num{0.00} & p = \\num{0.00} & p = \\num{0.00} & p = \\num{0.00} & p = \\num{0.00} & p = \\vphantom{2} \\num{0.00}\\\\\n",
              "as.factor(SEX)M & Estimate= \\num{-0.61} & Estimate= \\num{-0.28} & Estimate= \\num{-0.40} & Estimate= \\num{-0.50} & Estimate= \\num{-0.63} & Estimate= \\num{-0.56}\\\\\n",
              " & CI=\\num{-0.91}, \\num{-0.32} & CI=\\num{-0.46}, \\num{-0.11} & CI=\\num{-0.56}, \\num{-0.24} & CI=\\num{-0.66}, \\num{-0.35} & CI=\\num{-0.84}, \\num{-0.42} & CI=\\num{-0.76}, \\num{-0.35}\\\\\n",
              " & p = \\num{0.00} & p = \\num{0.00} & p = \\num{0.00} & p = \\num{0.00} & p = \\num{0.00} & p = \\vphantom{1} \\num{0.00}\\\\\n",
              "Fentanyl (mg) & Estimate= \\num{4.79} & Estimate= \\num{1.86} & Estimate= \\num{2.55} & Estimate= \\num{2.66} & Estimate= \\num{2.73} & Estimate= \\num{2.60}\\\\\n",
              " & CI=\\num{3.16}, \\num{6.42} & CI=\\num{0.88}, \\num{2.84} & CI=\\num{1.69}, \\num{3.42} & CI=\\num{1.83}, \\num{3.48} & CI=\\num{1.58}, \\num{3.87} & CI=\\num{1.52}, \\num{3.68}\\\\\n",
              " & p = \\num{0.00} & p = \\num{0.00} & p = \\num{0.00} & p = \\num{0.00} & p = \\num{0.00} & p = \\num{0.00}\\\\\n",
              "Surgery Type & Estimate= \\num{-0.95} & Estimate= \\num{-0.75} & Estimate= \\num{-0.05} & Estimate= \\num{0.04} & Estimate= \\num{0.00} & Estimate= \\num{-0.01}\\\\\n",
              " & CI=\\num{-2.09}, \\num{0.18} & CI=\\num{-1.43}, \\num{-0.07} & CI=\\num{-0.67}, \\num{0.57} & CI=\\num{-0.67}, \\num{0.76} & CI=\\num{-0.82}, \\num{0.82} & CI=\\num{-0.95}, \\num{0.93}\\\\\n",
              " & p = \\num{0.10} & p = \\num{0.03} & p = \\num{0.87} & p = \\num{0.91} & p = \\num{1.00} & p = \\num{0.98}\\\\\n",
              "\\midrule\n",
              "Num.Obs. & \\num{6470} & \\num{6470} & \\num{6623} & \\num{5844} & \\num{6623} & \\num{5844}\\\\\n",
              "\\bottomrule\n",
              "\\end{tabular}\n",
              "\\end{table}"
            ]
          },
          "metadata": {}
        },
        {
          "output_type": "display_data",
          "data": {
            "text/plain": [
              "\\begin{table}\n",
              "\\centering\n",
              "\\begin{tabular}[t]{lcccc}\n",
              "\\toprule\n",
              "  & MME PACU 60min & MME PACU 120min & MME day1 & MME day2\\\\\n",
              "\\midrule\n",
              "Hydromorphone (mg) & Estimate= \\num{0.96} & Estimate= \\num{-0.23} & Estimate= \\num{2.04} & Estimate= \\num{-0.28}\\\\\n",
              " & CI=\\num{-4.93}, \\num{6.85} & CI=\\num{-0.84}, \\num{0.38} & CI=\\num{-1.09}, \\num{5.17} & CI=\\num{-8.45}, \\num{7.89}\\\\\n",
              " & p = \\num{0.75} & p = \\num{0.46} & p = \\num{0.20} & p = \\num{0.95}\\\\\n",
              "ASA Score & Estimate= \\num{-1.81} & Estimate= \\num{0.42} & Estimate= \\num{-4.26} & Estimate= \\num{1.05}\\\\\n",
              " & CI=\\num{-5.00}, \\num{1.39} & CI=\\num{0.09}, \\num{0.74} & CI=\\num{-5.92}, \\num{-2.61} & CI=\\num{-3.21}, \\num{5.31}\\\\\n",
              " & p = \\num{0.27} & p = \\num{0.01} & p = \\num{0.00} & p = \\num{0.63}\\\\\n",
              "ASA(E) & Estimate= \\num{-1.60} & Estimate= \\num{-0.60} & Estimate= \\num{3.98} & Estimate= \\num{10.96}\\\\\n",
              " & CI=\\num{-10.48}, \\num{7.28} & CI=\\num{-1.51}, \\num{0.30} & CI=\\num{-0.66}, \\num{8.62} & CI=\\num{-0.55}, \\num{22.46}\\\\\n",
              " & p = \\num{0.72} & p = \\num{0.19} & p = \\num{0.09} & p = \\num{0.06}\\\\\n",
              "Weight\\_kg & Estimate= \\num{-0.10} & Estimate= \\num{0.02} & Estimate= \\num{0.20} & Estimate= \\num{0.22}\\\\\n",
              " & CI=\\num{-0.33}, \\num{0.13} & CI=\\num{0.00}, \\num{0.05} & CI=\\num{0.08}, \\num{0.32} & CI=\\num{-0.09}, \\num{0.53}\\\\\n",
              " & p = \\num{0.38} & p = \\num{0.05} & p = \\num{0.00} & p = \\num{0.16}\\\\\n",
              "BMI & Estimate= \\num{0.14} & Estimate= \\num{-0.06} & Estimate= \\num{-0.24} & Estimate= \\num{-0.74}\\\\\n",
              " & CI=\\num{-0.54}, \\num{0.82} & CI=\\num{-0.13}, \\num{0.01} & CI=\\num{-0.60}, \\num{0.11} & CI=\\num{-1.66}, \\num{0.17}\\\\\n",
              " & p = \\num{0.68} & p = \\num{0.09} & p = \\num{0.18} & p = \\num{0.11}\\\\\n",
              "as.factor(ANES\\_TYPE\\_HANDOFF)1 & Estimate= \\num{-0.60} & Estimate= \\num{0.40} & Estimate= \\num{4.05} & Estimate= \\num{3.86}\\\\\n",
              " & CI=\\num{-13.26}, \\num{12.07} & CI=\\num{-0.90}, \\num{1.70} & CI=\\num{-2.51}, \\num{10.60} & CI=\\num{-14.32}, \\num{22.04}\\\\\n",
              " & p = \\num{0.93} & p = \\num{0.55} & p = \\num{0.23} & p = \\num{0.68}\\\\\n",
              "Duration & Estimate= \\num{-0.02} & Estimate= \\num{0.00} & Estimate= \\num{-0.01} & Estimate= \\num{-0.03}\\\\\n",
              " & CI=\\num{-0.05}, \\num{0.01} & CI=\\num{0.00}, \\num{0.00} & CI=\\num{-0.03}, \\num{0.00} & CI=\\num{-0.07}, \\num{0.01}\\\\\n",
              " & p = \\num{0.30} & p = \\num{0.33} & p = \\num{0.17} & p = \\num{0.14}\\\\\n",
              "Age & Estimate= \\num{-0.16} & Estimate= \\num{-0.03} & Estimate= \\num{-0.15} & Estimate= \\num{-0.52}\\\\\n",
              " & CI=\\num{-0.34}, \\num{0.01} & CI=\\num{-0.05}, \\num{-0.02} & CI=\\num{-0.24}, \\num{-0.06} & CI=\\num{-0.76}, \\num{-0.28}\\\\\n",
              " & p = \\num{0.07} & p = \\num{0.00} & p = \\num{0.00} & p = \\vphantom{1} \\num{0.00}\\\\\n",
              "as.factor(SEX)M & Estimate= \\num{3.18} & Estimate= \\num{-0.08} & Estimate= \\num{-2.38} & Estimate= \\num{2.37}\\\\\n",
              " & CI=\\num{-1.56}, \\num{7.91} & CI=\\num{-0.56}, \\num{0.41} & CI=\\num{-4.82}, \\num{0.06} & CI=\\num{-4.10}, \\num{8.84}\\\\\n",
              " & p = \\num{0.19} & p = \\num{0.75} & p = \\num{0.06} & p = \\num{0.47}\\\\\n",
              "Fentanyl (mg) & Estimate= \\num{23.30} & Estimate= \\num{5.78} & Estimate= \\num{181.82} & Estimate= \\num{54.60}\\\\\n",
              " & CI=\\num{-2.35}, \\num{48.96} & CI=\\num{3.13}, \\num{8.43} & CI=\\num{168.59}, \\num{195.06} & CI=\\num{20.33}, \\num{88.87}\\\\\n",
              " & p = \\num{0.07} & p = \\num{0.00} & p = \\num{0.00} & p = \\num{0.00}\\\\\n",
              "Surgery Type & Estimate= \\num{-3.44} & Estimate= \\num{-1.41} & Estimate= \\num{-2.13} & Estimate= \\num{-8.82}\\\\\n",
              " & CI=\\num{-21.92}, \\num{15.03} & CI=\\num{-3.29}, \\num{0.48} & CI=\\num{-11.59}, \\num{7.34} & CI=\\num{-38.43}, \\num{20.80}\\\\\n",
              " & p = \\num{0.71} & p = \\num{0.14} & p = \\num{0.66} & p = \\num{0.56}\\\\\n",
              "\\midrule\n",
              "Num.Obs. & \\num{6557} & \\num{6516} & \\num{6624} & \\num{5846}\\\\\n",
              "\\bottomrule\n",
              "\\end{tabular}\n",
              "\\end{table}"
            ]
          },
          "metadata": {}
        }
      ]
    },
    {
      "cell_type": "code",
      "metadata": {
        "colab": {
          "base_uri": "https://localhost:8080/",
          "height": 595
        },
        "id": "BfsNOKjHqaXW",
        "outputId": "397de9b2-0e07-4aea-b7f2-30fd5f0c2dbe"
      },
      "source": [
        "#output for fentanyl covariate only\n",
        "\n",
        "#output for tsls with covariates\n",
        "firstpain=ivreg(FIRST_PAIN_SCORE~HYDROMORPHONE_MG +FENTANYL_MG|cat +FENTANYL_MG ,data=dil)\n",
        "\n",
        "\n",
        "lastpain=ivreg(LAST_PAIN_SCORE~HYDROMORPHONE_MG+FENTANYL_MG|cat+FENTANYL_MG, data=dil)\n",
        "\n",
        "\n",
        "morp60=ivreg(EQUIV_MSO4_IV_DOSE_60~HYDROMORPHONE_MG+FENTANYL_MG|cat+FENTANYL_MG, data=dil)\n",
        "\n",
        "\n",
        "morp120=ivreg(EQUIV_MSO4_IV_DOSE_120~HYDROMORPHONE_MG+FENTANYL_MG|cat+FENTANYL_MG, data=dil)\n",
        "\n",
        "\n",
        "\n",
        "\n",
        "maxpain1=ivreg(MAX_PAIN_SCORE_DAY1~HYDROMORPHONE_MG+FENTANYL_MG|cat+FENTANYL_MG, data=dil)\n",
        "\n",
        "maxpain2=ivreg(MAX_PAIN_SCORE_DAY2~HYDROMORPHONE_MG+FENTANYL_MG|cat+FENTANYL_MG, data=dil)\n",
        "\n",
        "avepain1=ivreg(AVG_PAIN_SCORE_DAY1~HYDROMORPHONE_MG+FENTANYL_MG|cat+FENTANYL_MG, data=dil)\n",
        "\n",
        "avpain2=ivreg(AVG_PAIN_SCORE_DAY2~HYDROMORPHONE_MG+FENTANYL_MG|cat+FENTANYL_MG, data=dil)\n",
        "\n",
        "morp1=ivreg(MSO4_EQUIV_DOSE_IV_DAY1~HYDROMORPHONE_MG+FENTANYL_MG|cat+FENTANYL_MG, data=dil)\n",
        "\n",
        "morp2=ivreg(MSO4_EQUIV_DOSE_IV_DAY2~HYDROMORPHONE_MG+FENTANYL_MG|cat+FENTANYL_MG, data=dil)\n",
        "\n",
        "mortot1=ivreg(daytot1~HYDROMORPHONE_MG+FENTANYL_MG|cat+FENTANYL_MG, data=dil)\n",
        "\n",
        "mortot2=ivreg(daytot2~HYDROMORPHONE_MG+FENTANYL_MG|cat+FENTANYL_MG, data=dil)\n",
        "\n",
        "\n",
        "models <- list(\n",
        "  \"1st PACU Pain\"     = firstpain,\n",
        "  \"Last PACU Pain\" = lastpain,    \n",
        "    \"Ave Pain (day 1)\"=avepain1,\n",
        "   \"Ave Pain (day 2)\"=avpain2,\n",
        "     \"Max Pain (day 1)\"=maxpain1,\n",
        "    \"Max Pain (day 2)\"=maxpain2\n",
        "    \n",
        "\n",
        ")\n",
        "models1<- list(\n",
        "\n",
        "\"MME PACU 60min\" =morp60,\n",
        "    \"MME PACU 120min\"=morp120,\n",
        "    #\"MME PACU total\"=morptot,\n",
        "\n",
        "     'MME day1'=mortot1,\n",
        "     'MME day2'=mortot2\n",
        "   \n",
        ")\n",
        "\n",
        "\n",
        "coef_rename=c(\"HYDROMORPHONE_MG\"=\"Hydromorphone(mg)\", \"FENTANYL_MG\"=\"Fentanyl(mg)\")\n",
        "modelsummary(models,estimate  =   \"Estimate= {estimate}\",\n",
        "  statistic = c(\"CI={conf.low}, {conf.high}\",\"p = {p.value}\"),\n",
        "\n",
        "coef_omit = \"Intercept\",gof_omit = 'R2|R2 Adj|F|AIC|BIC|Log.Lik', fmt=2, coef_rename=coef_rename, output = \"latex\")\n",
        "\n",
        "\n",
        "modelsummary(models1,estimate   =   \"Estimate= {estimate}\",\n",
        "  statistic = c(\"CI={conf.low}, {conf.high}\",\"p = {p.value}\"),\n",
        "\n",
        "  coef_omit = \"Intercept\",gof_omit = 'R2|R2 Adj|F|AIC|BIC|Log.Lik', fmt=2, coef_rename=coef_rename, output = \"latex\")\n",
        "\n",
        "\n"
      ],
      "execution_count": null,
      "outputs": [
        {
          "output_type": "display_data",
          "data": {
            "text/plain": [
              "\\begin{table}\n",
              "\\centering\n",
              "\\begin{tabular}[t]{lcccccc}\n",
              "\\toprule\n",
              "  & 1st PACU Pain & Last PACU Pain & Ave Pain (day 1) & Ave Pain (day 2) & Max Pain (day 1) & Max Pain (day 2)\\\\\n",
              "\\midrule\n",
              "Hydromorphone(mg) & Estimate= \\num{-0.83} & Estimate= \\num{-0.25} & Estimate= \\num{-0.29} & Estimate= \\num{-0.30} & Estimate= \\num{-0.38} & Estimate= \\num{-0.32}\\\\\n",
              " & CI=\\num{-1.22}, \\num{-0.44} & CI=\\num{-0.48}, \\num{-0.01} & CI=\\num{-0.51}, \\num{-0.07} & CI=\\num{-0.52}, \\num{-0.09} & CI=\\num{-0.67}, \\num{-0.09} & CI=\\num{-0.60}, \\num{-0.04}\\\\\n",
              " & p = \\num{0.00} & p = \\num{0.04} & p = \\num{0.01} & p = \\num{0.01} & p = \\num{0.01} & p = \\num{0.02}\\\\\n",
              "Fentanyl(mg) & Estimate= \\num{6.10} & Estimate= \\num{2.46} & Estimate= \\num{2.72} & Estimate= \\num{3.15} & Estimate= \\num{2.99} & Estimate= \\num{3.22}\\\\\n",
              " & CI=\\num{4.01}, \\num{8.18} & CI=\\num{1.21}, \\num{3.71} & CI=\\num{1.62}, \\num{3.83} & CI=\\num{2.08}, \\num{4.22} & CI=\\num{1.52}, \\num{4.45} & CI=\\num{1.82}, \\num{4.62}\\\\\n",
              " & p = \\num{0.00} & p = \\num{0.00} & p = \\num{0.00} & p = \\num{0.00} & p = \\num{0.00} & p = \\num{0.00}\\\\\n",
              "\\midrule\n",
              "Num.Obs. & \\num{6505} & \\num{6505} & \\num{6662} & \\num{5883} & \\num{6662} & \\num{5883}\\\\\n",
              "\\bottomrule\n",
              "\\end{tabular}\n",
              "\\end{table}"
            ]
          },
          "metadata": {}
        },
        {
          "output_type": "display_data",
          "data": {
            "text/plain": [
              "\\begin{table}\n",
              "\\centering\n",
              "\\begin{tabular}[t]{lcccc}\n",
              "\\toprule\n",
              "  & MME PACU 60min & MME PACU 120min & MME day1 & MME day2\\\\\n",
              "\\midrule\n",
              "Hydromorphone(mg) & Estimate= \\num{1.12} & Estimate= \\num{-0.29} & Estimate= \\num{2.11} & Estimate= \\num{-0.59}\\\\\n",
              " & CI=\\num{-4.96}, \\num{7.21} & CI=\\num{-0.93}, \\num{0.35} & CI=\\num{-1.17}, \\num{5.38} & CI=\\num{-9.12}, \\num{7.94}\\\\\n",
              " & p = \\num{0.72} & p = \\num{0.37} & p = \\num{0.21} & p = \\num{0.89}\\\\\n",
              "Fentanyl(mg) & Estimate= \\num{21.32} & Estimate= \\num{6.84} & Estimate= \\num{182.78} & Estimate= \\num{55.13}\\\\\n",
              " & CI=\\num{-10.54}, \\num{53.19} & CI=\\num{3.51}, \\num{10.17} & CI=\\num{166.09}, \\num{199.47} & CI=\\num{12.33}, \\num{97.94}\\\\\n",
              " & p = \\num{0.19} & p = \\num{0.00} & p = \\num{0.00} & p = \\num{0.01}\\\\\n",
              "\\midrule\n",
              "Num.Obs. & \\num{6595} & \\num{6552} & \\num{6663} & \\num{5885}\\\\\n",
              "\\bottomrule\n",
              "\\end{tabular}\n",
              "\\end{table}"
            ]
          },
          "metadata": {}
        }
      ]
    },
    {
      "cell_type": "markdown",
      "metadata": {
        "id": "j56EyLdxv5us"
      },
      "source": [
        "**Sensitivity Analysis**\n"
      ]
    },
    {
      "cell_type": "markdown",
      "metadata": {
        "id": "oNF60PfTwCad"
      },
      "source": [
        "Time windows"
      ]
    },
    {
      "cell_type": "code",
      "metadata": {
        "colab": {
          "base_uri": "https://localhost:8080/",
          "height": 493
        },
        "id": "EPjpma3y4D_j",
        "outputId": "c519653b-019f-45ff-d1d1-da4ccce0ff35"
      },
      "source": [
        "#load original dataset\n",
        "dil=read.csv(\"dilex.csv\")\n",
        "#filter, remove outliers, and recode some variables\n",
        "\n",
        "dil=dil%>%\n",
        "filter(AGE>=18)%>% #only include patients >=18 years of age\n",
        "#I will assume that if value for post-op opioids is missing, then if a pain score is present for that time, then the missing value indicates that \n",
        "#zero opioids were given.\n",
        "mutate(MSO4_EQUIV_DOSE_IV_DAY1=ifelse(is.na(MSO4_EQUIV_DOSE_IV_DAY1)&!is.na(MAX_PAIN_SCORE_DAY1),0,MSO4_EQUIV_DOSE_IV_DAY1))%>% \n",
        "mutate(MSO4_EQUIV_DOSE_IV_DAY2=ifelse(is.na(MSO4_EQUIV_DOSE_IV_DAY2)&!is.na(MAX_PAIN_SCORE_DAY2),0,MSO4_EQUIV_DOSE_IV_DAY2))%>%\n",
        "mutate(MSO4_EQUIV_DOSE_PO_DAY1=ifelse(is.na(MSO4_EQUIV_DOSE_PO_DAY1)&!is.na(MAX_PAIN_SCORE_DAY1),0,MSO4_EQUIV_DOSE_PO_DAY1))%>%\n",
        "mutate(MSO4_EQUIV_DOSE_PO_DAY2=ifelse(is.na(MSO4_EQUIV_DOSE_PO_DAY2)&!is.na(MAX_PAIN_SCORE_DAY2),0,MSO4_EQUIV_DOSE_PO_DAY2))%>%\n",
        "mutate(EQUIV_MSO4_IV_DOSE_60=ifelse(is.na(EQUIV_MSO4_IV_DOSE_60)&!is.na(FIRST_PAIN_SCORE),0,EQUIV_MSO4_IV_DOSE_60))%>%\n",
        "mutate(EQUIV_MSO4_IV_DOSE_120=ifelse(is.na(EQUIV_MSO4_IV_DOSE_120)&!is.na(FIRST_PAIN_SCORE),0,EQUIV_MSO4_IV_DOSE_120))%>%\n",
        "mutate(POSTOP_MSO4_EQUIV_IV_TOTAL=ifelse(is.na(POSTOP_MSO4_EQUIV_IV_TOTAL)&!is.na(FIRST_PAIN_SCORE),0,POSTOP_MSO4_EQUIV_IV_TOTAL))%>%\n",
        "mutate(POSTOP_MSO4_EQUIV_PO_TOTAL=ifelse(is.na(POSTOP_MSO4_EQUIV_PO_TOTAL)&!is.na(FIRST_PAIN_SCORE),0,POSTOP_MSO4_EQUIV_PO_TOTAL))%>%\n",
        "mutate(FENTANYL_MG=ifelse(is.na(FENTANYL_MG),0,FENTANYL_MG))%>%\n",
        "#when fentanyl is missing, it means that 0 fentanyl was given intraoperatively\n",
        "mutate(ANES_TYPE_HANDOFF=ifelse(ANES_TYPE_HANDOFF==\"GENERAL\",1,0))%>%\n",
        "#I create a variable \"general\" which is 1 if the patient had only general, and 0 otherwise\n",
        "filter(HYDROMORPHONE_MG<40)%>%\n",
        "#There were a few errors in diaudid doses, I removed values where dilaudid was >40 and value where it was exactly 11.2 \n",
        "filter(HYDROMORPHONE_MG!=11.2)%>%\n",
        "filter(BMI<120)%>% #120 #as these are likely errors where weight went into the BMI field\n",
        "filter(UCLA_LOC_GROUP==\"RR OR\"|UCLA_LOC_GROUP==\"SM OR\")%>%\n",
        "filter(DURATION<1500)%>%\n",
        "\n",
        "\n",
        "mutate(case=1)%>%\n",
        "mutate(case=ifelse(CASE_SRV_NAME==\"Dentistry-Hospital\"|CASE_SRV_NAME==\"Pediatrics, Hematology and Oncology\"|\n",
        "                   CASE_SRV_NAME==\"Medicine, Hematology and Oncology\"|CASE_SRV_NAME==\"Ophthalmology\"|\n",
        "                   CASE_SRV_NAME==\"Podiatry\"|CASE_SRV_NAME==\"Radiology\"|CASE_SRV_NAME==\"Medicine, Gastroenterology\"\n",
        "                   |CASE_SRV_NAME==\"Medicine, Pulmonary Disease\",2,case))%>%\n",
        "mutate(case=ifelse(CASE_SRV_NAME==\"Surgery, Cardiac\",0,case))\n",
        "dil0=dil\n",
        "#create saved version of dataset before removing dates\n",
        "\n",
        "#the primary dataset will use these days, for sensitivity analysis will redo with the dil0 dataset\n",
        "dil=dil%>%\n",
        "filter(DAY_SINCE_INTERVENTION<142)%>%\n",
        "#filter(DAY_SINCE_INTERVENTION>-142)%>%\n",
        "filter(DAY_SINCE_INTERVENTION>-500)%>%\n",
        "mutate(cat=0)%>%\n",
        "mutate(cat=ifelse(DAY_SINCE_INTERVENTION>=0 &DAY_SINCE_INTERVENTION<=142,1,cat))\n",
        "#remove 3 days around the change point\n",
        "#filter(DAY_SINCE_INTERVENTION <(-3) |DAY_SINCE_INTERVENTION >3)\n",
        "\n",
        "#transformation so that effect is for 0.2mg \n",
        "dil=dil%>%\n",
        "mutate(HYDROMORPHONE_MG=HYDROMORPHONE_MG*5)\n",
        "\n",
        "#create variable daytot1 and daytot2 to be combined IV and PO opioids \n",
        "dil=dil%>%\n",
        "mutate(daytot1=MSO4_EQUIV_DOSE_IV_DAY1+MSO4_EQUIV_DOSE_PO_DAY1)%>%\n",
        "mutate(daytot2=MSO4_EQUIV_DOSE_IV_DAY2+MSO4_EQUIV_DOSE_PO_DAY2)\n",
        "\n",
        "#TSLS analysis without covariates\n",
        "\n",
        "firstpain=ivreg(FIRST_PAIN_SCORE~HYDROMORPHONE_MG |cat, data=dil)\n",
        "\n",
        "lastpain=ivreg(LAST_PAIN_SCORE~HYDROMORPHONE_MG |cat, data=dil)\n",
        "\n",
        "morp60=ivreg(EQUIV_MSO4_IV_DOSE_60~HYDROMORPHONE_MG |cat, data=dil)\n",
        "\n",
        "morp120=ivreg(EQUIV_MSO4_IV_DOSE_120~HYDROMORPHONE_MG |cat, data=dil)\n",
        "\n",
        "morptot=ivreg(POSTOP_MSO4_EQUIV_IV_TOTAL~HYDROMORPHONE_MG |cat, data=dil)\n",
        "\n",
        "maxpain1=ivreg(MAX_PAIN_SCORE_DAY1~HYDROMORPHONE_MG |cat, data=dil)\n",
        "\n",
        "maxpain2=ivreg(MAX_PAIN_SCORE_DAY2~HYDROMORPHONE_MG |cat, data=dil)\n",
        "\n",
        "avepain1=ivreg(AVG_PAIN_SCORE_DAY1~HYDROMORPHONE_MG |cat, data=dil)\n",
        "\n",
        "avpain2=ivreg(AVG_PAIN_SCORE_DAY2~HYDROMORPHONE_MG |cat, data=dil)\n",
        "\n",
        "morp1=ivreg(MSO4_EQUIV_DOSE_IV_DAY1~HYDROMORPHONE_MG |cat, data=dil)\n",
        "\n",
        "morp2=ivreg(MSO4_EQUIV_DOSE_IV_DAY2~HYDROMORPHONE_MG |cat, data=dil)\n",
        "\n",
        "\n",
        "\n",
        "\n",
        "mortot1=ivreg(daytot1~HYDROMORPHONE_MG |cat, data=dil)\n",
        "mortot2=ivreg(daytot2~HYDROMORPHONE_MG |cat, data=dil)\n",
        "\n",
        "\n",
        "models <- list(\n",
        "  \"1st PACU Pain\"     = firstpain,\n",
        "  \"Last PACU Pain\" = lastpain,    \n",
        "    \"Ave Pain (day 1)\"=avepain1,\n",
        "   \"Ave Pain (day 2)\"=avpain2,\n",
        "     \"Max Pain (day 1)\"=maxpain1,\n",
        "    \"Max Pain (day 2)\"=maxpain2\n",
        "    \n",
        "\n",
        ")\n",
        "models1<- list(\n",
        "\n",
        "\"MME PACU 60min\" =morp60,\n",
        "    \"MME PACU 120min\"=morp120,\n",
        "    \n",
        "\n",
        "     'MME day1'=mortot1,\n",
        "     'MME day2'=mortot2\n",
        "   \n",
        ")\n",
        "\n",
        "coef_rename=c(\"HYDROMORPHONE_MG\"=\"\")\n",
        "modelsummary(models,estimate  =   \"Estimate= {estimate}\",\n",
        "  statistic = c(\"CI={conf.low}, {conf.high}\",\"p = {p.value}\"),\n",
        "\n",
        "coef_omit = \"Intercept\",gof_omit = 'R2|R2 Adj|F|AIC|BIC|Log.Lik', fmt=2, coef_rename=coef_rename, output = \"latex\")\n",
        "\n",
        "\n",
        "modelsummary(models1,estimate   =   \"Estimate= {estimate}\",\n",
        "  statistic = c(\"CI={conf.low}, {conf.high}\",\"p = {p.value}\"),\n",
        "\n",
        "  coef_omit = \"Intercept\",gof_omit = 'R2|R2 Adj|F|AIC|BIC|Log.Lik', fmt=2, coef_rename=coef_rename, output = \"latex\")\n",
        "\n",
        "\n",
        "\n"
      ],
      "execution_count": null,
      "outputs": [
        {
          "output_type": "display_data",
          "data": {
            "text/plain": [
              "\\begin{table}\n",
              "\\centering\n",
              "\\begin{tabular}[t]{lcccccc}\n",
              "\\toprule\n",
              "  & 1st PACU Pain & Last PACU Pain & Ave Pain (day 1) & Ave Pain (day 2) & Max Pain (day 1) & Max Pain (day 2)\\\\\n",
              "\\midrule\n",
              " & Estimate= \\num{-0.90} & Estimate= \\num{-0.30} & Estimate= \\num{-0.34} & Estimate= \\num{-0.26} & Estimate= \\num{-0.44} & Estimate= \\num{-0.33}\\\\\n",
              " & CI=\\num{-1.25}, \\num{-0.55} & CI=\\num{-0.50}, \\num{-0.09} & CI=\\num{-0.53}, \\num{-0.15} & CI=\\num{-0.44}, \\num{-0.09} & CI=\\num{-0.69}, \\num{-0.19} & CI=\\num{-0.57}, \\num{-0.09}\\\\\n",
              " & p = \\num{0.00} & p = \\num{0.00} & p = \\num{0.00} & p = \\num{0.00} & p = \\num{0.00} & p = \\num{0.01}\\\\\n",
              "\\midrule\n",
              "Num.Obs. & \\num{10572} & \\num{10572} & \\num{10857} & \\num{9601} & \\num{10857} & \\num{9601}\\\\\n",
              "\\bottomrule\n",
              "\\end{tabular}\n",
              "\\end{table}"
            ]
          },
          "metadata": {}
        },
        {
          "output_type": "display_data",
          "data": {
            "text/plain": [
              "\\begin{table}\n",
              "\\centering\n",
              "\\begin{tabular}[t]{lcccc}\n",
              "\\toprule\n",
              "  & MME PACU 60min & MME PACU 120min & MME day1 & MME day2\\\\\n",
              "\\midrule\n",
              " & Estimate= \\num{0.07} & Estimate= \\num{-0.12} & Estimate= \\num{4.33} & Estimate= \\num{-1.89}\\\\\n",
              " & CI=\\num{-4.11}, \\num{4.25} & CI=\\num{-0.66}, \\num{0.41} & CI=\\num{1.29}, \\num{7.36} & CI=\\num{-8.06}, \\num{4.27}\\\\\n",
              " & p = \\num{0.97} & p = \\num{0.66} & p = \\num{0.01} & p = \\num{0.55}\\\\\n",
              "\\midrule\n",
              "Num.Obs. & \\num{10710} & \\num{10642} & \\num{10858} & \\num{9603}\\\\\n",
              "\\bottomrule\n",
              "\\end{tabular}\n",
              "\\end{table}"
            ]
          },
          "metadata": {}
        }
      ]
    },
    {
      "cell_type": "code",
      "metadata": {
        "colab": {
          "base_uri": "https://localhost:8080/",
          "height": 493
        },
        "id": "kkgp1fUO6Ri9",
        "outputId": "003c8fde-3422-4368-956f-9f4feb892dca"
      },
      "source": [
        "#load original dataset\n",
        "dil=read.csv(\"dilex.csv\")\n",
        "#filter, remove outliers, and recode some variables\n",
        "\n",
        "dil=dil%>%\n",
        "filter(AGE>=18)%>% #only include patients >=18 years of age\n",
        "#I will assume that if value for post-op opioids is missing, then if a pain score is present for that time, then the missing value indicates that \n",
        "#zero opioids were given.\n",
        "mutate(MSO4_EQUIV_DOSE_IV_DAY1=ifelse(is.na(MSO4_EQUIV_DOSE_IV_DAY1)&!is.na(MAX_PAIN_SCORE_DAY1),0,MSO4_EQUIV_DOSE_IV_DAY1))%>% \n",
        "mutate(MSO4_EQUIV_DOSE_IV_DAY2=ifelse(is.na(MSO4_EQUIV_DOSE_IV_DAY2)&!is.na(MAX_PAIN_SCORE_DAY2),0,MSO4_EQUIV_DOSE_IV_DAY2))%>%\n",
        "mutate(MSO4_EQUIV_DOSE_PO_DAY1=ifelse(is.na(MSO4_EQUIV_DOSE_PO_DAY1)&!is.na(MAX_PAIN_SCORE_DAY1),0,MSO4_EQUIV_DOSE_PO_DAY1))%>%\n",
        "mutate(MSO4_EQUIV_DOSE_PO_DAY2=ifelse(is.na(MSO4_EQUIV_DOSE_PO_DAY2)&!is.na(MAX_PAIN_SCORE_DAY2),0,MSO4_EQUIV_DOSE_PO_DAY2))%>%\n",
        "mutate(EQUIV_MSO4_IV_DOSE_60=ifelse(is.na(EQUIV_MSO4_IV_DOSE_60)&!is.na(FIRST_PAIN_SCORE),0,EQUIV_MSO4_IV_DOSE_60))%>%\n",
        "mutate(EQUIV_MSO4_IV_DOSE_120=ifelse(is.na(EQUIV_MSO4_IV_DOSE_120)&!is.na(FIRST_PAIN_SCORE),0,EQUIV_MSO4_IV_DOSE_120))%>%\n",
        "mutate(POSTOP_MSO4_EQUIV_IV_TOTAL=ifelse(is.na(POSTOP_MSO4_EQUIV_IV_TOTAL)&!is.na(FIRST_PAIN_SCORE),0,POSTOP_MSO4_EQUIV_IV_TOTAL))%>%\n",
        "mutate(POSTOP_MSO4_EQUIV_PO_TOTAL=ifelse(is.na(POSTOP_MSO4_EQUIV_PO_TOTAL)&!is.na(FIRST_PAIN_SCORE),0,POSTOP_MSO4_EQUIV_PO_TOTAL))%>%\n",
        "mutate(FENTANYL_MG=ifelse(is.na(FENTANYL_MG),0,FENTANYL_MG))%>%\n",
        "#when fentanyl is missing, it means that 0 fentanyl was given intraoperatively\n",
        "mutate(ANES_TYPE_HANDOFF=ifelse(ANES_TYPE_HANDOFF==\"GENERAL\",1,0))%>%\n",
        "#I create a variable \"general\" which is 1 if the patient had only general, and 0 otherwise\n",
        "filter(HYDROMORPHONE_MG<40)%>%\n",
        "#There were a few errors in diaudid doses, I removed values where dilaudid was >40 and value where it was exactly 11.2 \n",
        "filter(HYDROMORPHONE_MG!=11.2)%>%\n",
        "filter(BMI<120)%>% #120 #as these are likely errors where weight went into the BMI field\n",
        "filter(UCLA_LOC_GROUP==\"RR OR\"|UCLA_LOC_GROUP==\"SM OR\")%>%\n",
        "filter(DURATION<1500)%>%\n",
        "\n",
        "\n",
        "mutate(case=1)%>%\n",
        "mutate(case=ifelse(CASE_SRV_NAME==\"Dentistry-Hospital\"|CASE_SRV_NAME==\"Pediatrics, Hematology and Oncology\"|\n",
        "                   CASE_SRV_NAME==\"Medicine, Hematology and Oncology\"|CASE_SRV_NAME==\"Ophthalmology\"|\n",
        "                   CASE_SRV_NAME==\"Podiatry\"|CASE_SRV_NAME==\"Radiology\"|CASE_SRV_NAME==\"Medicine, Gastroenterology\"\n",
        "                   |CASE_SRV_NAME==\"Medicine, Pulmonary Disease\",2,case))%>%\n",
        "mutate(case=ifelse(CASE_SRV_NAME==\"Surgery, Cardiac\",0,case))\n",
        "dil0=dil\n",
        "#create saved version of dataset before removing dates\n",
        "\n",
        "#the primary dataset will use these days, for sensitivity analysis will redo with the dil0 dataset\n",
        "dil=dil%>%\n",
        "filter(DAY_SINCE_INTERVENTION<142)%>%\n",
        "#filter(DAY_SINCE_INTERVENTION>-142)%>%\n",
        "filter(DAY_SINCE_INTERVENTION>-142)%>%\n",
        "mutate(cat=0)%>%\n",
        "mutate(cat=ifelse(DAY_SINCE_INTERVENTION>=0 &DAY_SINCE_INTERVENTION<=142,1,cat))\n",
        "#remove 3 days around the change point\n",
        "#filter(DAY_SINCE_INTERVENTION <(-3) |DAY_SINCE_INTERVENTION >3)\n",
        "\n",
        "#transformation so that effect is for 0.2mg \n",
        "dil=dil%>%\n",
        "mutate(HYDROMORPHONE_MG=HYDROMORPHONE_MG*5)\n",
        "\n",
        "#create variable daytot1 and daytot2 to be combined IV and PO opioids \n",
        "dil=dil%>%\n",
        "mutate(daytot1=MSO4_EQUIV_DOSE_IV_DAY1+MSO4_EQUIV_DOSE_PO_DAY1)%>%\n",
        "mutate(daytot2=MSO4_EQUIV_DOSE_IV_DAY2+MSO4_EQUIV_DOSE_PO_DAY2)\n",
        "\n",
        "#TSLS analysis without covariates\n",
        "\n",
        "firstpain=ivreg(FIRST_PAIN_SCORE~HYDROMORPHONE_MG |cat, data=dil)\n",
        "\n",
        "lastpain=ivreg(LAST_PAIN_SCORE~HYDROMORPHONE_MG |cat, data=dil)\n",
        "\n",
        "morp60=ivreg(EQUIV_MSO4_IV_DOSE_60~HYDROMORPHONE_MG |cat, data=dil)\n",
        "\n",
        "morp120=ivreg(EQUIV_MSO4_IV_DOSE_120~HYDROMORPHONE_MG |cat, data=dil)\n",
        "\n",
        "morptot=ivreg(POSTOP_MSO4_EQUIV_IV_TOTAL~HYDROMORPHONE_MG |cat, data=dil)\n",
        "\n",
        "maxpain1=ivreg(MAX_PAIN_SCORE_DAY1~HYDROMORPHONE_MG |cat, data=dil)\n",
        "\n",
        "maxpain2=ivreg(MAX_PAIN_SCORE_DAY2~HYDROMORPHONE_MG |cat, data=dil)\n",
        "\n",
        "avepain1=ivreg(AVG_PAIN_SCORE_DAY1~HYDROMORPHONE_MG |cat, data=dil)\n",
        "\n",
        "avpain2=ivreg(AVG_PAIN_SCORE_DAY2~HYDROMORPHONE_MG |cat, data=dil)\n",
        "\n",
        "morp1=ivreg(MSO4_EQUIV_DOSE_IV_DAY1~HYDROMORPHONE_MG |cat, data=dil)\n",
        "\n",
        "morp2=ivreg(MSO4_EQUIV_DOSE_IV_DAY2~HYDROMORPHONE_MG |cat, data=dil)\n",
        "\n",
        "\n",
        "\n",
        "\n",
        "mortot1=ivreg(daytot1~HYDROMORPHONE_MG |cat, data=dil)\n",
        "mortot2=ivreg(daytot2~HYDROMORPHONE_MG |cat, data=dil)\n",
        "\n",
        "\n",
        "models <- list(\n",
        "  \"1st PACU Pain\"     = firstpain,\n",
        "  \"Last PACU Pain\" = lastpain,    \n",
        "    \"Ave Pain (day 1)\"=avepain1,\n",
        "   \"Ave Pain (day 2)\"=avpain2,\n",
        "     \"Max Pain (day 1)\"=maxpain1,\n",
        "    \"Max Pain (day 2)\"=maxpain2\n",
        "    \n",
        "\n",
        ")\n",
        "models1<- list(\n",
        "\n",
        "\"MME PACU 60min\" =morp60,\n",
        "    \"MME PACU 120min\"=morp120,\n",
        "    \n",
        "\n",
        "     'MME day1'=mortot1,\n",
        "     'MME day2'=mortot2\n",
        "   \n",
        ")\n",
        "\n",
        "coef_rename=c(\"HYDROMORPHONE_MG\"=\"\")\n",
        "modelsummary(models,estimate  =   \"Estimate= {estimate}\",\n",
        "  statistic = c(\"CI={conf.low}, {conf.high}\",\"p = {p.value}\"),\n",
        "\n",
        "coef_omit = \"Intercept\",gof_omit = 'R2|R2 Adj|F|AIC|BIC|Log.Lik', fmt=2, coef_rename=coef_rename, output = \"latex\")\n",
        "\n",
        "\n",
        "modelsummary(models1,estimate   =   \"Estimate= {estimate}\",\n",
        "  statistic = c(\"CI={conf.low}, {conf.high}\",\"p = {p.value}\"),\n",
        "\n",
        "  coef_omit = \"Intercept\",gof_omit = 'R2|R2 Adj|F|AIC|BIC|Log.Lik', fmt=2, coef_rename=coef_rename, output = \"latex\")\n",
        "\n",
        "\n",
        "\n"
      ],
      "execution_count": null,
      "outputs": [
        {
          "output_type": "display_data",
          "data": {
            "text/plain": [
              "\\begin{table}\n",
              "\\centering\n",
              "\\begin{tabular}[t]{lcccccc}\n",
              "\\toprule\n",
              "  & 1st PACU Pain & Last PACU Pain & Ave Pain (day 1) & Ave Pain (day 2) & Max Pain (day 1) & Max Pain (day 2)\\\\\n",
              "\\midrule\n",
              " & Estimate= \\num{-0.90} & Estimate= \\num{-0.37} & Estimate= \\num{-0.32} & Estimate= \\num{-0.38} & Estimate= \\num{-0.44} & Estimate= \\num{-0.42}\\\\\n",
              " & CI=\\num{-1.42}, \\num{-0.38} & CI=\\num{-0.69}, \\num{-0.05} & CI=\\num{-0.61}, \\num{-0.03} & CI=\\num{-0.67}, \\num{-0.08} & CI=\\num{-0.83}, \\num{-0.06} & CI=\\num{-0.81}, \\num{-0.04}\\\\\n",
              " & p = \\num{0.00} & p = \\num{0.03} & p = \\num{0.03} & p = \\num{0.01} & p = \\num{0.02} & p = \\num{0.03}\\\\\n",
              "\\midrule\n",
              "Num.Obs. & \\num{4784} & \\num{4784} & \\num{4907} & \\num{4316} & \\num{4907} & \\num{4316}\\\\\n",
              "\\bottomrule\n",
              "\\end{tabular}\n",
              "\\end{table}"
            ]
          },
          "metadata": {}
        },
        {
          "output_type": "display_data",
          "data": {
            "text/plain": [
              "\\begin{table}\n",
              "\\centering\n",
              "\\begin{tabular}[t]{lcccc}\n",
              "\\toprule\n",
              "  & MME PACU 60min & MME PACU 120min & MME day1 & MME day2\\\\\n",
              "\\midrule\n",
              " & Estimate= \\num{-1.51} & Estimate= \\num{-0.50} & Estimate= \\num{2.26} & Estimate= \\num{-1.98}\\\\\n",
              " & CI=\\num{-3.36}, \\num{0.33} & CI=\\num{-1.33}, \\num{0.33} & CI=\\num{-2.69}, \\num{7.22} & CI=\\num{-9.03}, \\num{5.07}\\\\\n",
              " & p = \\num{0.11} & p = \\num{0.23} & p = \\num{0.37} & p = \\num{0.58}\\\\\n",
              "\\midrule\n",
              "Num.Obs. & \\num{4854} & \\num{4817} & \\num{4907} & \\num{4318}\\\\\n",
              "\\bottomrule\n",
              "\\end{tabular}\n",
              "\\end{table}"
            ]
          },
          "metadata": {}
        }
      ]
    },
    {
      "cell_type": "code",
      "metadata": {
        "id": "4w6DaK327LJH",
        "colab": {
          "base_uri": "https://localhost:8080/",
          "height": 493
        },
        "outputId": "977424a7-dbf8-47bc-fc62-54b6bfa1fc1b"
      },
      "source": [
        "#load original dataset\n",
        "dil=read.csv(\"dilex.csv\")\n",
        "#filter, remove outliers, and recode some variables\n",
        "\n",
        "dil=dil%>%\n",
        "filter(AGE>=18)%>% #only include patients >=18 years of age\n",
        "#I will assume that if value for post-op opioids is missing, then if a pain score is present for that time, then the missing value indicates that \n",
        "#zero opioids were given.\n",
        "mutate(MSO4_EQUIV_DOSE_IV_DAY1=ifelse(is.na(MSO4_EQUIV_DOSE_IV_DAY1)&!is.na(MAX_PAIN_SCORE_DAY1),0,MSO4_EQUIV_DOSE_IV_DAY1))%>% \n",
        "mutate(MSO4_EQUIV_DOSE_IV_DAY2=ifelse(is.na(MSO4_EQUIV_DOSE_IV_DAY2)&!is.na(MAX_PAIN_SCORE_DAY2),0,MSO4_EQUIV_DOSE_IV_DAY2))%>%\n",
        "mutate(MSO4_EQUIV_DOSE_PO_DAY1=ifelse(is.na(MSO4_EQUIV_DOSE_PO_DAY1)&!is.na(MAX_PAIN_SCORE_DAY1),0,MSO4_EQUIV_DOSE_PO_DAY1))%>%\n",
        "mutate(MSO4_EQUIV_DOSE_PO_DAY2=ifelse(is.na(MSO4_EQUIV_DOSE_PO_DAY2)&!is.na(MAX_PAIN_SCORE_DAY2),0,MSO4_EQUIV_DOSE_PO_DAY2))%>%\n",
        "mutate(EQUIV_MSO4_IV_DOSE_60=ifelse(is.na(EQUIV_MSO4_IV_DOSE_60)&!is.na(FIRST_PAIN_SCORE),0,EQUIV_MSO4_IV_DOSE_60))%>%\n",
        "mutate(EQUIV_MSO4_IV_DOSE_120=ifelse(is.na(EQUIV_MSO4_IV_DOSE_120)&!is.na(FIRST_PAIN_SCORE),0,EQUIV_MSO4_IV_DOSE_120))%>%\n",
        "mutate(POSTOP_MSO4_EQUIV_IV_TOTAL=ifelse(is.na(POSTOP_MSO4_EQUIV_IV_TOTAL)&!is.na(FIRST_PAIN_SCORE),0,POSTOP_MSO4_EQUIV_IV_TOTAL))%>%\n",
        "mutate(POSTOP_MSO4_EQUIV_PO_TOTAL=ifelse(is.na(POSTOP_MSO4_EQUIV_PO_TOTAL)&!is.na(FIRST_PAIN_SCORE),0,POSTOP_MSO4_EQUIV_PO_TOTAL))%>%\n",
        "mutate(FENTANYL_MG=ifelse(is.na(FENTANYL_MG),0,FENTANYL_MG))%>%\n",
        "#when fentanyl is missing, it means that 0 fentanyl was given intraoperatively\n",
        "mutate(ANES_TYPE_HANDOFF=ifelse(ANES_TYPE_HANDOFF==\"GENERAL\",1,0))%>%\n",
        "#I create a variable \"general\" which is 1 if the patient had only general, and 0 otherwise\n",
        "filter(HYDROMORPHONE_MG<40)%>%\n",
        "#There were a few errors in diaudid doses, I removed values where dilaudid was >40 and value where it was exactly 11.2 \n",
        "filter(HYDROMORPHONE_MG!=11.2)%>%\n",
        "filter(BMI<120)%>% #120 #as these are likely errors where weight went into the BMI field\n",
        "filter(UCLA_LOC_GROUP==\"RR OR\"|UCLA_LOC_GROUP==\"SM OR\")%>%\n",
        "filter(DURATION<1500)%>%\n",
        "\n",
        "\n",
        "mutate(case=1)%>%\n",
        "mutate(case=ifelse(CASE_SRV_NAME==\"Dentistry-Hospital\"|CASE_SRV_NAME==\"Pediatrics, Hematology and Oncology\"|\n",
        "                   CASE_SRV_NAME==\"Medicine, Hematology and Oncology\"|CASE_SRV_NAME==\"Ophthalmology\"|\n",
        "                   CASE_SRV_NAME==\"Podiatry\"|CASE_SRV_NAME==\"Radiology\"|CASE_SRV_NAME==\"Medicine, Gastroenterology\"\n",
        "                   |CASE_SRV_NAME==\"Medicine, Pulmonary Disease\",2,case))%>%\n",
        "mutate(case=ifelse(CASE_SRV_NAME==\"Surgery, Cardiac\",0,case))\n",
        "dil0=dil\n",
        "#create saved version of dataset before removing dates\n",
        "\n",
        "#the primary dataset will use these days, for sensitivity analysis will redo with the dil0 dataset\n",
        "dil=dil%>%\n",
        "filter(DAY_SINCE_INTERVENTION<250)%>%\n",
        "#filter(DAY_SINCE_INTERVENTION>-142)%>%\n",
        "filter(DAY_SINCE_INTERVENTION>-250)%>%\n",
        "mutate(cat=0)%>%\n",
        "mutate(cat=ifelse(DAY_SINCE_INTERVENTION>=0 &DAY_SINCE_INTERVENTION<=142,1,cat))\n",
        "#remove 3 days around the change point\n",
        "#filter(DAY_SINCE_INTERVENTION <(-3) |DAY_SINCE_INTERVENTION >3)\n",
        "\n",
        "#transformation so that effect is for 0.2mg \n",
        "dil=dil%>%\n",
        "mutate(HYDROMORPHONE_MG=HYDROMORPHONE_MG*5)\n",
        "\n",
        "#create variable daytot1 and daytot2 to be combined IV and PO opioids \n",
        "dil=dil%>%\n",
        "mutate(daytot1=MSO4_EQUIV_DOSE_IV_DAY1+MSO4_EQUIV_DOSE_PO_DAY1)%>%\n",
        "mutate(daytot2=MSO4_EQUIV_DOSE_IV_DAY2+MSO4_EQUIV_DOSE_PO_DAY2)\n",
        "\n",
        "#TSLS analysis without covariates\n",
        "\n",
        "firstpain=ivreg(FIRST_PAIN_SCORE~HYDROMORPHONE_MG |cat, data=dil)\n",
        "\n",
        "lastpain=ivreg(LAST_PAIN_SCORE~HYDROMORPHONE_MG |cat, data=dil)\n",
        "\n",
        "morp60=ivreg(EQUIV_MSO4_IV_DOSE_60~HYDROMORPHONE_MG |cat, data=dil)\n",
        "\n",
        "morp120=ivreg(EQUIV_MSO4_IV_DOSE_120~HYDROMORPHONE_MG |cat, data=dil)\n",
        "\n",
        "morptot=ivreg(POSTOP_MSO4_EQUIV_IV_TOTAL~HYDROMORPHONE_MG |cat, data=dil)\n",
        "\n",
        "maxpain1=ivreg(MAX_PAIN_SCORE_DAY1~HYDROMORPHONE_MG |cat, data=dil)\n",
        "\n",
        "maxpain2=ivreg(MAX_PAIN_SCORE_DAY2~HYDROMORPHONE_MG |cat, data=dil)\n",
        "\n",
        "avepain1=ivreg(AVG_PAIN_SCORE_DAY1~HYDROMORPHONE_MG |cat, data=dil)\n",
        "\n",
        "avpain2=ivreg(AVG_PAIN_SCORE_DAY2~HYDROMORPHONE_MG |cat, data=dil)\n",
        "\n",
        "morp1=ivreg(MSO4_EQUIV_DOSE_IV_DAY1~HYDROMORPHONE_MG |cat, data=dil)\n",
        "\n",
        "morp2=ivreg(MSO4_EQUIV_DOSE_IV_DAY2~HYDROMORPHONE_MG |cat, data=dil)\n",
        "\n",
        "\n",
        "\n",
        "\n",
        "mortot1=ivreg(daytot1~HYDROMORPHONE_MG |cat, data=dil)\n",
        "mortot2=ivreg(daytot2~HYDROMORPHONE_MG |cat, data=dil)\n",
        "\n",
        "\n",
        "models <- list(\n",
        "  \"1st PACU Pain\"     = firstpain,\n",
        "  \"Last PACU Pain\" = lastpain,    \n",
        "    \"Ave Pain (day 1)\"=avepain1,\n",
        "   \"Ave Pain (day 2)\"=avpain2,\n",
        "     \"Max Pain (day 1)\"=maxpain1,\n",
        "    \"Max Pain (day 2)\"=maxpain2\n",
        "    \n",
        "\n",
        ")\n",
        "models1<- list(\n",
        "\n",
        "\"MME PACU 60min\" =morp60,\n",
        "    \"MME PACU 120min\"=morp120,\n",
        "    \n",
        "\n",
        "     'MME day1'=mortot1,\n",
        "     'MME day2'=mortot2\n",
        "   \n",
        ")\n",
        "\n",
        "coef_rename=c(\"HYDROMORPHONE_MG\"=\"\")\n",
        "modelsummary(models,estimate  =   \"Estimate= {estimate}\",\n",
        "  statistic = c(\"CI={conf.low}, {conf.high}\",\"p = {p.value}\"),\n",
        "\n",
        "coef_omit = \"Intercept\",gof_omit = 'R2|R2 Adj|F|AIC|BIC|Log.Lik', fmt=2, coef_rename=coef_rename, output = \"latex\")\n",
        "\n",
        "\n",
        "modelsummary(models1,estimate   =   \"Estimate= {estimate}\",\n",
        "  statistic = c(\"CI={conf.low}, {conf.high}\",\"p = {p.value}\"),\n",
        "\n",
        "  coef_omit = \"Intercept\",gof_omit = 'R2|R2 Adj|F|AIC|BIC|Log.Lik', fmt=2, coef_rename=coef_rename, output = \"latex\")\n",
        "\n",
        "\n",
        "\n"
      ],
      "execution_count": null,
      "outputs": [
        {
          "output_type": "display_data",
          "data": {
            "text/plain": [
              "\\begin{table}\n",
              "\\centering\n",
              "\\begin{tabular}[t]{lcccccc}\n",
              "\\toprule\n",
              "  & 1st PACU Pain & Last PACU Pain & Ave Pain (day 1) & Ave Pain (day 2) & Max Pain (day 1) & Max Pain (day 2)\\\\\n",
              "\\midrule\n",
              " & Estimate= \\num{-0.73} & Estimate= \\num{-0.27} & Estimate= \\num{-0.30} & Estimate= \\num{-0.27} & Estimate= \\num{-0.46} & Estimate= \\num{-0.31}\\\\\n",
              " & CI=\\num{-1.11}, \\num{-0.34} & CI=\\num{-0.51}, \\num{-0.03} & CI=\\num{-0.52}, \\num{-0.09} & CI=\\num{-0.48}, \\num{-0.07} & CI=\\num{-0.76}, \\num{-0.17} & CI=\\num{-0.58}, \\num{-0.04}\\\\\n",
              " & p = \\num{0.00} & p = \\num{0.03} & p = \\num{0.01} & p = \\num{0.01} & p = \\num{0.00} & p = \\num{0.02}\\\\\n",
              "\\midrule\n",
              "Num.Obs. & \\num{7541} & \\num{7541} & \\num{7741} & \\num{6832} & \\num{7741} & \\num{6832}\\\\\n",
              "\\bottomrule\n",
              "\\end{tabular}\n",
              "\\end{table}"
            ]
          },
          "metadata": {}
        },
        {
          "output_type": "display_data",
          "data": {
            "text/plain": [
              "\\begin{table}\n",
              "\\centering\n",
              "\\begin{tabular}[t]{lcccc}\n",
              "\\toprule\n",
              "  & MME PACU 60min & MME PACU 120min & MME day1 & MME day2\\\\\n",
              "\\midrule\n",
              " & Estimate= \\num{0.94} & Estimate= \\num{-0.28} & Estimate= \\num{2.10} & Estimate= \\num{-1.12}\\\\\n",
              " & CI=\\num{-4.77}, \\num{6.65} & CI=\\num{-0.92}, \\num{0.36} & CI=\\num{-1.49}, \\num{5.69} & CI=\\num{-8.94}, \\num{6.70}\\\\\n",
              " & p = \\num{0.75} & p = \\num{0.38} & p = \\num{0.25} & p = \\num{0.78}\\\\\n",
              "\\midrule\n",
              "Num.Obs. & \\num{7648} & \\num{7597} & \\num{7742} & \\num{6834}\\\\\n",
              "\\bottomrule\n",
              "\\end{tabular}\n",
              "\\end{table}"
            ]
          },
          "metadata": {}
        }
      ]
    },
    {
      "cell_type": "markdown",
      "metadata": {
        "id": "zcO8VdrrwECw"
      },
      "source": [
        "Contour Plots"
      ]
    },
    {
      "cell_type": "code",
      "metadata": {
        "colab": {
          "base_uri": "https://localhost:8080/",
          "height": 357
        },
        "id": "O95cAS1Eweew",
        "outputId": "413821c9-43f7-4567-fdcc-2fea24f5da21"
      },
      "source": [
        "model=lm(MAX_PAIN_SCORE_DAY2~BMI+cat, data=dil)\n",
        "summary(model)\n"
      ],
      "execution_count": null,
      "outputs": [
        {
          "output_type": "display_data",
          "data": {
            "text/plain": [
              "\n",
              "Call:\n",
              "lm(formula = MAX_PAIN_SCORE_DAY2 ~ BMI + cat, data = dil)\n",
              "\n",
              "Residuals:\n",
              "    Min      1Q  Median      3Q     Max \n",
              "-6.5479 -1.9451  0.7687  2.0254  4.1668 \n",
              "\n",
              "Coefficients:\n",
              "            Estimate Std. Error t value Pr(>|t|)    \n",
              "(Intercept) 5.649796   0.167386  33.753   <2e-16 ***\n",
              "BMI         0.012565   0.005838   2.153   0.0314 *  \n",
              "cat         0.184428   0.078479   2.350   0.0188 *  \n",
              "---\n",
              "Signif. codes:  0 ‘***’ 0.001 ‘**’ 0.01 ‘*’ 0.05 ‘.’ 0.1 ‘ ’ 1\n",
              "\n",
              "Residual standard error: 2.918 on 5880 degrees of freedom\n",
              "  (868 observations deleted due to missingness)\n",
              "Multiple R-squared:  0.001772,\tAdjusted R-squared:  0.001433 \n",
              "F-statistic: 5.219 on 2 and 5880 DF,  p-value: 0.005437\n"
            ]
          },
          "metadata": {}
        }
      ]
    },
    {
      "cell_type": "code",
      "metadata": {
        "colab": {
          "base_uri": "https://localhost:8080/",
          "height": 340
        },
        "id": "uOt0M8Qd8inM",
        "outputId": "dc071302-4726-4885-ba81-f7373083e640"
      },
      "source": [
        "model=lm(FIRST_PAIN_SCORE~FENTANYL_MG, data=dil)\n",
        "summary(model)\n"
      ],
      "execution_count": null,
      "outputs": [
        {
          "output_type": "display_data",
          "data": {
            "text/plain": [
              "\n",
              "Call:\n",
              "lm(formula = FIRST_PAIN_SCORE ~ FENTANYL_MG, data = dil)\n",
              "\n",
              "Residuals:\n",
              "   Min     1Q Median     3Q    Max \n",
              "-5.330 -3.325 -3.038  3.618  6.962 \n",
              "\n",
              "Coefficients:\n",
              "            Estimate Std. Error t value Pr(>|t|)    \n",
              "(Intercept)  3.03804    0.07501  40.503  < 2e-16 ***\n",
              "FENTANYL_MG  2.29216    0.42463   5.398 6.98e-08 ***\n",
              "---\n",
              "Signif. codes:  0 ‘***’ 0.001 ‘**’ 0.01 ‘*’ 0.05 ‘.’ 0.1 ‘ ’ 1\n",
              "\n",
              "Residual standard error: 3.785 on 6503 degrees of freedom\n",
              "  (246 observations deleted due to missingness)\n",
              "Multiple R-squared:  0.004461,\tAdjusted R-squared:  0.004308 \n",
              "F-statistic: 29.14 on 1 and 6503 DF,  p-value: 6.977e-08\n"
            ]
          },
          "metadata": {}
        }
      ]
    },
    {
      "cell_type": "code",
      "metadata": {
        "colab": {
          "base_uri": "https://localhost:8080/",
          "height": 323
        },
        "id": "p5bNXeTuzRfs",
        "outputId": "16ec529b-313d-42d6-a8a6-b006d825ae14"
      },
      "source": [
        "model=lm(BMI~cat , data=dil)\n",
        "summary(model)"
      ],
      "execution_count": null,
      "outputs": [
        {
          "output_type": "display_data",
          "data": {
            "text/plain": [
              "\n",
              "Call:\n",
              "lm(formula = BMI ~ cat, data = dil)\n",
              "\n",
              "Residuals:\n",
              "    Min      1Q  Median      3Q     Max \n",
              "-14.729  -4.329  -1.097   3.087  82.771 \n",
              "\n",
              "Coefficients:\n",
              "            Estimate Std. Error t value Pr(>|t|)    \n",
              "(Intercept)  27.4292     0.1004 273.327   <2e-16 ***\n",
              "cat           0.2681     0.1628   1.647   0.0996 .  \n",
              "---\n",
              "Signif. codes:  0 ‘***’ 0.001 ‘**’ 0.01 ‘*’ 0.05 ‘.’ 0.1 ‘ ’ 1\n",
              "\n",
              "Residual standard error: 6.493 on 6749 degrees of freedom\n",
              "Multiple R-squared:  0.0004018,\tAdjusted R-squared:  0.0002536 \n",
              "F-statistic: 2.713 on 1 and 6749 DF,  p-value: 0.09961\n"
            ]
          },
          "metadata": {}
        }
      ]
    },
    {
      "cell_type": "code",
      "metadata": {
        "colab": {
          "base_uri": "https://localhost:8080/"
        },
        "id": "PSw233Rsxv_Y",
        "outputId": "4d6b61e2-93eb-4f41-bd93-8b3d4f429348"
      },
      "source": [
        "sens=sensemakr(model=model, treatment=\"cat\", benchmark_covariates = \"BMI\" ,kd=c(1,5,10,20,40))\n",
        "summary(sens)"
      ],
      "execution_count": null,
      "outputs": [
        {
          "output_type": "stream",
          "name": "stdout",
          "text": [
            "Sensitivity Analysis to Unobserved Confounding\n",
            "\n",
            "Model Formula: MAX_PAIN_SCORE_DAY2 ~ BMI + cat\n",
            "\n",
            "Null hypothesis: q = 1 and reduce = TRUE \n",
            "-- This means we are considering biases that reduce the absolute value of the current estimate.\n",
            "-- The null hypothesis deemed problematic is H0:tau = 0 \n",
            "\n",
            "Unadjusted Estimates of 'cat': \n",
            "  Coef. estimate: 0.1844 \n",
            "  Standard Error: 0.0785 \n",
            "  t-value (H0:tau = 0): 2.35 \n",
            "\n",
            "Sensitivity Statistics:\n",
            "  Partial R2 of treatment with outcome: 9e-04 \n",
            "  Robustness Value, q = 1: 0.0302 \n",
            "  Robustness Value, q = 1, alpha = 0.05: 0.0051 \n",
            "\n",
            "Verbal interpretation of sensitivity statistics:\n",
            "\n",
            "-- Partial R2 of the treatment with the outcome: an extreme confounder (orthogonal to the covariates) that explains 100% of the residual variance of the outcome, would need to explain at least 0.09% of the residual variance of the treatment to fully account for the observed estimated effect.\n",
            "\n",
            "-- Robustness Value, q = 1: unobserved confounders (orthogonal to the covariates) that explain more than 3.02% of the residual variance of both the treatment and the outcome are strong enough to bring the point estimate to 0 (a bias of 100% of the original estimate). Conversely, unobserved confounders that do not explain more than 3.02% of the residual variance of both the treatment and the outcome are not strong enough to bring the point estimate to 0.\n",
            "\n",
            "-- Robustness Value, q = 1, alpha = 0.05: unobserved confounders (orthogonal to the covariates) that explain more than 0.51% of the residual variance of both the treatment and the outcome are strong enough to bring the estimate to a range where it is no longer 'statistically different' from 0 (a bias of 100% of the original estimate), at the significance level of alpha = 0.05. Conversely, unobserved confounders that do not explain more than 0.51% of the residual variance of both the treatment and the outcome are not strong enough to bring the estimate to a range where it is no longer 'statistically different' from 0, at the significance level of alpha = 0.05.\n",
            "\n",
            "Bounds on omitted variable bias:\n",
            "\n",
            "--The table below shows the maximum strength of unobserved confounders with association with the treatment and the outcome bounded by a multiple of the observed explanatory power of the chosen benchmark covariate(s).\n",
            "\n",
            " Bound Label R2dz.x R2yz.dx Treatment Adjusted Estimate Adjusted Se Adjusted T\n",
            "      1x BMI 0.0007  0.0008       cat            0.1798      0.0785     2.2914\n",
            "      5x BMI 0.0037  0.0039       cat            0.1614      0.0785     2.0571\n",
            "     10x BMI 0.0074  0.0079       cat            0.1383      0.0785     1.7632\n",
            "     20x BMI 0.0148  0.0158       cat            0.0919      0.0784     1.1718\n",
            "     40x BMI 0.0295  0.0316       cat           -0.0020      0.0784    -0.0253\n",
            " Adjusted Lower CI Adjusted Upper CI\n",
            "            0.0260            0.3337\n",
            "            0.0076            0.3153\n",
            "           -0.0155            0.2922\n",
            "           -0.0619            0.2457\n",
            "           -0.1557            0.1517\n"
          ]
        }
      ]
    },
    {
      "cell_type": "code",
      "metadata": {
        "colab": {
          "base_uri": "https://localhost:8080/",
          "height": 437
        },
        "id": "ujHbGzJ8008i",
        "outputId": "dec9fc55-5c94-48ae-8597-61fc4153b595"
      },
      "source": [
        "plot(sens, label.text=FALSE,sensitivity.of = \"t-value\", cex.label.text = 0.0001)"
      ],
      "execution_count": null,
      "outputs": [
        {
          "output_type": "display_data",
          "data": {
            "image/png": "[encoded data removed]",
            "text/plain": [
              "plot without title"
            ]
          },
          "metadata": {
            "image/png": {
              "width": 420,
              "height": 420
            }
          }
        }
      ]
    },
    {
      "cell_type": "markdown",
      "metadata": {
        "id": "0__h9Z2mv9Fv"
      },
      "source": [
        "*Falfification Tests*"
      ]
    },
    {
      "cell_type": "code",
      "metadata": {
        "id": "01PFfo_Sr8OJ"
      },
      "source": [
        "\n",
        "\n",
        "#load the dataset with not hydromorphone given intraop\n",
        "dil1=read.csv(\"dilno.csv\")\n",
        "\n",
        "#perform same transformations, except for day 2 which we do not have\n",
        "dil1=dil1%>%\n",
        "mutate(MSO4_EQUIV_DOSE_IV_DAY1=ifelse(is.na(MSO4_EQUIV_DOSE_IV_DAY1)&!is.na(MAX_PAIN_SCORE_DAY1),0,MSO4_EQUIV_DOSE_IV_DAY1))%>% \n",
        "\n",
        "mutate(MSO4_EQUIV_DOSE_PO_DAY1=ifelse(is.na(MSO4_EQUIV_DOSE_PO_DAY1)&!is.na(MAX_PAIN_SCORE_DAY1),0,MSO4_EQUIV_DOSE_PO_DAY1))%>%\n",
        "\n",
        "mutate(EQUIV_MSO4_IV_DOSE_60=ifelse(is.na(EQUIV_MSO4_IV_DOSE_60)&!is.na(FIRST_PAIN_SCORE),0,EQUIV_MSO4_IV_DOSE_60))%>%\n",
        "mutate(EQUIV_MSO4_IV_DOSE_120=ifelse(is.na(EQUIV_MSO4_IV_DOSE_120)&!is.na(FIRST_PAIN_SCORE),0,EQUIV_MSO4_IV_DOSE_120))%>%\n",
        "mutate(POSTOP_MSO4_EQUIV_IV_TOTAL=ifelse(is.na(POSTOP_MSO4_EQUIV_IV_TOTAL)&!is.na(FIRST_PAIN_SCORE),0,POSTOP_MSO4_EQUIV_IV_TOTAL))%>%\n",
        "mutate(POSTOP_MSO4_EQUIV_PO_TOTAL=ifelse(is.na(POSTOP_MSO4_EQUIV_PO_TOTAL)&!is.na(FIRST_PAIN_SCORE),0,POSTOP_MSO4_EQUIV_PO_TOTAL))%>%\n",
        "mutate(FENTANYL_MG=ifelse(is.na(FENTANYL_MG),0,FENTANYL_MG))%>%\n",
        "#when fentanyl is missing, it means that 0 fentanyl was given intraoperatively\n",
        "mutate(ANES_TYPE_HANDOFF=ifelse(ANES_TYPE_HANDOFF==\"GENERAL\",1,0))%>%\n",
        "#I create a variable \"general\" which is 1 if the patient had only general, and 0 otherwise\n",
        "filter(BMI<120)%>% #120 #as these are likely errors where weight went into the BMI field\n",
        "filter(UCLA_LOC_GROUP==\"RR OR\"|UCLA_LOC_GROUP==\"SM OR\")%>%\n",
        "filter(DURATION<1500)%>%\n",
        "\n",
        "\n",
        "mutate(case=1)%>%\n",
        "mutate(case=ifelse(CASE_SRV_NAME==\"Dentistry-Hospital\"|CASE_SRV_NAME==\"Pediatrics, Hematology and Oncology\"|\n",
        "                   CASE_SRV_NAME==\"Medicine, Hematology and Oncology\"|CASE_SRV_NAME==\"Ophthalmology\"|\n",
        "                   CASE_SRV_NAME==\"Podiatry\"|CASE_SRV_NAME==\"Radiology\"|CASE_SRV_NAME==\"Medicine, Gastroenterology\"\n",
        "                   |CASE_SRV_NAME==\"Medicine, Pulmonary Disease\",2,case))%>%\n",
        "mutate(case=ifelse(CASE_SRV_NAME==\"Surgery, Cardiac\",0,case))\n"
      ],
      "execution_count": null,
      "outputs": []
    },
    {
      "cell_type": "code",
      "metadata": {
        "colab": {
          "base_uri": "https://localhost:8080/",
          "height": 34
        },
        "id": "KyeCcyrKaBC9",
        "outputId": "05859ee7-16a6-4346-9e57-981f6d6cff52"
      },
      "source": [
        "dil1=dil1%>%\n",
        "filter(DAY_SINCE_INTERVENTION<142)%>%\n",
        "filter(DAY_SINCE_INTERVENTION>-250)%>%\n",
        "mutate(cat=0)%>%\n",
        "mutate(cat=ifelse(DAY_SINCE_INTERVENTION>=0 &DAY_SINCE_INTERVENTION<=142,1,cat))\n",
        "#remove 3 days around the change point\n",
        "#filter(DAY_SINCE_INTERVENTION <(-3) |DAY_SINCE_INTERVENTION >3)\n",
        "dim(dil1)"
      ],
      "execution_count": null,
      "outputs": [
        {
          "output_type": "display_data",
          "data": {
            "text/plain": [
              "[1] 10408    53"
            ],
            "text/latex": "\\begin{enumerate*}\n\\item 10408\n\\item 53\n\\end{enumerate*}\n",
            "text/markdown": "1. 10408\n2. 53\n\n\n",
            "text/html": [
              "<style>\n",
              ".list-inline {list-style: none; margin:0; padding: 0}\n",
              ".list-inline>li {display: inline-block}\n",
              ".list-inline>li:not(:last-child)::after {content: \"\\00b7\"; padding: 0 .5ex}\n",
              "</style>\n",
              "<ol class=list-inline><li>10408</li><li>53</li></ol>\n"
            ]
          },
          "metadata": {}
        }
      ]
    },
    {
      "cell_type": "code",
      "metadata": {
        "id": "vy706949PwFX"
      },
      "source": [
        "\n",
        "firstpain=(lm(FIRST_PAIN_SCORE~cat,data=dil1))"
      ],
      "execution_count": null,
      "outputs": []
    },
    {
      "cell_type": "code",
      "metadata": {
        "id": "5uSe50ZVaHDz"
      },
      "source": [
        "\n",
        "\n",
        "firstpain=(lm(FIRST_PAIN_SCORE~cat,data=dil1))\n",
        "lastpain=(lm(LAST_PAIN_SCORE~cat,data=dil1))\n",
        "avepain1=(lm(AVG_PAIN_SCORE_DAY1~cat,data=dil1))\n",
        "\n",
        "maxpain1=(lm(MAX_PAIN_SCORE_DAY1~cat,data=dil1))\n",
        "\n",
        "\n",
        "\n",
        "\n",
        "firstpaina=(lm(FIRST_PAIN_SCORE~cat,data=dil))\n",
        "lastpaina=(lm(LAST_PAIN_SCORE~cat,data=dil))\n",
        "avepain1a=(lm(AVG_PAIN_SCORE_DAY1~cat,dat=dil))\n",
        "maxpain1a=(lm(MAX_PAIN_SCORE_DAY1~cat,data=dil))"
      ],
      "execution_count": null,
      "outputs": []
    },
    {
      "cell_type": "code",
      "metadata": {
        "id": "VIYZAXgYaUJ0"
      },
      "source": [
        "models <- list(\n",
        "  \"firstpain\"     = firstpain,\n",
        "  \"Last Pain\" = lastpain,    \n",
        "    \"avepain1\"=avepain1,\n",
        "\n",
        "    'maxpain1'=maxpain1\n",
        ")\n",
        "\n",
        "models1 <- list(\n",
        "  \"1st Pain\"     = firstpaina,\n",
        "  \"Last Pain\" = lastpaina,    \n",
        "    \"avepain1\"=avepain1a,\n",
        "\n",
        "    'maxpain1'=maxpain1a\n",
        "  \n",
        ")\n"
      ],
      "execution_count": null,
      "outputs": []
    },
    {
      "cell_type": "code",
      "metadata": {
        "colab": {
          "base_uri": "https://localhost:8080/",
          "height": 697
        },
        "id": "fnr8LnGZbKu6",
        "outputId": "262f30aa-ef9f-42df-cea7-7f1479fcd357"
      },
      "source": [
        "\n",
        "modelsummary(models,estimate  =   \"Estimate= {estimate}\",\n",
        "  statistic = c(\"CI={conf.low}, {conf.high}\",\"p = {p.value}\"),\n",
        "\n",
        "coef_omit = \"Intercept\",gof_omit = 'R2|R2 Adj|F|AIC|BIC|Log.Lik', fmt=2, output = \"latex\")\n",
        "\n",
        "\n",
        "modelsummary(models1,estimate  =   \"Estimate= {estimate}\",\n",
        "  statistic = c(\"CI={conf.low}, {conf.high}\",\"p = {p.value}\"),\n",
        "\n",
        "coef_omit = \"Intercept\",gof_omit = 'R2|R2 Adj|F|AIC|BIC|Log.Lik', fmt=2, output = \"latex\")"
      ],
      "execution_count": null,
      "outputs": [
        {
          "output_type": "stream",
          "name": "stderr",
          "text": [
            "Warning message:\n",
            "“To compile a LaTeX document with this table, the following commands must be placed in the document preamble:\n",
            "\n",
            "\\usepackage{booktabs}\n",
            "\\usepackage{siunitx}\n",
            "\\newcolumntype{d}{S[input-symbols = ()]}\n",
            "\n",
            "To disable `siunitx` and prevent `modelsummary` from wrapping numeric entries in `\\num{}`, call:\n",
            "\n",
            "options(\"modelsummary_format_numeric_latex\" = \"plain\")\n",
            "\n",
            "\u001b[90mThis warning is displayed once per session.\u001b[39m”\n"
          ]
        },
        {
          "output_type": "display_data",
          "data": {
            "text/plain": [
              "\\begin{table}\n",
              "\\centering\n",
              "\\begin{tabular}[t]{lcccc}\n",
              "\\toprule\n",
              "  & firstpain & Last Pain & avepain1 & maxpain1\\\\\n",
              "\\midrule\n",
              "cat & Estimate= \\num{0.06} & Estimate= \\num{-0.01} & Estimate= \\num{-0.06} & Estimate= \\num{-0.05}\\\\\n",
              " & CI=\\num{-0.08}, \\num{0.19} & CI=\\num{-0.11}, \\num{0.09} & CI=\\num{-0.15}, \\num{0.03} & CI=\\num{-0.20}, \\num{0.09}\\\\\n",
              " & p = \\num{0.41} & p = \\num{0.87} & p = \\num{0.21} & p = \\num{0.47}\\\\\n",
              "\\midrule\n",
              "Num.Obs. & \\num{9664} & \\num{9664} & \\num{10135} & \\num{10135}\\\\\n",
              "\\bottomrule\n",
              "\\end{tabular}\n",
              "\\end{table}"
            ]
          },
          "metadata": {}
        },
        {
          "output_type": "display_data",
          "data": {
            "text/plain": [
              "\\begin{table}\n",
              "\\centering\n",
              "\\begin{tabular}[t]{lcccc}\n",
              "\\toprule\n",
              "  & 1st Pain & Last Pain & avepain1 & maxpain1\\\\\n",
              "\\midrule\n",
              "cat & Estimate= \\num{0.50} & Estimate= \\num{0.15} & Estimate= \\num{0.17} & Estimate= \\num{0.23}\\\\\n",
              " & CI=\\num{0.31}, \\num{0.69} & CI=\\num{0.01}, \\num{0.28} & CI=\\num{0.05}, \\num{0.29} & CI=\\num{0.07}, \\num{0.38}\\\\\n",
              " & p = \\num{0.00} & p = \\num{0.03} & p = \\num{0.00} & p = \\num{0.00}\\\\\n",
              "\\midrule\n",
              "Num.Obs. & \\num{6505} & \\num{6505} & \\num{6662} & \\num{6662}\\\\\n",
              "\\bottomrule\n",
              "\\end{tabular}\n",
              "\\end{table}"
            ]
          },
          "metadata": {}
        }
      ]
    },
    {
      "cell_type": "code",
      "metadata": {
        "id": "jXoqYLFBwRV-"
      },
      "source": [
        "dil1=dil0\n",
        "#create saved version of dataset before removing dates\n",
        "\n",
        "#the primary dataset will use these days, for sensitivity analysis will redo with the dil0 dataset\n",
        "dil1=dil1%>%\n",
        "filter(DAY_SINCE_INTERVENTION<142)%>%\n",
        "filter(DAY_SINCE_INTERVENTION>-500)%>%\n",
        "mutate(cat=0)%>%\n",
        "mutate(cat=ifelse(DAY_SINCE_INTERVENTION>=0 &DAY_SINCE_INTERVENTION<=142,1,cat))%>%\n",
        "#remove 3 days around the change point\n",
        "filter(DAY_SINCE_INTERVENTION <(-3) |DAY_SINCE_INTERVENTION >3)\n"
      ],
      "execution_count": null,
      "outputs": []
    },
    {
      "cell_type": "code",
      "metadata": {
        "id": "1nDTvqGj389-",
        "colab": {
          "base_uri": "https://localhost:8080/",
          "height": 374
        },
        "outputId": "90b4da63-8c8a-4a92-9abf-78ed7b10c9a6"
      },
      "source": [
        "citation()\n"
      ],
      "execution_count": null,
      "outputs": [
        {
          "output_type": "display_data",
          "data": {
            "text/plain": [
              "\n",
              "To cite R in publications use:\n",
              "\n",
              "  R Core Team (2021). R: A language and environment for statistical\n",
              "  computing. R Foundation for Statistical Computing, Vienna, Austria.\n",
              "  URL https://www.R-project.org/.\n",
              "\n",
              "A BibTeX entry for LaTeX users is\n",
              "\n",
              "  @Manual{,\n",
              "    title = {R: A Language and Environment for Statistical Computing},\n",
              "    author = {{R Core Team}},\n",
              "    organization = {R Foundation for Statistical Computing},\n",
              "    address = {Vienna, Austria},\n",
              "    year = {2021},\n",
              "    url = {https://www.R-project.org/},\n",
              "  }\n",
              "\n",
              "We have invested a lot of time and effort in creating R, please cite it\n",
              "when using it for data analysis. See also ‘citation(\"pkgname\")’ for\n",
              "citing R packages.\n"
            ]
          },
          "metadata": {}
        }
      ]
    },
    {
      "cell_type": "code",
      "metadata": {
        "colab": {
          "base_uri": "https://localhost:8080/",
          "height": 323
        },
        "id": "bkpsuPQKSKlP",
        "outputId": "5a845844-5bf8-494c-a30b-5891d878f4ce"
      },
      "source": [
        "\n",
        "citation(\"ivreg\")"
      ],
      "execution_count": null,
      "outputs": [
        {
          "output_type": "display_data",
          "data": {
            "text/plain": [
              "\n",
              "To cite package ‘ivreg’ in publications use:\n",
              "\n",
              "  John Fox, Christian Kleiber and Achim Zeileis (2021). ivreg:\n",
              "  Instrumental-Variables Regression by '2SLS', '2SM', or '2SMM', with\n",
              "  Diagnostics. R package version 0.6-0.\n",
              "  https://CRAN.R-project.org/package=ivreg\n",
              "\n",
              "A BibTeX entry for LaTeX users is\n",
              "\n",
              "  @Manual{,\n",
              "    title = {ivreg: Instrumental-Variables Regression by '2SLS', '2SM', or '2SMM',\n",
              "with Diagnostics},\n",
              "    author = {John Fox and Christian Kleiber and Achim Zeileis},\n",
              "    year = {2021},\n",
              "    note = {R package version 0.6-0},\n",
              "    url = {https://CRAN.R-project.org/package=ivreg},\n",
              "  }\n"
            ]
          },
          "metadata": {}
        }
      ]
    },
    {
      "cell_type": "code",
      "metadata": {
        "colab": {
          "base_uri": "https://localhost:8080/",
          "height": 323
        },
        "id": "iVSUQyKqSgnp",
        "outputId": "069343c4-409a-4c63-edd1-b9c9e1b84e99"
      },
      "source": [
        "citation(\"tableone\")"
      ],
      "execution_count": null,
      "outputs": [
        {
          "output_type": "display_data",
          "data": {
            "text/plain": [
              "\n",
              "To cite package ‘tableone’ in publications use:\n",
              "\n",
              "  Kazuki Yoshida and Alexander Bartel (2021). tableone: Create 'Table\n",
              "  1' to Describe Baseline Characteristics with or without Propensity\n",
              "  Score Weights. R package version 0.13.0.\n",
              "  https://CRAN.R-project.org/package=tableone\n",
              "\n",
              "A BibTeX entry for LaTeX users is\n",
              "\n",
              "  @Manual{,\n",
              "    title = {tableone: Create 'Table 1' to Describe Baseline Characteristics with or\n",
              "without Propensity Score Weights},\n",
              "    author = {Kazuki Yoshida and Alexander Bartel},\n",
              "    year = {2021},\n",
              "    note = {R package version 0.13.0},\n",
              "    url = {https://CRAN.R-project.org/package=tableone},\n",
              "  }\n"
            ]
          },
          "metadata": {}
        }
      ]
    },
    {
      "cell_type": "code",
      "metadata": {
        "id": "syM8uxbRTVpd",
        "colab": {
          "base_uri": "https://localhost:8080/",
          "height": 323
        },
        "outputId": "e0bdeb81-e55a-43ce-a988-46117c0a3fa3"
      },
      "source": [
        "citation(\"modelsummary\")"
      ],
      "execution_count": null,
      "outputs": [
        {
          "output_type": "display_data",
          "data": {
            "text/plain": [
              "\n",
              "To cite package ‘modelsummary’ in publications use:\n",
              "\n",
              "  Vincent Arel-Bundock (2021). modelsummary: Summary Tables and Plots\n",
              "  for Statistical Models and Data: Beautiful, Customizable, and\n",
              "  Publication-Ready. R package version 0.9.2.\n",
              "  https://CRAN.R-project.org/package=modelsummary\n",
              "\n",
              "A BibTeX entry for LaTeX users is\n",
              "\n",
              "  @Manual{,\n",
              "    title = {modelsummary: Summary Tables and Plots for Statistical Models and Data:\n",
              "Beautiful, Customizable, and Publication-Ready},\n",
              "    author = {Vincent Arel-Bundock},\n",
              "    year = {2021},\n",
              "    note = {R package version 0.9.2},\n",
              "    url = {https://CRAN.R-project.org/package=modelsummary},\n",
              "  }\n"
            ]
          },
          "metadata": {}
        }
      ]
    },
    {
      "cell_type": "code",
      "metadata": {
        "id": "PxO-i8hkTXp-"
      },
      "source": [
        ""
      ],
      "execution_count": null,
      "outputs": []
    }
  ]
}